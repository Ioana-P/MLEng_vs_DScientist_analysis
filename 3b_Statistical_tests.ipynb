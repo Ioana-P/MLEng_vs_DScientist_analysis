{
 "cells": [
  {
   "cell_type": "markdown",
   "metadata": {},
   "source": [
    "<a id=contents></a>\n",
    "\n",
    "# Exploring differences in salary between Data Scientists, Analysts and Machine Learning Engineers\n",
    "\n",
    "\n",
    "\n",
    "[1. Exploratory data analysis](#one)\n",
    "\n",
    "[2. Selecting a statistical test](#stat)\n",
    "\n",
    "[3. Summary of findings](#conc)"
   ]
  },
  {
   "cell_type": "code",
   "execution_count": 21,
   "metadata": {},
   "outputs": [
    {
     "name": "stdout",
     "output_type": "stream",
     "text": [
      "The autoreload extension is already loaded. To reload it, use:\n",
      "  %reload_ext autoreload\n"
     ]
    }
   ],
   "source": [
    "# %matplotlib widget\n",
    "\n",
    "import pandas as pd\n",
    "import numpy as np\n",
    "\n",
    "import matplotlib.pyplot as plt\n",
    "import seaborn as sns\n",
    "import plotly as pt\n",
    "import plotly_express as px\n",
    "\n",
    "from scipy import stats\n",
    "\n",
    "from statsmodels.graphics.gofplots import qqplot as sm_qq\n",
    "\n",
    "%matplotlib inline\n",
    "sns.set_style(\"darkgrid\")\n",
    "\n",
    "import warnings\n",
    "warnings.filterwarnings('ignore')\n",
    "\n",
    "import functions as fn\n",
    "import stats_tests as st\n",
    "\n",
    "%load_ext autoreload\n",
    "%autoreload 2"
   ]
  },
  {
   "cell_type": "markdown",
   "metadata": {},
   "source": [
    "<a id=one ><a/> \n",
    "\n",
    "# 1. EDA \n",
    "    \n",
    "[LINK to table of contents](#contents)"
   ]
  },
  {
   "cell_type": "markdown",
   "metadata": {},
   "source": [
    "Please note that this data is \"from the wild\" - it was webscraped in a period between March and June of 2020 with 3 separate searches. The number of jobs varies between the 3 categories, naturally, and there are several key assumptions in our data collection that we must take note of:\n",
    "\n",
    "1. Data posts off indeed.co.uk in this period are representative of the respective jobs across the London market;\n",
    "2. The posts were scraped in the order that they came up in the search (which was ordered by decreasing 'relevance', where the relevance was decided by the website indeed.co.uk) - we're assuming that the most pertinent posts came up first\n",
    "**3. Searches for one category invariably brings up results for another in the mix: if I search \"data scientist\", amongst the searches I will get results for \"analyst\" and \"MLEng\" jobs as well. This is a crucial point to note that there categories overlap - that is not to say there are duplicates, as these were removed. If we wanted to be more strict in our search we could use regex to trim the categories via job title using regex. However, I have reasoned that the reason for the results coming up mixed is more a reflection of the blurry lines between the roles. Thus, if we go forward with the assumption that whenever we are referring to a \"DS\" job, we are actually referring to a \"searched for DS\" job, then we retain a crucial detail. After all, if this information is to be useful for job searchers, we're trying to compare whether a job searcher should directly type in \"data scientist\" or \"data analyst\" or \"machine learning engineer\". From that perpective, our investigation remains valid.**\n",
    "\n",
    "Notes on preprocessing: In a previous notebook (4b_Data_preprocessing.ipynb) I had done the following:\n",
    "* extracted salary and salary ranges via regex from the description of the job\n",
    "* where a range was given, I averaged\n",
    "* with multiple intervals given for salary, I produced an additional column, where salary was stated per hour\n",
    "* there is also an additional column stating what time interval was  given (e.g. Y - year; w - week), in case you'd want to use different sections of the data."
   ]
  },
  {
   "cell_type": "code",
   "execution_count": 22,
   "metadata": {},
   "outputs": [],
   "source": [
    "# load our data\n",
    "df = pd.read_csv('clean_data/salary_data.csv', index_col=0)"
   ]
  },
  {
   "cell_type": "markdown",
   "metadata": {},
   "source": [
    "How many jobs actually advertise their salary? If our data is representative, then this is not a pretty sight:\n"
   ]
  },
  {
   "cell_type": "code",
   "execution_count": 23,
   "metadata": {},
   "outputs": [
    {
     "data": {
      "text/plain": [
       "986"
      ]
     },
     "execution_count": 23,
     "metadata": {},
     "output_type": "execute_result"
    }
   ],
   "source": [
    "df.searched__data_analyst.value_counts()[1]"
   ]
  },
  {
   "cell_type": "code",
   "execution_count": 24,
   "metadata": {},
   "outputs": [
    {
     "data": {
      "image/png": "[encoded data removed]",
      "text/plain": [
       "<Figure size 432x288 with 1 Axes>"
      ]
     },
     "metadata": {},
     "output_type": "display_data"
    }
   ],
   "source": [
    "sns.barplot(x = ['DA', 'DS', 'MLEng'], \n",
    "            y = [df.searched__data_analyst.value_counts()[1],\n",
    "                 df.searched__data_scientist.value_counts()[1],\n",
    "                 df.searched__machine_learning_engineer.value_counts()[1]]);\n",
    "plt.title('Respective amounts of jobs in each search category');"
   ]
  },
  {
   "cell_type": "code",
   "execution_count": 25,
   "metadata": {},
   "outputs": [
    {
     "name": "stdout",
     "output_type": "stream",
     "text": [
      "The percentage of jobs in our sample that openly state any kind of salary range is 38.31\n"
     ]
    }
   ],
   "source": [
    "print('The percentage of jobs in our sample that openly state any kind of salary range is {}'.format(round(100* len(df.loc[~df.salary_from_page_source_as_stated.isna()])/len(df),2)))"
   ]
  },
  {
   "cell_type": "code",
   "execution_count": 26,
   "metadata": {},
   "outputs": [
    {
     "name": "stdout",
     "output_type": "stream",
     "text": [
      "The absolute nr of DS jobs in our sample that openly state any kind of salary range is     202\n",
      "The absolute nr of DA jobs in our sample that openly state any kind of salary range is     426\n",
      "The absolute nr of ML Eng jobs in our sample that openly state any kind of salary range is 219\n"
     ]
    }
   ],
   "source": [
    "print('The absolute nr of DS jobs in our sample that openly state any kind of salary range is     {}'.format((len(df.loc[~df.salary_from_page_source_as_stated.isna() & df.searched__data_scientist==1]))))\n",
    "print('The absolute nr of DA jobs in our sample that openly state any kind of salary range is     {}'.format((len(df.loc[~df.salary_from_page_source_as_stated.isna() & df.searched__data_analyst==1]))))\n",
    "print('The absolute nr of ML Eng jobs in our sample that openly state any kind of salary range is {}'.format(len(df.loc[~df.salary_from_page_source_as_stated.isna() & df.searched__machine_learning_engineer==1])))"
   ]
  },
  {
   "cell_type": "code",
   "execution_count": 27,
   "metadata": {},
   "outputs": [
    {
     "name": "stdout",
     "output_type": "stream",
     "text": [
      "The percentage of DS jobs in our sample that openly state any kind of salary range is     37.06\n",
      "The percentage of DA jobs in our sample that openly state any kind of salary range is     43.2\n",
      "The percentage of ML Eng jobs in our sample that openly state any kind of salary range is 32.21\n"
     ]
    }
   ],
   "source": [
    "print('The percentage of DS jobs in our sample that openly state any kind of salary range is     {}'.format(round(100* len(df.loc[~df.salary_from_page_source_as_stated.isna() & df.searched__data_scientist==1])/len(df.loc[df.searched__data_scientist==1]),2)))\n",
    "print('The percentage of DA jobs in our sample that openly state any kind of salary range is     {}'.format(round(100* len(df.loc[~df.salary_from_page_source_as_stated.isna() & df.searched__data_analyst==1])/len(df.loc[df.searched__data_analyst==1]),2)))\n",
    "print('The percentage of ML Eng jobs in our sample that openly state any kind of salary range is {}'.format(round(100* len(df.loc[~df.salary_from_page_source_as_stated.isna() & df.searched__machine_learning_engineer==1])/len(df.loc[df.searched__machine_learning_engineer==1]),2)))"
   ]
  },
  {
   "cell_type": "code",
   "execution_count": 28,
   "metadata": {},
   "outputs": [
    {
     "data": {
      "text/plain": [
       "Y    0.858156\n",
       "D    0.111111\n",
       "W    0.020095\n",
       "H    0.008274\n",
       "M    0.002364\n",
       "Name: salary_from_page_source_time_period, dtype: float64"
      ]
     },
     "execution_count": 28,
     "metadata": {},
     "output_type": "execute_result"
    }
   ],
   "source": [
    "df.salary_from_page_source_time_period.value_counts(True)"
   ]
  },
  {
   "cell_type": "code",
   "execution_count": 29,
   "metadata": {},
   "outputs": [
    {
     "data": {
      "text/plain": [
       "Y    0.900990\n",
       "D    0.059406\n",
       "W    0.024752\n",
       "H    0.009901\n",
       "M    0.004950\n",
       "Name: salary_from_page_source_time_period, dtype: float64"
      ]
     },
     "execution_count": 29,
     "metadata": {},
     "output_type": "execute_result"
    }
   ],
   "source": [
    "df.loc[df.searched__data_scientist==1].salary_from_page_source_time_period.value_counts(True)"
   ]
  },
  {
   "cell_type": "code",
   "execution_count": 30,
   "metadata": {},
   "outputs": [
    {
     "data": {
      "text/plain": [
       "Y    0.807512\n",
       "D    0.161972\n",
       "W    0.016432\n",
       "H    0.011737\n",
       "M    0.002347\n",
       "Name: salary_from_page_source_time_period, dtype: float64"
      ]
     },
     "execution_count": 30,
     "metadata": {},
     "output_type": "execute_result"
    }
   ],
   "source": [
    "df.loc[df.searched__data_analyst==1].salary_from_page_source_time_period.value_counts(True)"
   ]
  },
  {
   "cell_type": "code",
   "execution_count": 31,
   "metadata": {},
   "outputs": [
    {
     "data": {
      "text/plain": [
       "Y    0.917431\n",
       "D    0.059633\n",
       "W    0.022936\n",
       "Name: salary_from_page_source_time_period, dtype: float64"
      ]
     },
     "execution_count": 31,
     "metadata": {},
     "output_type": "execute_result"
    }
   ],
   "source": [
    "df.loc[df.searched__machine_learning_engineer==1].salary_from_page_source_time_period.value_counts(True)"
   ]
  },
  {
   "cell_type": "code",
   "execution_count": 32,
   "metadata": {},
   "outputs": [
    {
     "data": {
      "image/png": "[encoded data removed]",
      "text/plain": [
       "<Figure size 792x792 with 1 Axes>"
      ]
     },
     "metadata": {},
     "output_type": "display_data"
    }
   ],
   "source": [
    "plt.figure(figsize=(11,11))\n",
    "sns.distplot(df.loc[df['searched__data_scientist']==1].salary_from_page_source_conv_hourly, color='b', label='DS', bins=20)\n",
    "sns.distplot(df.loc[df['searched__data_analyst']==1].salary_from_page_source_conv_hourly, color='y', label='DA', bins=20)\n",
    "sns.distplot(df.loc[df['searched__machine_learning_engineer']==1].salary_from_page_source_conv_hourly, color='r', label='MLeng', bins=20)\n",
    "plt.title('HOURLY salary distributions for Data Scientists and ML Engineers')\n",
    "plt.legend()\n",
    "plt.savefig('fig/salary_per_hour.jpeg')\n",
    "plt.show();"
   ]
  },
  {
   "cell_type": "code",
   "execution_count": 33,
   "metadata": {},
   "outputs": [
    {
     "data": {
      "image/png": "[encoded data removed]",
      "text/plain": [
       "<Figure size 792x792 with 1 Axes>"
      ]
     },
     "metadata": {},
     "output_type": "display_data"
    }
   ],
   "source": [
    "plt.figure(figsize=(11,11))\n",
    "sns.distplot(df.loc[((df['searched__data_scientist']==1) & (df.salary_from_page_source_time_period=='Y'))].salary_from_page_source_as_stated, color='b', label='DS', bins=20)\n",
    "sns.distplot(df.loc[((df['searched__data_analyst']==1) & (df.salary_from_page_source_time_period=='Y'))].salary_from_page_source_as_stated, color='y', label='DA', bins=20)\n",
    "sns.distplot(df.loc[((df['searched__machine_learning_engineer']==1) & (df.salary_from_page_source_time_period=='Y'))].salary_from_page_source_as_stated, color='r', label='MLeng', bins=20)\n",
    "plt.title('YEARLY salary distributions for Data Scientists and ML Engineers \\n (where yearly salary was declared)')\n",
    "plt.legend()\n",
    "plt.savefig('fig/yearly_salary_dist.jpeg')\n",
    "plt.show();"
   ]
  },
  {
   "cell_type": "markdown",
   "metadata": {},
   "source": [
    "Below we separate our data for convenience. We will be looking purely at yearly declared data, since it carries fewer assumptions with it. "
   ]
  },
  {
   "cell_type": "code",
   "execution_count": 34,
   "metadata": {},
   "outputs": [],
   "source": [
    "salary_df = df.loc[df.salary_from_page_source_time_period=='Y'].drop(columns=['salary_from_page_source_conv_hourly', 'salary_from_page_source_time_period'])\n",
    "#data analyst data\n",
    "da_df = salary_df.loc[salary_df.searched__data_analyst==1].drop(columns=['searched__data_analyst','searched__data_scientist', 'searched__machine_learning_engineer'])\n",
    "# data scientist data\n",
    "ds_df = salary_df.loc[salary_df.searched__data_scientist==1].drop(columns=['searched__data_analyst','searched__data_scientist', 'searched__machine_learning_engineer'])\n",
    "# ml engineer data\n",
    "me_df = salary_df.loc[salary_df.searched__machine_learning_engineer==1].drop(columns=['searched__data_analyst','searched__data_scientist', 'searched__machine_learning_engineer'])"
   ]
  },
  {
   "cell_type": "code",
   "execution_count": 35,
   "metadata": {},
   "outputs": [],
   "source": [
    "# df['search_term'] = \n",
    "salary_df['search_term'] = 0\n",
    "\n",
    "salary_df.loc[salary_df['searched__data_analyst']==1 , 'search_term'] = 'data analyst'\n",
    "salary_df.loc[salary_df['searched__data_scientist']==1, 'search_term'] = 'data scientist'\n",
    "salary_df.loc[salary_df['searched__machine_learning_engineer']==1 , 'search_term'] = 'machine learning engineer'"
   ]
  },
  {
   "cell_type": "code",
   "execution_count": 51,
   "metadata": {
    "collapsed": true,
    "jupyter": {
     "outputs_hidden": true
    }
   },
   "outputs": [
    {
     "data": {
      "application/vnd.plotly.v1+json": {
       "config": {
        "plotlyServerURL": "https://plot.ly"
       },
       "data": [
        {
         "alignmentgroup": "True",
         "bingroup": "x",
         "hovertemplate": "search_term=data scientist<br>salary_from_page_source_as_stated=%{x}<br>count=%{y}<extra></extra>",
         "legendgroup": "data scientist",
         "marker": {
          "color": "blue",
          "opacity": 0.6
         },
         "name": "data scientist",
         "nbinsx": 20,
         "offsetgroup": "data scientist",
         "orientation": "v",
         "showlegend": true,
         "type": "histogram",
         "x": [
          39853,
          35846,
          80000,
          25000,
          95000,
          65000,
          25000,
          60000,
          125000,
          80000,
          80000,
          60000,
          85000,
          90000,
          120000,
          95000,
          120000,
          70000,
          43805,
          35000,
          52248,
          55000,
          70000,
          70000,
          80000,
          72400,
          45000,
          100000,
          100000,
          80000,
          60000,
          50000,
          70000,
          75000,
          35165,
          55000,
          75000,
          75000,
          110000,
          90000,
          90000,
          97000,
          73295,
          90000,
          35000,
          75000,
          90000,
          110000,
          30000,
          80000,
          80000,
          140000,
          90000,
          120000,
          80000,
          160000,
          80000,
          100000,
          165000,
          55000,
          110000,
          100000,
          50000,
          80000,
          85000,
          65000,
          80000,
          60000,
          90000,
          110000,
          100000,
          70000,
          60000,
          120000,
          25000,
          90000,
          75000,
          90000,
          80000,
          40000,
          70000,
          50000,
          65000,
          85000,
          85000,
          80000,
          85000,
          70000,
          60000,
          65000,
          50000,
          18000,
          100000,
          65000,
          80000,
          140000,
          110000,
          100000,
          80000,
          120000,
          90000,
          60000,
          40000,
          70000,
          110000,
          110000,
          90000,
          35846,
          90000,
          70000,
          100000,
          120000,
          60000,
          100000,
          70000,
          95000,
          55000,
          70000,
          130000,
          85000,
          85000,
          70000,
          30000,
          75000,
          80000,
          120000,
          50000,
          80000,
          110000,
          55000,
          140000,
          60000,
          110000,
          75000,
          50000,
          50000,
          100000,
          110000,
          90000,
          125000,
          150000,
          35000,
          90000,
          55000,
          80000,
          37000,
          120000,
          100000,
          68000,
          90000,
          90000,
          86000,
          75000,
          70000,
          80000,
          130000,
          180000,
          70000,
          150000,
          60000,
          140000,
          85000,
          100000,
          80000,
          70000,
          60000,
          80000,
          100000,
          75000,
          70000,
          95000,
          85000,
          90000,
          85000,
          45000,
          60000,
          85000,
          80000,
          80000,
          86000,
          80000,
          70000
         ],
         "xaxis": "x",
         "yaxis": "y"
        },
        {
         "alignmentgroup": "True",
         "customdata": [
          [
           "Medicines and Healthcare products Regulatory Agency",
           39853
          ],
          [
           "UK Government - National Crime Agency",
           35846
          ],
          [
           "digital gut per Forfirm",
           80000
          ],
          [
           "Link Humans",
           25000
          ],
          [
           "SoulTek",
           95000
          ],
          [
           "Talenting",
           65000
          ],
          [
           "Boyce Recruitment",
           25000
          ],
          [
           "SoulTek",
           60000
          ],
          [
           "Oho Group",
           125000
          ],
          [
           "Peanut",
           80000
          ],
          [
           "Ampersand Consulting",
           80000
          ],
          [
           "Digital Recruitment Company",
           60000
          ],
          [
           "Xantura",
           85000
          ],
          [
           "Harnham",
           90000
          ],
          [
           "Oho Group",
           120000
          ],
          [
           "Talenting",
           95000
          ],
          [
           "Michael Page UK",
           120000
          ],
          [
           "Harnham",
           70000
          ],
          [
           "London South Bank University",
           43805
          ],
          [
           "Inspiring Interns",
           35000
          ],
          [
           "Ministry of Justice",
           52248
          ],
          [
           "NP Group",
           55000
          ],
          [
           "Tractable",
           70000
          ],
          [
           "GCS Recruitment Specialists Ltd",
           70000
          ],
          [
           "Consortia",
           80000
          ],
          [
           "Bank of England",
           72400
          ],
          [
           "Mana Search",
           45000
          ],
          [
           "NP Group",
           100000
          ],
          [
           "Client Server",
           100000
          ],
          [
           "Client Server",
           80000
          ],
          [
           "Harnham",
           60000
          ],
          [
           "myfuturerole.com",
           50000
          ],
          [
           "Metrica Recruitment",
           70000
          ],
          [
           "Harnham",
           75000
          ],
          [
           "ZEG.AI Ltd",
           35165
          ],
          [
           "Blue Legal",
           55000
          ],
          [
           "The Green Recruitment Company",
           75000
          ],
          [
           "Metrica Recruitment",
           75000
          ],
          [
           "Deerfoot",
           110000
          ],
          [
           "Consortia",
           90000
          ],
          [
           "Harnham",
           90000
          ],
          [
           "Datatech Analytics",
           97000
          ],
          [
           "UK Government - Institute for Apprenticeships and Technical Education",
           73295
          ],
          [
           "Salt Recruitment",
           90000
          ],
          [
           "Metrica Recruitment",
           35000
          ],
          [
           "Harnham",
           75000
          ],
          [
           "The Green Recruitment Company",
           90000
          ],
          [
           "Harnham",
           110000
          ],
          [
           "Datatech Analytics",
           30000
          ],
          [
           "Morgan McKinley",
           80000
          ],
          [
           "Michael Page UK",
           80000
          ],
          [
           "Ampersand Consulting",
           140000
          ],
          [
           "Venturi",
           90000
          ],
          [
           "Consortia",
           120000
          ],
          [
           "GCS Recruitment Specialists Ltd",
           80000
          ],
          [
           "Bodhi Resourcing",
           160000
          ],
          [
           "Taylor James Resourcing",
           80000
          ],
          [
           "Linux Recruit",
           100000
          ],
          [
           "Consortia",
           165000
          ],
          [
           "Metrica Recruitment",
           55000
          ],
          [
           "Harnham",
           110000
          ],
          [
           "Metrica Recruitment",
           100000
          ],
          [
           "Metrica Recruitment",
           50000
          ],
          [
           "GCS Recruitment Specialists Ltd",
           80000
          ],
          [
           "Harnham",
           85000
          ],
          [
           "Prolancer",
           65000
          ],
          [
           "Logikk",
           80000
          ],
          [
           "FACEIT",
           60000
          ],
          [
           "Harnham",
           90000
          ],
          [
           "Lawrence Harvey",
           110000
          ],
          [
           "Oho Group",
           100000
          ],
          [
           "GCS Recruitment Specialists Ltd",
           70000
          ],
          [
           "Mason Blake",
           60000
          ],
          [
           "Ampersand Consulting",
           120000
          ],
          [
           "Inspiring Interns",
           25000
          ],
          [
           "Consortia",
           90000
          ],
          [
           "Harnham",
           75000
          ],
          [
           "Datatech Analytics",
           90000
          ],
          [
           "Harnham",
           80000
          ],
          [
           "Metrica Recruitment",
           40000
          ],
          [
           "Oho Group",
           70000
          ],
          [
           "Metrica Recruitment",
           50000
          ],
          [
           "GCS Recruitment Specialists Ltd",
           65000
          ],
          [
           "Harnham",
           85000
          ],
          [
           "Harnham",
           85000
          ],
          [
           "Bettor Believe",
           80000
          ],
          [
           "Consortia",
           85000
          ],
          [
           "Moonshot CVE Ltd",
           70000
          ],
          [
           "Metrica Recruitment",
           60000
          ],
          [
           "Venturi",
           65000
          ],
          [
           "Combine AI",
           50000
          ],
          [
           "Discovery Graduates",
           18000
          ],
          [
           "Nicholson Glover Consulting",
           100000
          ],
          [
           "Harnham",
           65000
          ],
          [
           "Client Server",
           80000
          ],
          [
           "GCS Recruitment Specialists Ltd",
           140000
          ],
          [
           "Harnham",
           110000
          ],
          [
           "Kingsmead Global Ltd",
           100000
          ],
          [
           "Auxillium",
           80000
          ],
          [
           "Consortia",
           120000
          ],
          [
           "Datatech Analytics",
           90000
          ],
          [
           "Metrica Recruitment",
           60000
          ],
          [
           "Datatech Analytics",
           40000
          ],
          [
           "Metrica Recruitment",
           70000
          ],
          [
           "Lawrence Harvey",
           110000
          ],
          [
           "Oho Group",
           110000
          ],
          [
           "Datatech Analytics",
           90000
          ],
          [
           "Allen Lane",
           35846
          ],
          [
           "Datatech Analytics",
           90000
          ],
          [
           "Oho Group",
           70000
          ],
          [
           "Ampersand Consulting",
           100000
          ],
          [
           "Mana Search",
           120000
          ],
          [
           "Migacore Technologies",
           60000
          ],
          [
           "NP Group",
           100000
          ],
          [
           "MarkJames Search",
           70000
          ],
          [
           "Linux Recruit",
           95000
          ],
          [
           "Metrica Recruitment",
           55000
          ],
          [
           "IC Resources",
           70000
          ],
          [
           "Ultimate Asset",
           130000
          ],
          [
           "Prolancer",
           85000
          ],
          [
           "ShareForce",
           85000
          ],
          [
           "Harnham",
           70000
          ],
          [
           "Datatech Analytics",
           30000
          ],
          [
           "Cortex IT Recruitment",
           75000
          ],
          [
           "Aardvark Swift",
           80000
          ],
          [
           "SoCode",
           120000
          ],
          [
           "Datatech Analytics",
           50000
          ],
          [
           "Corecom Consulting",
           80000
          ],
          [
           "Oho Group",
           110000
          ],
          [
           "Venturi",
           55000
          ],
          [
           "Harnham",
           140000
          ],
          [
           "Metrica Recruitment",
           60000
          ],
          [
           "Oho Group",
           110000
          ],
          [
           "Warner Scott",
           75000
          ],
          [
           "Explore Group",
           50000
          ],
          [
           "Client Server",
           50000
          ],
          [
           "Brite Recruitment",
           100000
          ],
          [
           "Harnham",
           110000
          ],
          [
           "Harnham",
           90000
          ],
          [
           "Linux Recruit",
           125000
          ],
          [
           "Salt Recruitment",
           150000
          ],
          [
           "Datatech Analytics",
           35000
          ],
          [
           "Linux Recruit",
           90000
          ],
          [
           "re&m",
           55000
          ],
          [
           "Salt Recruitment",
           80000
          ],
          [
           "Permanent People",
           37000
          ],
          [
           "Ampersand Consulting",
           120000
          ],
          [
           "Brite Recruitment",
           100000
          ],
          [
           "kdr Recruitment",
           68000
          ],
          [
           "Harnham",
           90000
          ],
          [
           "Harnham",
           90000
          ],
          [
           "GCS Recruitment Specialists Ltd",
           86000
          ],
          [
           "Harnham",
           75000
          ],
          [
           "Cubiq Recruitment",
           70000
          ],
          [
           "Metrica Recruitment",
           80000
          ],
          [
           "Lawrence Harvey",
           130000
          ],
          [
           "Client Server",
           180000
          ],
          [
           "Harnham",
           70000
          ],
          [
           "Tribus Recruitment",
           150000
          ],
          [
           "Metrica Recruitment",
           60000
          ],
          [
           "Harnham",
           140000
          ],
          [
           "Understanding Recruitment",
           85000
          ],
          [
           "Touchpoint Resource Ltd",
           100000
          ],
          [
           "ShareForce",
           80000
          ],
          [
           "Harnham",
           70000
          ],
          [
           "Harnham",
           60000
          ],
          [
           "Movement8",
           80000
          ],
          [
           "ProArch",
           100000
          ],
          [
           "Linux Recruit",
           75000
          ],
          [
           "Callsign",
           70000
          ],
          [
           "Linux Recruit",
           95000
          ],
          [
           "Datatech Analytics",
           85000
          ],
          [
           "kdr Recruitment",
           90000
          ],
          [
           "GCS Recruitment Specialists Ltd",
           85000
          ],
          [
           "Metrica Recruitment",
           45000
          ],
          [
           "QuantSpark",
           60000
          ],
          [
           "GCS Recruitment Specialists Ltd",
           85000
          ],
          [
           "Callsign",
           80000
          ],
          [
           "Grey Matter Recruitment",
           80000
          ],
          [
           "GCS Recruitment Specialists Ltd",
           86000
          ],
          [
           "we source group",
           80000
          ],
          [
           "Harnham",
           70000
          ]
         ],
         "hovertemplate": "<b>%{hovertext}</b><br><br>search_term=data scientist<br>salary_from_page_source_as_stated=%{customdata[1]}<br>company=%{customdata[0]}<extra></extra>",
         "hovertext": [
          "CPRD Data Scientist",
          "G4 Lead Data Scientist - Cyber",
          "Data Scientist",
          "Data Scientist",
          "Data Scientist – Team Lead",
          "Data Scientist - Fintech",
          "Graduate Data Scientist with Arabic : contract / freelance",
          "Insights Data Scientist",
          "Quant Researcher/Data Scientist",
          "Senior Data Scientist / Machine learning engineer",
          "Data Scientist (NLP, Python, R, Linguistics)",
          "Data Scientist",
          "Principal Data Scientist",
          "Senior Fraud Data Scientist - Remote Working",
          "Quantitative Researcher - Data Scientist",
          "Lead Data Scientist",
          "Lead Data Scientist - London",
          "Fraud Data Scientist",
          "Lecturer in Machine Learning – Big Data (IoT) - REQ4743",
          "Junior Python Data Engineer/Scientist",
          "Senior Data Scientists Required in the Data & Analytical Services Directorate",
          "Data Scientist - NLP",
          "Business Intelligence Analyst",
          "Data Scientist | Python | Perm | London/Remote",
          "Data Scientist",
          "Principal Data Scientist",
          "Data Scientist",
          "Machine Learning Scientist",
          "Data Scientist - Trading",
          "Data Scientist Python",
          "Data Scientist - Healthcare",
          "Data Scientist",
          "Senior Data Scientist",
          "Product Data Scientist- Remote Working",
          "Deep Learning Intern (No Recruiters)",
          "Data Scientist",
          "Data Scientist",
          "FinTech Lead Data Scientist",
          "Artificial Intelligence Engineer / Data Scientist",
          "Senior Data Scientist",
          "Data Scientist - Machine Learning",
          "Lead Data Scientist",
          "G6 Data Science Team Leader",
          "Lead Data Scientist (FinTech startup)",
          "Econometric Analyst - Machine Learning",
          "Product Data Scientist",
          "Senior Data Scientist",
          "Data Scientist (Mid - Lead level)",
          "Insurance Data Scientist",
          "Senior Data Scientist - Consulting - London",
          "Forecasting Data Scientist",
          "Chief Data Scientist",
          "Data Scientist",
          "Head of Data Science",
          "Data Scientist",
          "Chief Data Scientist",
          "Data Scientist (Investment Background)",
          "Data Scientist - Machine Learning (Python/SQL)",
          "Data Science Director",
          "Data Scientist - Machine Learning",
          "Lead Data Scientist - Remote Working",
          "Lead Data Scientist",
          "Customer Data Scientist",
          "Remote or Cambridge Based Role - Data Scientist / Machine Learn",
          "Lead Data Scientist",
          "Data Scientist",
          "Senior Data Scientist - NLP/Research",
          "Data Scientist",
          "Lead Payments Fraud Data Scientist",
          "Principle Data Scientist - London - £110,000 + Benefits + Bonus",
          "Machine Learning Researcher - Causality",
          "Data Scientists (1x Mid, 1x Snr) - Python",
          "Data Scientist – Asset Management",
          "Chief Data Scientist (AI, Data Science)",
          "Data Scientist",
          "Lead Data Scientist",
          "Data Science - Fraud Analytics",
          "Data Science",
          "Senior Data Scientist - Remote Working",
          "Data Scientist - R& Python",
          "Machine Learning Researcher",
          "Data Scientist - Consultancy",
          "Remote or Cambridge Based - Data Scientist / Machine Learning",
          "Senior Data Scientist - Home Working",
          "Lead Fraud Data Scientist",
          "Machine Learning Researcher",
          "Data Scientist",
          "Data Scientist",
          "Research Data Scientist",
          "ML Engineer / Data Scientist",
          "Software Developer (Machine Learning and NLP)",
          "Data Science & Digital Marketing Apprentice",
          "Data Scientist",
          "Decision Scientist",
          "Data Engineer Python Machine Learning",
          "Head of Data Science - London - Creative",
          "Head of Data Science",
          "Lead Machine Learning Engineer/Data Scientist - Azure & Cloud Technology",
          "DevOps Engineer (AI, Deep Learning)",
          "Data Science & Engineering Manager",
          "Managing Consultant Data Science",
          "Principle Data Scientist",
          "Decision Scientist",
          "Senior Data Science Consultant",
          "French Speaking Data Scientist - London - £110k + Benefits!",
          "Machine Learning Engineer - Causality",
          "Priniciple Consultant Data Science",
          "G4 Lead Data Scientist – Multiple Locations*",
          "Principal Data Scientist - Director level",
          "Machine Learning Engineer",
          "Principal NLP Engineer (NLP, Python, Linguistics)",
          "Senior Data Scientist Manager",
          "Machine Learning Engineer",
          "NLP Engineer",
          "Marketing Analytics Manager",
          "Big Data Lead",
          "Data Science Consultant",
          "Machine Learning Engineer",
          "Data Science Director",
          "Machine Learning Engineer",
          "AI Engineers",
          "Data Science Analyst",
          "Data Science Manager",
          "Natural Language Processing Engineer PhD",
          "Head of Data Science - London, UK",
          "Machine Learning Researcher",
          "Data Science Web Developer",
          "Analytics Manager",
          "Director of Engineering - Machine Learning",
          "Machine Learning Engineer",
          "Machine Learning Engineer",
          "Data Science Consultant - R& Python",
          "Director of Engineering - AI",
          "Data Analytics Manager",
          "Technical Product Manager - Machine Learning",
          "Graduate Software Engineer - C# AI Machine Learning",
          "Director of Scientific Writing & Advocacy – AI/Machine Learning",
          "Head of Data Science - Currently Remote Working",
          "Analytics Manager- Remote Working",
          "Head of Engineering (DevOps, Cloud, Data Analytics, Machine Lea",
          "Head of Product – AI / Machine Learning – Circa £150,000",
          "Data Science Analyst",
          "C++ Developer - Risk, Machine Learning - London",
          "Machine Learning Engineer; Computer Vision, Data S",
          "Senior Product Manager, AI Machine Learning, equity offered",
          "Data Science – Recruitment Consultant – City of London",
          "Senior Software Architect (AI, Python, Linux)",
          "Director of Applied Data Science - Financial Services",
          "Analytics Consultant – London",
          "Analytics Manager",
          "Senior Machine Learning Engineer",
          "Data Science Software Engineer (AI Start-Up) - Python",
          "PRINCIPAL CONSULTANT - FRAUD ANALYTICS",
          "Machine Learning Engineer",
          "Senior Data Scientist",
          "Head of Data Science - London - (Cutting Edge NLP!!)",
          "Senior Machine Learning Engineer NLP",
          "FORENSIC DATA ANALYTICS MANAGER - TRANSACTION MONITORING",
          "Lead Software Engineer / eCommunications / NLP / Financial Trading Data",
          "Machine Learning Engineer",
          "Lead Machine Learning Engineer - Currently remote working",
          "Senior Software Engineer: NLP, AI Organisation, Python",
          "Big Data Engineering Lead",
          "BI & Analytics Architect",
          "Fraud Analytics Manager",
          "Software/Machine Learning Engineer",
          "Front End Engineer, Machine Learning, Saas Startup",
          "Machine Learning Engineer",
          "Senior Linux/DevOps Engineer with focus on Big Data",
          "ML Engineer",
          "Lead Engineer - Python - Machine Learning",
          "Senior Manager - Optimisation - Analytics",
          "Lead Machine Learning Engineer – London",
          "AI Software Engineer",
          "Analytics Manager - Market Research",
          "Senior Analyst - Strategy & Analytics",
          "Senior Software Engineer (AI/Machine learning)",
          "Senior ML Engineer",
          "Senior Account Director @ Deep Learning",
          "Polyglot Engineer (AI Start-Up) - Python/ Golang/ Javascript",
          "Senior / Lead Deep Learning Engineer",
          "Computer Vision Engineer"
         ],
         "legendgroup": "data scientist",
         "marker": {
          "color": "blue"
         },
         "name": "data scientist",
         "notched": true,
         "offsetgroup": "data scientist",
         "showlegend": false,
         "type": "box",
         "x": [
          39853,
          35846,
          80000,
          25000,
          95000,
          65000,
          25000,
          60000,
          125000,
          80000,
          80000,
          60000,
          85000,
          90000,
          120000,
          95000,
          120000,
          70000,
          43805,
          35000,
          52248,
          55000,
          70000,
          70000,
          80000,
          72400,
          45000,
          100000,
          100000,
          80000,
          60000,
          50000,
          70000,
          75000,
          35165,
          55000,
          75000,
          75000,
          110000,
          90000,
          90000,
          97000,
          73295,
          90000,
          35000,
          75000,
          90000,
          110000,
          30000,
          80000,
          80000,
          140000,
          90000,
          120000,
          80000,
          160000,
          80000,
          100000,
          165000,
          55000,
          110000,
          100000,
          50000,
          80000,
          85000,
          65000,
          80000,
          60000,
          90000,
          110000,
          100000,
          70000,
          60000,
          120000,
          25000,
          90000,
          75000,
          90000,
          80000,
          40000,
          70000,
          50000,
          65000,
          85000,
          85000,
          80000,
          85000,
          70000,
          60000,
          65000,
          50000,
          18000,
          100000,
          65000,
          80000,
          140000,
          110000,
          100000,
          80000,
          120000,
          90000,
          60000,
          40000,
          70000,
          110000,
          110000,
          90000,
          35846,
          90000,
          70000,
          100000,
          120000,
          60000,
          100000,
          70000,
          95000,
          55000,
          70000,
          130000,
          85000,
          85000,
          70000,
          30000,
          75000,
          80000,
          120000,
          50000,
          80000,
          110000,
          55000,
          140000,
          60000,
          110000,
          75000,
          50000,
          50000,
          100000,
          110000,
          90000,
          125000,
          150000,
          35000,
          90000,
          55000,
          80000,
          37000,
          120000,
          100000,
          68000,
          90000,
          90000,
          86000,
          75000,
          70000,
          80000,
          130000,
          180000,
          70000,
          150000,
          60000,
          140000,
          85000,
          100000,
          80000,
          70000,
          60000,
          80000,
          100000,
          75000,
          70000,
          95000,
          85000,
          90000,
          85000,
          45000,
          60000,
          85000,
          80000,
          80000,
          86000,
          80000,
          70000
         ],
         "xaxis": "x2",
         "yaxis": "y2"
        },
        {
         "alignmentgroup": "True",
         "bingroup": "x",
         "hovertemplate": "search_term=machine learning engineer<br>salary_from_page_source_as_stated=%{x}<br>count=%{y}<extra></extra>",
         "legendgroup": "machine learning engineer",
         "marker": {
          "color": "red",
          "opacity": 0.6
         },
         "name": "machine learning engineer",
         "nbinsx": 20,
         "offsetgroup": "machine learning engineer",
         "orientation": "v",
         "showlegend": true,
         "type": "histogram",
         "x": [
          100000,
          35165,
          70000,
          60000,
          110000,
          80000,
          70000,
          50000,
          180000,
          140000,
          80000,
          70000,
          85000,
          80000,
          90000,
          150000,
          30000,
          60000,
          120000,
          30000,
          85000,
          55000,
          110000,
          80000,
          100000,
          90000,
          100000,
          90000,
          45000,
          95000,
          140000,
          100000,
          80000,
          90000,
          41300,
          100000,
          48000,
          85000,
          90000,
          110000,
          120000,
          80000,
          60000,
          80000,
          72400,
          75000,
          85000,
          52248,
          60000,
          70000,
          110000,
          60000,
          80000,
          80000,
          120000,
          65000,
          55000,
          70000,
          165000,
          60000,
          140000,
          70000,
          94948,
          100000,
          80000,
          55000,
          130000,
          60000,
          40000,
          60000,
          80000,
          70000,
          55000,
          75000,
          120000,
          98000,
          60000,
          25000,
          110000,
          100000,
          70000,
          60000,
          100000,
          36000,
          45000,
          70000,
          80000,
          50000,
          65000,
          90000,
          130000,
          60000,
          85000,
          32000,
          85000,
          80000,
          80000,
          55000,
          100000,
          70000,
          110000,
          70000,
          62861,
          80000,
          85000,
          130000,
          110000,
          85000,
          85000,
          55000,
          80000,
          85000,
          85000,
          40000,
          80000,
          25000,
          80000,
          85000,
          104000,
          60000,
          80000,
          80000,
          80000,
          80000,
          150000,
          82000,
          120000,
          90000,
          85000,
          130000,
          85000,
          85000,
          85000,
          65000,
          45000,
          100000,
          80000,
          55000,
          70000,
          50000,
          50000,
          56000,
          80000,
          65000,
          75000,
          125000,
          65000,
          55000,
          100000,
          85000,
          70000,
          85000,
          65000,
          75000,
          60000,
          80000,
          100000,
          65000,
          65000,
          30000,
          90000,
          80000,
          24000,
          90000,
          95000,
          65000,
          30000,
          85000,
          55000,
          85000,
          100000,
          30000,
          85000,
          86000,
          100000,
          55000,
          35000,
          80000,
          80000,
          80000,
          85000,
          65000,
          80000,
          85000,
          66000,
          85000,
          80000,
          85000,
          70000,
          86000,
          60000,
          90000,
          60000,
          90000,
          80000,
          85000,
          75000,
          70000,
          75000,
          60000
         ],
         "xaxis": "x",
         "yaxis": "y"
        },
        {
         "alignmentgroup": "True",
         "customdata": [
          [
           "NP Group",
           100000
          ],
          [
           "ZEG.AI Ltd",
           35165
          ],
          [
           "IC Resources",
           70000
          ],
          [
           "Migacore Technologies",
           60000
          ],
          [
           "Oho Group",
           110000
          ],
          [
           "Peanut",
           80000
          ],
          [
           "Cubiq Recruitment",
           70000
          ],
          [
           "Client Server",
           50000
          ],
          [
           "Client Server",
           180000
          ],
          [
           "Harnham",
           140000
          ],
          [
           "Auxillium",
           80000
          ],
          [
           "Oho Group",
           70000
          ],
          [
           "Venturi",
           85000
          ],
          [
           "Client Server",
           80000
          ],
          [
           "Harnham",
           90000
          ],
          [
           "Harnham",
           150000
          ],
          [
           "LeftBrain",
           30000
          ],
          [
           "Metrica Recruitment",
           60000
          ],
          [
           "SoCode",
           120000
          ],
          [
           "The App Experts",
           30000
          ],
          [
           "Prolancer",
           85000
          ],
          [
           "re&m",
           55000
          ],
          [
           "Oho Group",
           110000
          ],
          [
           "Research Grid Ltd",
           80000
          ],
          [
           "Brite Recruitment",
           100000
          ],
          [
           "Linux Recruit",
           90000
          ],
          [
           "ProArch",
           100000
          ],
          [
           "kdr Recruitment",
           90000
          ],
          [
           "Human Capital Solutions",
           45000
          ],
          [
           "Linux Recruit",
           95000
          ],
          [
           "Harnham",
           140000
          ],
          [
           "NP Group",
           100000
          ],
          [
           "Trust In Soda",
           80000
          ],
          [
           "Harnham",
           90000
          ],
          [
           "HR GO Recruitment Bishop's Stortford",
           41300
          ],
          [
           "Kingsmead Global Ltd",
           100000
          ],
          [
           "Securium LTD",
           48000
          ],
          [
           "In 2 Consult",
           85000
          ],
          [
           "Ampersand Consulting",
           90000
          ],
          [
           "Tecknuovo",
           110000
          ],
          [
           "Niantic International Technology Limited",
           120000
          ],
          [
           "Salt Recruitment",
           80000
          ],
          [
           "Harnham",
           60000
          ],
          [
           "Movement8",
           80000
          ],
          [
           "Bank of England",
           72400
          ],
          [
           "Cortex IT Recruitment",
           75000
          ],
          [
           "Cititec",
           85000
          ],
          [
           "Ministry of Justice",
           52248
          ],
          [
           "Salt Recruitment",
           60000
          ],
          [
           "Capita IT Resourcing",
           70000
          ],
          [
           "Deerfoot",
           110000
          ],
          [
           "Harnham",
           60000
          ],
          [
           "Sentinel",
           80000
          ],
          [
           "BJSS",
           80000
          ],
          [
           "Ampersand Consulting",
           120000
          ],
          [
           "Meridian Business Support",
           65000
          ],
          [
           "Client Server",
           55000
          ],
          [
           "Trust In Soda",
           70000
          ],
          [
           "Consortia",
           165000
          ],
          [
           "Pearson Frank",
           60000
          ],
          [
           "Consortia",
           140000
          ],
          [
           "GCS Recruitment Specialists Ltd",
           70000
          ],
          [
           "ADR Markets",
           94948
          ],
          [
           "Cubiq Recruitment",
           100000
          ],
          [
           "Client Server",
           80000
          ],
          [
           "Client Server",
           55000
          ],
          [
           "Niantic International Technology Limited",
           130000
          ],
          [
           "Migacore Technologies",
           60000
          ],
          [
           "Oho Group",
           40000
          ],
          [
           "Migacore Technologies",
           60000
          ],
          [
           "IC Resources",
           80000
          ],
          [
           "Linux Recruit",
           70000
          ],
          [
           "Client Server",
           55000
          ],
          [
           "Peanut",
           75000
          ],
          [
           "Consortia",
           120000
          ],
          [
           "Tractable",
           98000
          ],
          [
           "Harnham",
           60000
          ],
          [
           "Inspiring Interns",
           25000
          ],
          [
           "Oho Group",
           110000
          ],
          [
           "Linux Recruit",
           100000
          ],
          [
           "Linux Recruit",
           70000
          ],
          [
           "Oscar Technology",
           60000
          ],
          [
           "Oho Group",
           100000
          ],
          [
           "Oho Group",
           36000
          ],
          [
           "Oho Group",
           45000
          ],
          [
           "Speak Ai",
           70000
          ],
          [
           "Linux Recruit",
           80000
          ],
          [
           "Blue Pelican",
           50000
          ],
          [
           "Venturi",
           65000
          ],
          [
           "Linux Recruit",
           90000
          ],
          [
           "Ampersand Consulting",
           130000
          ],
          [
           "Metrica Recruitment",
           60000
          ],
          [
           "ShareForce",
           85000
          ],
          [
           "Acciva Technosoft LTD",
           32000
          ],
          [
           "Eames Consulting",
           85000
          ],
          [
           "Datatech Analytics",
           80000
          ],
          [
           "Consortia",
           80000
          ],
          [
           "Claremont Consulting",
           55000
          ],
          [
           "Ampersand Consulting",
           100000
          ],
          [
           "Callsign",
           70000
          ],
          [
           "Harnham",
           110000
          ],
          [
           "Harnham",
           70000
          ],
          [
           "UK Government - Home Office",
           62861
          ],
          [
           "Datatech Analytics",
           80000
          ],
          [
           "Understanding Recruitment",
           85000
          ],
          [
           "Venturi",
           130000
          ],
          [
           "Bangura Solutions",
           110000
          ],
          [
           "Linux Recruit",
           85000
          ],
          [
           "Consortia",
           85000
          ],
          [
           "Client Server",
           55000
          ],
          [
           "TrueLayer",
           80000
          ],
          [
           "Cititec",
           85000
          ],
          [
           "Joseph Hage Aaronson LLP",
           85000
          ],
          [
           "Harnham",
           40000
          ],
          [
           "Cortex IT Recruitment",
           80000
          ],
          [
           "Inspiring Interns",
           25000
          ],
          [
           "Cortex IT Recruitment",
           80000
          ],
          [
           "Linux Recruit",
           85000
          ],
          [
           "Head Resourcing Limited",
           104000
          ],
          [
           "GCS Recruitment Specialists Ltd",
           60000
          ],
          [
           "Oho Group",
           80000
          ],
          [
           "we source group",
           80000
          ],
          [
           "Cititec",
           80000
          ],
          [
           "Touchpoint Resource Ltd",
           80000
          ],
          [
           "Tribus Recruitment",
           150000
          ],
          [
           "Streamhub",
           82000
          ],
          [
           "MARIONETE Limited",
           120000
          ],
          [
           "Linux Recruit",
           90000
          ],
          [
           "Linux Recruit",
           85000
          ],
          [
           "Venturi",
           130000
          ],
          [
           "Understanding Recruitment",
           85000
          ],
          [
           "XenZone",
           85000
          ],
          [
           "CTRL Recruitment Group",
           85000
          ],
          [
           "Linux Recruit",
           65000
          ],
          [
           "Touch Surgery",
           45000
          ],
          [
           "Auxillium",
           100000
          ],
          [
           "ShareForce",
           80000
          ],
          [
           "re&m",
           55000
          ],
          [
           "Linux Recruit",
           70000
          ],
          [
           "Venturi",
           50000
          ],
          [
           "Metrica Recruitment",
           50000
          ],
          [
           "Linux Recruit",
           56000
          ],
          [
           "Harnham",
           80000
          ],
          [
           "Harnham",
           65000
          ],
          [
           "Client Server",
           75000
          ],
          [
           "Linux Recruit",
           125000
          ],
          [
           "Client Server",
           65000
          ],
          [
           "Thornhvac",
           55000
          ],
          [
           "Venturi",
           100000
          ],
          [
           "Linux Recruit",
           85000
          ],
          [
           "Salt Recruitment",
           70000
          ],
          [
           "GCS Recruitment Specialists Ltd",
           85000
          ],
          [
           "Linux Recruit",
           65000
          ],
          [
           "Linux Recruit",
           75000
          ],
          [
           "Opus Recruitment Solutions",
           60000
          ],
          [
           "SeedLegals",
           80000
          ],
          [
           "IC Resources",
           100000
          ],
          [
           "Linux Recruit",
           65000
          ],
          [
           "Linux Recruit",
           65000
          ],
          [
           "Inspiring Interns",
           30000
          ],
          [
           "Linux Recruit",
           90000
          ],
          [
           "Capita IT Resourcing",
           80000
          ],
          [
           "TalentPool",
           24000
          ],
          [
           "Linux Recruit",
           90000
          ],
          [
           "Linux Recruit",
           95000
          ],
          [
           "Linux Recruit",
           65000
          ],
          [
           "Priocept",
           30000
          ],
          [
           "Linux Recruit",
           85000
          ],
          [
           "Technology Resourcing Ltd",
           55000
          ],
          [
           "Linux Recruit",
           85000
          ],
          [
           "Harrington Starr",
           100000
          ],
          [
           "Inspiring Interns",
           30000
          ],
          [
           "Cortex IT Recruitment",
           85000
          ],
          [
           "GCS Recruitment Specialists Ltd",
           86000
          ],
          [
           "LabGenius",
           100000
          ],
          [
           "Enterprise Recruitment Limited",
           55000
          ],
          [
           "Inspiring Interns",
           35000
          ],
          [
           "SeedLegals",
           80000
          ],
          [
           "ENIAN",
           80000
          ],
          [
           "Callsign",
           80000
          ],
          [
           "GCS Recruitment Specialists Ltd",
           85000
          ],
          [
           "Client Server",
           65000
          ],
          [
           "Genie AI",
           80000
          ],
          [
           "Linux Recruit",
           85000
          ],
          [
           "GCS Recruitment Specialists Ltd",
           66000
          ],
          [
           "GCS Recruitment Specialists Ltd",
           85000
          ],
          [
           "Uswitch",
           80000
          ],
          [
           "Pearson Frank",
           85000
          ],
          [
           "Oho Group",
           70000
          ],
          [
           "GCS Recruitment Specialists Ltd",
           86000
          ],
          [
           "Yobota",
           60000
          ],
          [
           "Consortia",
           90000
          ],
          [
           "Genie AI",
           60000
          ],
          [
           "Linux Recruit",
           90000
          ],
          [
           "SeedLegals",
           80000
          ],
          [
           "Cortex IT Recruitment",
           85000
          ],
          [
           "Linux Recruit",
           75000
          ],
          [
           "Linux Recruit",
           70000
          ],
          [
           "Venturi",
           75000
          ],
          [
           "Venturi",
           60000
          ]
         ],
         "hovertemplate": "<b>%{hovertext}</b><br><br>search_term=machine learning engineer<br>salary_from_page_source_as_stated=%{customdata[1]}<br>company=%{customdata[0]}<extra></extra>",
         "hovertext": [
          "Machine Learning Scientist",
          "Deep Learning Intern (No Recruiters)",
          "Machine Learning Engineer",
          "Machine Learning Engineer",
          "Machine Learning Engineer - Causality",
          "Senior Data Scientist / Machine learning engineer",
          "Machine Learning Engineer",
          "Graduate Software Engineer - C# AI Machine Learning",
          "Senior Machine Learning Engineer NLP",
          "Machine Learning Engineer",
          "DevOps Engineer (AI, Deep Learning)",
          "Machine Learning Engineer",
          "Machine Learning Engineer",
          "Data Engineer Python Machine Learning",
          "Senior Machine Learning Engineer",
          "Lead Machine Learning Engineer",
          "Specialist (aka Junior Engineer)",
          "Machine Learning Engineer",
          "Machine Learning Researcher",
          "Data Engineer",
          "Machine Learning Engineer",
          "Machine Learning Engineer; Computer Vision, Data S",
          "Director of Engineering - Machine Learning",
          "Chief Technology Officer",
          "Director of Scientific Writing & Advocacy – AI/Machine Learning",
          "C++ Developer - Risk, Machine Learning - London",
          "Machine Learning Engineer",
          "Lead Machine Learning Engineer – London",
          "CFD Engineer (Computational Fluid Dynamics)",
          "Lead Engineer - Python - Machine Learning",
          "Lead Machine Learning Engineer - Currently remote working",
          "NLP Engineer",
          "User Researcher",
          "Data Scientist - Machine Learning",
          "Multi-skilled Maintenance Engineer",
          "Lead Machine Learning Engineer/Data Scientist - Azure & Cloud Technology",
          "Software Engineer / Developer",
          "Lead Data Engineer",
          "Backend Engineer (OOP, Microservices, Kubernetes, SQL, GraphQL)",
          "Data Engineer (Java)",
          "Numerical Optimization Researcher",
          "Senior Product Manager, AI Machine Learning, equity offered",
          "Software/Machine Learning Engineer",
          "Front End Engineer, Machine Learning, Saas Startup",
          "Principal Data Scientist",
          "Natural Language Processing Engineer PhD",
          "Python Engineer",
          "Senior Data Scientists Required in the Data & Analytical Services Directorate",
          "Data Engineer (fully remote)",
          "Data engineer",
          "Artificial Intelligence Engineer / Data Scientist",
          "Data Scientist",
          "Python Data Pipeline Engineer (GCP)",
          "Data Engineer",
          "Lead Software Engineer (OOP, Microservices, Kubernetes, AI)",
          "Traffic Microsimulation Researcher - London (Flexible)",
          "Junior Software Engineer C++ Maths",
          "Data Engineer",
          "Data Science Director",
          "Data Engineer",
          "Head of Data Science",
          "Data Scientists (1x Mid, 1x Snr) - Python",
          "Quant Platform Software Engineer",
          "Big Data Engineer",
          "Data Scientist Python",
          "C++ Developer / Engineer - Mathematics",
          "Computer Vision Researcher",
          "Frontend Engineer",
          "Graduate Software Developer",
          "Software Engineer",
          "Lead Hardware Engineer",
          "Data Engineer",
          "C++ Software Engineer MSc PhD",
          "Senior Software Engineer (Backend)",
          "Data Science & Engineering Manager",
          "Senior Product Manager",
          "AI Engineer",
          "Junior Developer",
          "Director of Engineering - AI",
          "Cloud Engineer",
          "Backend Engineer - Microservices",
          "Traffic Microsimulation Researcher",
          "Director of Research",
          "Graduate Developer - Python",
          "Junior Python Developer",
          "Senior Software Engineer",
          "Systems Engineer",
          "Insight Analyst",
          "ML Engineer / Data Scientist",
          "DevOps Engineer",
          "Head of Software Development- (AI Tech Startup)",
          "Data Engineer",
          "AI Engineers",
          "Technical Architect",
          "Data Engineer",
          "Senior Data Engineer",
          "Data Engineer",
          "Network Monitoring Engineers x 3 for central London",
          "Principal Software Engineer",
          "ML Engineer",
          "Head of Data Science",
          "Computer Vision Engineer",
          "Lead Infrastructure Engineer - Open Systems",
          "Senior Cloud Engineer EMEA",
          "Senior Software Engineer: NLP, AI Organisation, Python",
          "Senior Python Engineer",
          "LEAD DEVOPS ENGINEER",
          "Scala Engineer - Big Data",
          "Senior Data Scientist",
          "C++ Developer MSc PhD - Remote Interview",
          "Senior Product Manager - Credit",
          "Python Developer",
          "Senior DevOps Cloud Engineer",
          "Software Engineer - Python",
          "Software Engineer",
          "Data Engineer",
          "Java And Scala Software Engineer",
          "Scala Engineer",
          "Site Reliability Engineer (SRE), DevOps Engineer",
          "Remote or Cambridge Based - Python Engineer",
          "Software Engineer - Python",
          "Senior / Lead Deep Learning Engineer",
          "Python Developer- £80,000pa",
          "Big Data Engineer (Python, SQL)",
          "Lead Software Engineer / eCommunications / NLP / Financial Trading Data",
          "Senior Data Engineer",
          "Senior Micro Service Data Engineer",
          "Principal Big Data Engineer",
          "Senior Python Software Engineer",
          "Head of Product",
          "Senior Software Engineer",
          "Data Engineer, London",
          "Software Engineer",
          "Information Security Engineer (AWS)",
          "Test Engineer - Platform",
          "Senior Software Engineer",
          "Data Engineers",
          "Embedded Engineer; Software, Hardware, Firmware; R",
          "Senior DevOps Engineer",
          "Data Specialist",
          "Insight Analyst - SQL& Python",
          "Senior iSystems Engineer",
          "Senior Backend Engineer - Python",
          "Senior Insight Analyst",
          "Big Data Engineer Python GCP",
          "Head of Engineering (DevOps, Cloud, Data Analytics, Machine Lea",
          "Data Engineer SQL ETL - FinTech",
          "Back End Node Engineer",
          "Product Manager",
          "Senior Scala/Spark Engineer",
          "Cloud Platform Engineer, Amazing Greenfield Programme",
          "Senior Software Engineer (AI/Machine learning)",
          "Lead Software Engineer",
          "Backend Engineer - Golang",
          "Front End Developer",
          "Site Reliability Engineer",
          "Principal Data Engineer (team lead)",
          "Golang Engineer",
          "Java Software Engineer",
          "Product Engineer",
          "Senior DevOps Engineer - Simulation",
          "Software Engineer (Lead)",
          "Graduate Cloud Platform Manager",
          "Platform Engineer SRE",
          "Big Data Lead",
          "DevOps Engineer - Kubernetes/AWS/Terraform",
          "Junior .NET Software Engineer",
          "Senior Python Developer - Risk - London",
          "C# Developers job",
          "Principal DevOps Engineer",
          "Java Data Enginner",
          "Graduate Full-Stack Developer",
          "Senior Python Software Engineer",
          "Data Science Software Engineer (AI Start-Up) - Python",
          "Engineering Manager / Engineering Director",
          "Mathematical Software Engineer",
          "Senior Data Engineer",
          "Front-end Engineer: Angular, TypeScript",
          "Frontend Engineer",
          "Senior ML Engineer",
          "AI Software Engineer",
          "Data Warehouse Engineer SQL SSIS SSRS",
          "Lead Frontend Javascript Engineer",
          "Senior Big Data Engineer - Scala/Spark",
          "Polygot Engineer",
          "Backend / Full Stack Developer",
          "Senior Software Engineer - Product",
          "Senior UI Developer - (Up to £85, 000)",
          "Python Developer - Cyber Security",
          "Polyglot Engineer (AI Start-Up) - Python/ Golang/ Javascript",
          "Software Engineer / Developer (Python)",
          "Senior Frontend Developer",
          "Senior Javascript Engineer",
          "Senior DevOps Engineer/Architect",
          "Back-end Engineer: Spring, Kotlin/Java",
          "Senior DevOps",
          "Senior Linux/DevOps Engineer with focus on Big Data",
          "Java Developer - Insurance Tech, London (Bromley)",
          "Senior Full-stack Developer",
          "React and Redux JavaScript Front-end Developer"
         ],
         "legendgroup": "machine learning engineer",
         "marker": {
          "color": "red"
         },
         "name": "machine learning engineer",
         "notched": true,
         "offsetgroup": "machine learning engineer",
         "showlegend": false,
         "type": "box",
         "x": [
          100000,
          35165,
          70000,
          60000,
          110000,
          80000,
          70000,
          50000,
          180000,
          140000,
          80000,
          70000,
          85000,
          80000,
          90000,
          150000,
          30000,
          60000,
          120000,
          30000,
          85000,
          55000,
          110000,
          80000,
          100000,
          90000,
          100000,
          90000,
          45000,
          95000,
          140000,
          100000,
          80000,
          90000,
          41300,
          100000,
          48000,
          85000,
          90000,
          110000,
          120000,
          80000,
          60000,
          80000,
          72400,
          75000,
          85000,
          52248,
          60000,
          70000,
          110000,
          60000,
          80000,
          80000,
          120000,
          65000,
          55000,
          70000,
          165000,
          60000,
          140000,
          70000,
          94948,
          100000,
          80000,
          55000,
          130000,
          60000,
          40000,
          60000,
          80000,
          70000,
          55000,
          75000,
          120000,
          98000,
          60000,
          25000,
          110000,
          100000,
          70000,
          60000,
          100000,
          36000,
          45000,
          70000,
          80000,
          50000,
          65000,
          90000,
          130000,
          60000,
          85000,
          32000,
          85000,
          80000,
          80000,
          55000,
          100000,
          70000,
          110000,
          70000,
          62861,
          80000,
          85000,
          130000,
          110000,
          85000,
          85000,
          55000,
          80000,
          85000,
          85000,
          40000,
          80000,
          25000,
          80000,
          85000,
          104000,
          60000,
          80000,
          80000,
          80000,
          80000,
          150000,
          82000,
          120000,
          90000,
          85000,
          130000,
          85000,
          85000,
          85000,
          65000,
          45000,
          100000,
          80000,
          55000,
          70000,
          50000,
          50000,
          56000,
          80000,
          65000,
          75000,
          125000,
          65000,
          55000,
          100000,
          85000,
          70000,
          85000,
          65000,
          75000,
          60000,
          80000,
          100000,
          65000,
          65000,
          30000,
          90000,
          80000,
          24000,
          90000,
          95000,
          65000,
          30000,
          85000,
          55000,
          85000,
          100000,
          30000,
          85000,
          86000,
          100000,
          55000,
          35000,
          80000,
          80000,
          80000,
          85000,
          65000,
          80000,
          85000,
          66000,
          85000,
          80000,
          85000,
          70000,
          86000,
          60000,
          90000,
          60000,
          90000,
          80000,
          85000,
          75000,
          70000,
          75000,
          60000
         ],
         "xaxis": "x2",
         "yaxis": "y2"
        },
        {
         "alignmentgroup": "True",
         "bingroup": "x",
         "hovertemplate": "search_term=data analyst<br>salary_from_page_source_as_stated=%{x}<br>count=%{y}<extra></extra>",
         "legendgroup": "data analyst",
         "marker": {
          "color": "gold",
          "opacity": 0.6
         },
         "name": "data analyst",
         "nbinsx": 20,
         "offsetgroup": "data analyst",
         "orientation": "v",
         "showlegend": true,
         "type": "histogram",
         "x": [
          34000,
          22000,
          23000,
          35000,
          42148,
          30000,
          80000,
          38000,
          28000,
          18000,
          32188,
          30000,
          26000,
          35000,
          30000,
          44503,
          42000,
          55000,
          34999,
          70000,
          36000,
          30000,
          35000,
          24000,
          45000,
          38618,
          38000,
          52000,
          40000,
          75000,
          65000,
          25000,
          31415,
          45000,
          75000,
          35846,
          35000,
          18000,
          35000,
          33000,
          45422,
          39000,
          65000,
          69365,
          38775,
          38580,
          32000,
          35000,
          35000,
          30000,
          50000,
          45000,
          60000,
          32000,
          42000,
          28000,
          36027,
          40000,
          18000,
          30022,
          72000,
          25000,
          55000,
          74000,
          45000,
          40000,
          70000,
          38373,
          25000,
          40000,
          45000,
          43889,
          40000,
          39238,
          85000,
          40000,
          35000,
          60000,
          65000,
          75000,
          40000,
          28000,
          50000,
          60000,
          40000,
          45000,
          34000,
          40000,
          44065,
          45000,
          38373,
          40000,
          31415,
          45000,
          65000,
          50000,
          51393,
          65000,
          55000,
          65000,
          50000,
          65000,
          80000,
          45000,
          35000,
          18000,
          40000,
          60000,
          45000,
          60000,
          32000,
          54671,
          50000,
          58558,
          55000,
          45000,
          60000,
          29000,
          65000,
          40000,
          42000,
          32000,
          75000,
          47579,
          30000,
          45000,
          72550,
          70000,
          35000,
          37000,
          70000,
          30000,
          60000,
          50000,
          120000,
          65000,
          80000,
          62000,
          75000,
          90000,
          50000,
          35000,
          47724,
          35000,
          44503,
          30000,
          55000,
          90000,
          70000,
          53500,
          40000,
          32000,
          65000,
          90000,
          40000,
          70000,
          36000,
          30000,
          35000,
          35000,
          75000,
          43000,
          80000,
          45000,
          48000,
          55000,
          75000,
          70000,
          40000,
          15600,
          35000,
          65000,
          35000,
          45000,
          28000,
          39246,
          35000,
          125000,
          35000,
          50000,
          40000,
          36027,
          50000,
          45000,
          30000,
          40000,
          44000,
          35000,
          60000,
          55000,
          55000,
          90000,
          35000,
          20000,
          45000,
          32000,
          55000,
          30000,
          65000,
          90000,
          55000,
          35000,
          58000,
          50000,
          50000,
          28380,
          63479,
          36000,
          55000,
          45000,
          35000,
          40215,
          30000,
          60000,
          45000,
          70000,
          100000,
          150000,
          45000,
          90000,
          60000,
          50000,
          45000,
          55000,
          43000,
          45000,
          40000,
          45000,
          75000,
          40000,
          55000,
          45000,
          65000,
          23000,
          45000,
          65000,
          60000,
          75000,
          33000,
          84000,
          40000,
          40000,
          45000,
          65000,
          50000,
          60000,
          70000,
          55000,
          50000,
          40000,
          80000,
          60000,
          75000,
          25000,
          20000,
          45000,
          55000,
          30000,
          40000,
          60000,
          60000,
          60000,
          40000,
          75000,
          25000,
          38000,
          55000,
          60000,
          55000,
          30000,
          45000,
          70000,
          55000,
          45000,
          120000,
          40000,
          80000,
          55000,
          80000,
          68891,
          25000,
          50000,
          23000,
          75000,
          45000,
          60000,
          75000,
          50000,
          44000,
          60000,
          60000,
          45000,
          50000,
          70000,
          36000,
          60000,
          70000,
          30000,
          28000,
          65000,
          50000,
          50000,
          35000,
          60000,
          55000,
          40000,
          55000,
          70000,
          55000,
          19000,
          75000,
          70000,
          70000,
          55000,
          55000,
          48000,
          75000,
          35000,
          55000,
          55000,
          40000,
          50000,
          65000,
          45000,
          50000,
          80000,
          100000,
          60000,
          60000,
          30000,
          60000,
          70000,
          65000,
          40000,
          65000,
          65000,
          60000,
          60000,
          45000,
          60000,
          35000,
          60000,
          60000,
          95000
         ],
         "xaxis": "x",
         "yaxis": "y"
        },
        {
         "alignmentgroup": "True",
         "customdata": [
          [
           "A2Dominion",
           34000
          ],
          [
           "BlackLion Law",
           22000
          ],
          [
           "Savincom",
           23000
          ],
          [
           "Network Rail",
           35000
          ],
          [
           "UK Government - National Crime Agency",
           42148
          ],
          [
           "ELIGIBLE",
           30000
          ],
          [
           "SystemsAccountants",
           80000
          ],
          [
           "White Bullet Solutions Ltd",
           38000
          ],
          [
           "IBD Registry",
           28000
          ],
          [
           "Digitas",
           18000
          ],
          [
           "Action Against Medical Accidents",
           32188
          ],
          [
           "Bobtrade",
           30000
          ],
          [
           "Ampersand Consulting",
           26000
          ],
          [
           "John Whitgift Foundation",
           35000
          ],
          [
           "Church International Ltd.",
           30000
          ],
          [
           "NHS England and NHS Improvement",
           44503
          ],
          [
           "Financial Conduct Authority",
           42000
          ],
          [
           "Michael Page UK",
           55000
          ],
          [
           "TSB Banking",
           34999
          ],
          [
           "Client Server",
           70000
          ],
          [
           "Sanlam UK",
           36000
          ],
          [
           "Newham Council",
           30000
          ],
          [
           "AXA UK",
           35000
          ],
          [
           "Chambers & Partners",
           24000
          ],
          [
           "Noir Consulting",
           45000
          ],
          [
           "UK Government - Department for Digital, Culture, Media and Sport",
           38618
          ],
          [
           "Urban Empire Recruitment",
           38000
          ],
          [
           "Futurios.com",
           52000
          ],
          [
           "Jewish Care",
           40000
          ],
          [
           "Harrison Holgate",
           75000
          ],
          [
           "Lawrence Harvey",
           65000
          ],
          [
           "Ampersand Consulting",
           25000
          ],
          [
           "Metropolitan Police",
           31415
          ],
          [
           "The Global Search Company",
           45000
          ],
          [
           "Kite Group",
           75000
          ],
          [
           "UK Government - National Crime Agency",
           35846
          ],
          [
           "Ampersand Consulting",
           35000
          ],
          [
           "Inspiring Interns",
           18000
          ],
          [
           "FXCM",
           35000
          ],
          [
           "Understanding Recruitment",
           33000
          ],
          [
           "Imperial College London",
           45422
          ],
          [
           "Understanding Recruitment",
           39000
          ],
          [
           "Respect Consulting Group",
           65000
          ],
          [
           "UK Government - Government Digital Service",
           69365
          ],
          [
           "Slough Borough Council",
           38775
          ],
          [
           "UK Government - Cabinet Office",
           38580
          ],
          [
           "Trust In Soda",
           32000
          ],
          [
           "Michael Page UK",
           35000
          ],
          [
           "Ashdown Group",
           35000
          ],
          [
           "Taylor James Resourcing",
           30000
          ],
          [
           "Digital Recruitment Company",
           50000
          ],
          [
           "Harnham",
           45000
          ],
          [
           "Venturi",
           60000
          ],
          [
           "Trust In Soda",
           32000
          ],
          [
           "kdr Recruitment",
           42000
          ],
          [
           "Taylor James Resourcing",
           28000
          ],
          [
           "UK Government - Office for National Statistics",
           36027
          ],
          [
           "Cortex IT Recruitment",
           40000
          ],
          [
           "Inspiring Interns",
           18000
          ],
          [
           "Care Quality Commission",
           30022
          ],
          [
           "International Union of Credit and Investment Insurers - The Berne Union",
           72000
          ],
          [
           "Inspiring Interns",
           25000
          ],
          [
           "Aspire",
           55000
          ],
          [
           "UK Government - Office of Gas and Electricity Markets",
           74000
          ],
          [
           "Linux Recruit",
           45000
          ],
          [
           "Raven Housing Trust Ltd",
           40000
          ],
          [
           "Aardvark Swift",
           70000
          ],
          [
           "Ministry of Justice",
           38373
          ],
          [
           "Inspiring Interns",
           25000
          ],
          [
           "Cornwaliis Elt",
           40000
          ],
          [
           "Central Asia Logistics Limited",
           45000
          ],
          [
           "UK Government - Cabinet Office",
           43889
          ],
          [
           "Harrison Holgate",
           40000
          ],
          [
           "Shelter",
           39238
          ],
          [
           "Cuvva",
           85000
          ],
          [
           "MW Appointments",
           40000
          ],
          [
           "Metrica Recruitment",
           35000
          ],
          [
           "Blu Digital",
           60000
          ],
          [
           "Daniel Alexander Recruitment",
           65000
          ],
          [
           "Client Server",
           75000
          ],
          [
           "Warner Scott",
           40000
          ],
          [
           "Success Appointments",
           28000
          ],
          [
           "Barker Munro",
           50000
          ],
          [
           "Harrison Holgate",
           60000
          ],
          [
           "Recruiters",
           40000
          ],
          [
           "TalentPool",
           45000
          ],
          [
           "Metrica Recruitment",
           34000
          ],
          [
           "Jupiter Management Consultancy (JMC)",
           40000
          ],
          [
           "Nationwide Building Society",
           44065
          ],
          [
           "Michael Page UK",
           45000
          ],
          [
           "HM Courts and Tribunals Service",
           38373
          ],
          [
           "New Page Recruitment",
           40000
          ],
          [
           "Metropolitan Police",
           31415
          ],
          [
           "AXA UK",
           45000
          ],
          [
           "HPD Software",
           65000
          ],
          [
           "Creative Personnel",
           50000
          ],
          [
           "Chelsea and Westminster Hospital NHS Foundation Trust",
           51393
          ],
          [
           "Ampersand Consulting",
           65000
          ],
          [
           "Taylor James Resourcing",
           55000
          ],
          [
           "Oscar Technology",
           65000
          ],
          [
           "Avencia",
           50000
          ],
          [
           "Ampersand Consulting",
           65000
          ],
          [
           "Cornwaliis Elt",
           80000
          ],
          [
           "Bramwith Consulting",
           45000
          ],
          [
           "Lime Talent",
           35000
          ],
          [
           "Inspiring Interns",
           18000
          ],
          [
           "Ampersand Consulting",
           40000
          ],
          [
           "Portify",
           60000
          ],
          [
           "Taylor James Resourcing",
           45000
          ],
          [
           "Harrington Starr",
           60000
          ],
          [
           "Remarkable Jobs",
           32000
          ],
          [
           "SYNLAB",
           54671
          ],
          [
           "GCS Recruitment Specialists Ltd",
           50000
          ],
          [
           "St George's University Hospitals NHS Foundation Trust",
           58558
          ],
          [
           "Harnham",
           55000
          ],
          [
           "McGregor Boyall",
           45000
          ],
          [
           "Donatus and Company",
           60000
          ],
          [
           "Inspiring Interns",
           29000
          ],
          [
           "Harnham",
           65000
          ],
          [
           "Taylor James Resourcing",
           40000
          ],
          [
           "3Search",
           42000
          ],
          [
           "D R Newitt",
           32000
          ],
          [
           "Cyan Executive Search",
           75000
          ],
          [
           "Imperial College London",
           47579
          ],
          [
           "System Recruitment",
           30000
          ],
          [
           "Harnham",
           45000
          ],
          [
           "The Hyde Group",
           72550
          ],
          [
           "Aspire",
           70000
          ],
          [
           "Incite Insight",
           35000
          ],
          [
           "OneSavings Bank PLC",
           37000
          ],
          [
           "Harnham",
           70000
          ],
          [
           "Metrica Recruitment",
           30000
          ],
          [
           "Barclay Simpson",
           60000
          ],
          [
           "Ampersand Consulting",
           50000
          ],
          [
           "Oho Group",
           120000
          ],
          [
           "Ampersand Consulting",
           65000
          ],
          [
           "Quinnox Consultancy Services",
           80000
          ],
          [
           "Harcourt Matthews",
           62000
          ],
          [
           "Harrison Holgate",
           75000
          ],
          [
           "Michael Page UK",
           90000
          ],
          [
           "Eames Consulting",
           50000
          ],
          [
           "Smartest Energy",
           35000
          ],
          [
           "Allen Lane",
           47724
          ],
          [
           "Venturi",
           35000
          ],
          [
           "Arden and GEM Commissioning Support Unit",
           44503
          ],
          [
           "Eames Consulting",
           30000
          ],
          [
           "PayPal",
           55000
          ],
          [
           "Michael Page UK",
           90000
          ],
          [
           "Eames Consulting",
           70000
          ],
          [
           "British Heart Foundation",
           53500
          ],
          [
           "Metrica Recruitment",
           40000
          ],
          [
           "Taylor James Resourcing",
           32000
          ],
          [
           "Red10",
           65000
          ],
          [
           "Cornwaliis Elt",
           90000
          ],
          [
           "Cornwaliis Elt",
           40000
          ],
          [
           "KennedyPearce Consulting",
           70000
          ],
          [
           "Page Personnel - UK",
           36000
          ],
          [
           "Page Personnel - UK",
           30000
          ],
          [
           "Datatech Analytics",
           35000
          ],
          [
           "New Page Recruitment",
           35000
          ],
          [
           "Proactive.IT Appointments",
           75000
          ],
          [
           "Empirical Search",
           43000
          ],
          [
           "Venturi",
           80000
          ],
          [
           "Harnham",
           45000
          ],
          [
           "Langley James IT Recruitment",
           48000
          ],
          [
           "Sam Stafford Search",
           55000
          ],
          [
           "Martin and Conley",
           75000
          ],
          [
           "A.T.M Strategic Management Consulting",
           70000
          ],
          [
           "cer Financial Ltd",
           40000
          ],
          [
           "Inspiring Interns",
           15600
          ],
          [
           "Harrison Holgate",
           35000
          ],
          [
           "Ampersand Consulting",
           65000
          ],
          [
           "Eames Consulting",
           35000
          ],
          [
           "Donatus and Company",
           45000
          ],
          [
           "Taylor James Resourcing",
           28000
          ],
          [
           "Surrey County Council",
           39246
          ],
          [
           "Ashdown Group",
           35000
          ],
          [
           "Oho Group",
           125000
          ],
          [
           "Datatech Analytics",
           35000
          ],
          [
           "Hydrogen Group",
           50000
          ],
          [
           "Bolton Associates",
           40000
          ],
          [
           "UK Government - Office for National Statistics",
           36027
          ],
          [
           "Harnham",
           50000
          ],
          [
           "IPS Group",
           45000
          ],
          [
           "Taylor James Resourcing",
           30000
          ],
          [
           "Walters People",
           40000
          ],
          [
           "Understanding Recruitment",
           44000
          ],
          [
           "Ampersand Consulting",
           35000
          ],
          [
           "Kite Group",
           60000
          ],
          [
           "Taylor James Resourcing",
           55000
          ],
          [
           "Datatech Analytics",
           55000
          ],
          [
           "Harrington Starr",
           90000
          ],
          [
           "AXA UK",
           35000
          ],
          [
           "Inspiring Interns",
           20000
          ],
          [
           "Blue Pelican",
           45000
          ],
          [
           "Datatech Analytics",
           32000
          ],
          [
           "Venturi",
           55000
          ],
          [
           "Datatech Analytics",
           30000
          ],
          [
           "Datatech Analytics",
           65000
          ],
          [
           "Cornwaliis Elt",
           90000
          ],
          [
           "Sentinel",
           55000
          ],
          [
           "Datatech Analytics",
           35000
          ],
          [
           "Empirical Search",
           58000
          ],
          [
           "Warner Scott",
           50000
          ],
          [
           "The Green Recruitment Company",
           50000
          ],
          [
           "Stanmore College",
           28380
          ],
          [
           "Davanti Solutions",
           63479
          ],
          [
           "Metrica Recruitment",
           36000
          ],
          [
           "Ambition",
           55000
          ],
          [
           "Datatech Analytics",
           45000
          ],
          [
           "Digital Ambition",
           35000
          ],
          [
           "Imperial College London",
           40215
          ],
          [
           "Datatech Analytics",
           30000
          ],
          [
           "Harnham",
           60000
          ],
          [
           "Blue Pelican",
           45000
          ],
          [
           "Client Server",
           70000
          ],
          [
           "Cornwaliis Elt",
           100000
          ],
          [
           "Oho Group",
           150000
          ],
          [
           "Blue Pelican",
           45000
          ],
          [
           "Michael Page UK",
           90000
          ],
          [
           "Venturi",
           60000
          ],
          [
           "Harnham",
           50000
          ],
          [
           "Metrica Recruitment",
           45000
          ],
          [
           "Harrison Holgate",
           55000
          ],
          [
           "Page Personnel - UK",
           43000
          ],
          [
           "H&R Talent",
           45000
          ],
          [
           "Harnham US",
           40000
          ],
          [
           "Psixty Recruitment",
           45000
          ],
          [
           "Hydrogen Group",
           75000
          ],
          [
           "Datatech Analytics",
           40000
          ],
          [
           "Michael Page UK",
           55000
          ],
          [
           "Eames Consulting",
           45000
          ],
          [
           "Harrison Holgate",
           65000
          ],
          [
           "Inspiring Interns",
           23000
          ],
          [
           "kdr Recruitment",
           45000
          ],
          [
           "Harnham",
           65000
          ],
          [
           "Feedr",
           60000
          ],
          [
           "Harnham",
           75000
          ],
          [
           "Catsurveys",
           33000
          ],
          [
           "Aquent",
           84000
          ],
          [
           "Bolton Associates",
           40000
          ],
          [
           "Aspire",
           40000
          ],
          [
           "Sentinel IT",
           45000
          ],
          [
           "Ampersand Consulting",
           65000
          ],
          [
           "AXA UK",
           50000
          ],
          [
           "Harnham",
           60000
          ],
          [
           "kdr Recruitment",
           70000
          ],
          [
           "Harnham",
           55000
          ],
          [
           "Metrica Recruitment",
           50000
          ],
          [
           "MW Appointments",
           40000
          ],
          [
           "Venturi",
           80000
          ],
          [
           "BiS Henderson Limited",
           60000
          ],
          [
           "Michael Page UK",
           75000
          ],
          [
           "Langley James IT Recruitment",
           25000
          ],
          [
           "Inspiring Interns",
           20000
          ],
          [
           "Eames Consulting",
           45000
          ],
          [
           "Taylor James Resourcing",
           55000
          ],
          [
           "Inspiring Interns",
           30000
          ],
          [
           "Eames Consulting",
           40000
          ],
          [
           "Ultimate Asset",
           60000
          ],
          [
           "Ampersand Consulting",
           60000
          ],
          [
           "Cornwaliis Elt",
           60000
          ],
          [
           "Venturi",
           40000
          ],
          [
           "Harrison Holgate",
           75000
          ],
          [
           "Hasson Associates",
           25000
          ],
          [
           "Metrica Recruitment",
           38000
          ],
          [
           "Informatiq Consulting",
           55000
          ],
          [
           "3Search",
           60000
          ],
          [
           "kdr Recruitment",
           55000
          ],
          [
           "GCS Recruitment Specialists Ltd",
           30000
          ],
          [
           "Harrison Holgate",
           45000
          ],
          [
           "Warner Scott",
           70000
          ],
          [
           "Harnham",
           55000
          ],
          [
           "Digital Experts Personnel",
           45000
          ],
          [
           "Cameron Kennedy",
           120000
          ],
          [
           "Warman O'Brien",
           40000
          ],
          [
           "BWD Search & Selection Ltd",
           80000
          ],
          [
           "Executive Recruitment Services",
           55000
          ],
          [
           "Taylor James Resourcing",
           80000
          ],
          [
           "King's College Hospital NHS Foundation Trust",
           68891
          ],
          [
           "Langley James IT Recruitment",
           25000
          ],
          [
           "Metrica Recruitment",
           50000
          ],
          [
           "Page Personnel - UK",
           23000
          ],
          [
           "Barker Munro",
           75000
          ],
          [
           "BWD Search & Selection Ltd",
           45000
          ],
          [
           "Michael Page UK",
           60000
          ],
          [
           "Harrington Starr",
           75000
          ],
          [
           "Metrica Recruitment",
           50000
          ],
          [
           "Novation Solutions Ltd",
           44000
          ],
          [
           "Ampersand Consulting",
           60000
          ],
          [
           "Proactive.IT Appointments",
           60000
          ],
          [
           "Page Personnel - UK",
           45000
          ],
          [
           "Creative Personnel",
           50000
          ],
          [
           "Red10",
           70000
          ],
          [
           "Venturi",
           36000
          ],
          [
           "Harnham",
           60000
          ],
          [
           "Warner Scott",
           70000
          ],
          [
           "Taylor James Resourcing",
           30000
          ],
          [
           "Datatech Analytics",
           28000
          ],
          [
           "Quota Recruitment",
           65000
          ],
          [
           "Wade Macdonald",
           50000
          ],
          [
           "Wade Macdonald",
           50000
          ],
          [
           "Goodman Masson",
           35000
          ],
          [
           "Datascope Recruitment",
           60000
          ],
          [
           "Warner Scott",
           55000
          ],
          [
           "Barclay Simpson",
           40000
          ],
          [
           "ShareForce",
           55000
          ],
          [
           "Ampersand Consulting",
           70000
          ],
          [
           "H&R Talent",
           55000
          ],
          [
           "Langley James IT Recruitment",
           19000
          ],
          [
           "Harnham",
           75000
          ],
          [
           "KPS",
           70000
          ],
          [
           "The Digital Recruitment Company",
           70000
          ],
          [
           "Venturi",
           55000
          ],
          [
           "Eames Consulting",
           55000
          ],
          [
           "Harnham",
           48000
          ],
          [
           "Taylor James Resourcing",
           75000
          ],
          [
           "Digital Experts Personnel",
           35000
          ],
          [
           "H&R Talent",
           55000
          ],
          [
           "Warner Scott",
           55000
          ],
          [
           "Moonshot CVE Ltd",
           40000
          ],
          [
           "Venturi",
           50000
          ],
          [
           "Ampersand Consulting",
           65000
          ],
          [
           "Warner Scott",
           45000
          ],
          [
           "Metrica Recruitment",
           50000
          ],
          [
           "Taylor James Resourcing",
           80000
          ],
          [
           "FINTEC recruit Ltd",
           100000
          ],
          [
           "PeopleFirst Recruitment",
           60000
          ],
          [
           "CK Group",
           60000
          ],
          [
           "Metrica Recruitment",
           30000
          ],
          [
           "Metrica Recruitment",
           60000
          ],
          [
           "Sanderson Recruitment Plc",
           70000
          ],
          [
           "Venturi",
           65000
          ],
          [
           "Metrica Recruitment",
           40000
          ],
          [
           "EMR Marketing Recruitment",
           65000
          ],
          [
           "Harnham",
           65000
          ],
          [
           "Harnham",
           60000
          ],
          [
           "Harnham",
           60000
          ],
          [
           "Page Personnel - UK",
           45000
          ],
          [
           "PeopleFirst Recruitment",
           60000
          ],
          [
           "Digital Experts Personnel",
           35000
          ],
          [
           "Harnham",
           60000
          ],
          [
           "Ampersand Consulting",
           60000
          ],
          [
           "Harnham",
           95000
          ]
         ],
         "hovertemplate": "<b>%{hovertext}</b><br><br>search_term=data analyst<br>salary_from_page_source_as_stated=%{customdata[1]}<br>company=%{customdata[0]}<extra></extra>",
         "hovertext": [
          "Data & Performance Analyst",
          "Data Analyst",
          "Support Data Analyst",
          "Engineering Data Analyst",
          "Data Analyst, Data Science – National Data Exploitation Capability",
          "Data Analyst",
          "Master Data Analyst",
          "Data Analyst and Quality Assurance Manager",
          "Data Analyst/ Statistician",
          "Data Analyst Apprentice",
          "Database & Digital Analyst",
          "Data Analyst at Bobtrade.com",
          "Data Analyst (Excel, SQL, Data)",
          "Data Analyst",
          "Junior Data Analyst",
          "Analyst",
          "Data Quality Analyst",
          "Financial Reporting Analyst",
          "Risk Analyst",
          "Business Intelligence Analyst - Data Modelling",
          "Data Workflow Analyst",
          "Property Business & Data Analyst",
          "Market Pricing Analyst",
          "Research Analyst",
          "BI / Data Warehouse Developer - Digital Download Site - London",
          "Modelling & Data team Analyst",
          "Data Analyst",
          "Web Analyst",
          "HR Data Analyst",
          "Data Governance Analyst",
          "Data Analyst",
          "Junior Data Analyst (Excel, Distribution, Policy)",
          "Experienced Intelligence Analysts",
          "Commercial Performance Analyst",
          "Data Analytics Analyst - R or Python - Capital Markets",
          "G4 Senior Data Analyst – TRACER",
          "Data Insight Analyst (SQL, BI, Tableau)",
          "Data Analyst",
          "Data Analyst",
          "Database Analyst",
          "Health Intelligence Analyst",
          "Marketing Insight Analyst",
          "Data Analyst",
          "Principal Data Analyst",
          "Performance Analyst",
          "HEO - Operational Data Analyst",
          "Data Analyst",
          "Data Analyst",
          "Data Analyst",
          "Graduate MI and Data Analyst",
          "Data Analyst - Customer Experience",
          "Data Analyst",
          "Data Analyst",
          "Junior Data Analyst",
          "Data Analyst – London",
          "Data Analyst - Reinsurance Market Math//Numerical grad",
          "Analysis Function Capability and Capacity Analyst",
          "Business Intelligence Consultant",
          "Graduate Data Analyst",
          "Business Analyst",
          "Economic Research Analyst",
          "Junior Data Analyst",
          "Mobile Games Data Analyst",
          "Head of Audit and Data Analytics",
          "Data/Customer Analyst",
          "SQL BI Data Analyst",
          "Data Analyst - London, UK",
          "Performance Analyst",
          "Data & Research Analyst",
          "Index Analyst - Financial Markets, Analyst, Data,Indexes,Indices,Risk,Compliance",
          "Business Analyst",
          "SEO - Analyst",
          "BI Data Analyst",
          "Senior Insight & Data Analyst - London",
          "Lead/Senior Data Analyst",
          "BI - Data Analyst",
          "Statistical Data Analyst",
          "Data Analyst - Professional Services",
          "Marketing Data Analyst",
          "Data Analyst Python KDB - Finance",
          "Forensic Data Analyst",
          "PRODUCT DATA ADMINSTRATOR/ ANALYST",
          "Data Analyst",
          "Data Analyst",
          "Junio Data Analyst - London",
          "Business Solution Analyst",
          "Statistical Healthcare Analyst",
          "Junior Reward Analyst",
          "Innovation Analyst",
          "Data / MI Analyst - London",
          "Performance Analyst",
          "International Media Data Analyst",
          "Experienced intelligence analyst",
          "Outsourcing and Third-Party Risk Analyst",
          "Senior Business Systems Analyst",
          "Mobile Games Data Analyst",
          "Lead Information Analyst",
          "Senior Technical Business Analyst (NHS, Data, 365)",
          "Financial Reporting Data Analyst (Solvency 11 knowledge)",
          "Senior Data Analyst",
          "Compliance Analyst",
          "Head of Engagement (SaaS, Start-Up, Analytics, Data, B2B)",
          "SQL Developer - Data Analyst - Business Analysis - DataWarehouse",
          "Product Sourcing Analyst",
          "Supply Chain Analyst",
          "Business/Data Analyst",
          "BUSINESS IMPROVEMENT ANALYST (PROCESS IMPROVEMENT/ AGILE / BA)",
          "Performance Marketing Analyst/Associate",
          "VBA (some Python) Data Analyst - Financial Trading Markets -",
          "Performance / Data Analyst – FactSet Migration/ 6 - month FTC",
          "Data and Reporting Analyst",
          "Information Analyst (9 months FTC)",
          "Data Analyst / Growth / Start-up",
          "Principal Information Analyst - Finance and Commissioning",
          "Tableau BI Analyst",
          "ESG Data Analyst - FTC",
          "Business Analyst (Functional Design, IT, OTC Derivatives, Swap)",
          "Performance Marketing Analyst",
          "Digital Data Analyst",
          "Data Management Analyst (Fund Pricing)",
          "CRM INSIGHT ANALYST",
          "SAP Supply Chain Analyst",
          "BUSINESS INTELLIGENCE MANAGER - DATA STRATEGY/ DATA INTELLIGENCE",
          "Research Associate in Quantitative Analysis of NHS Data",
          "Junior Quantitative Researcher",
          "Insight Analyst",
          "Business Intelligence Architect (Contract)",
          "Research Analyst",
          "Disclosure Systems Analyst",
          "Junior Risk Analyst - Capital and Impairment",
          "Data Science Analyst",
          "The Information Lab Consulting Analyst",
          "Third Party Risk Analyst",
          "Business Analyst (Investment, Digital)",
          "Quant Analyst / Quant Researcher",
          "Data Analytics Consultant (AWS, Kafka, BI)",
          "Digital Business Analyst/ Product Analyst (Retail & Corporate Banking)",
          "Pricing Analyst",
          "Business Data Analyst",
          "Research Analyst - Middle Distillates",
          "Actuarial Pricing Analyst",
          "Market Risk Analyst",
          "Senior Procurement Analyst",
          "Database Support Analyst",
          "Principal Information Analyst",
          "Pricing Analyst - Fixed term Contract",
          "Business Intelligence Analyst",
          "Research Analyst - Crude Oil",
          "Pricing Actuarial Analyst",
          "Business Analyst Team Lead",
          "Insight Analyst - SQL",
          "Audit/Controls//Reg & Compliance Analyst - Lloyds Market",
          "Data Management Analyst – Markit EDM",
          "Senior Data Solutions Architect – Business Intelligence",
          "Regulatory Reporting Analyst - Regulation, Reporting, Analysis, MiFID, EMIR, Collateral",
          "Quantitative Analyst",
          "Data Analyst - Financial Services",
          "Finance Data Analyst",
          "Data Science Analyst",
          "Media Analyst",
          "Business Analyst",
          "Regulatory Reporting Analyst",
          "Senior Data Analyst",
          "Customer Insight Analyst",
          "Data Analyst; SSRS",
          "Financial Reporting Analyst",
          "CRM Business Analyst",
          "Senior Business Analyst (SBA)",
          "Trade and Transaction Reporting Analyst",
          "Research/Analyst",
          "Assistant Business Analyst",
          "Operational Risk Analyst (Confluence, Risk, Excel)",
          "Actuarial Pricing Analyst FTC 12 months",
          "Senior Operational Risk Analyst",
          "Data Analyst with VBA- Insurance Market",
          "Information Analyst - Business Intelligence - Adult Social Care",
          "Billing Analyst",
          "Quant Researcher/Data Scientist",
          "Business Insight Analyst",
          "Data Analyst/Developer",
          "Research Analyst",
          "Senior Analyst",
          "Senior Fraud Analyst",
          "Test Analyst – London Insurance Market Experience Required",
          "Graduate Risk Analyst",
          "Finance Business Intelligence Analyst",
          "Business Analyst",
          "Business Analyst (SQL Server, SQL, Python, SSIS, MS Office)",
          "Senior Risk Analyst - Market Risk/VaR",
          "Investment Data Analyst (VBA / SQL)",
          "Data Analytics Consultant",
          "Data Analytics Engineer (Java/Python) - £90,000",
          "Technical Pricing Analyst (Home)",
          "Business Analyst",
          "Customer Analyst",
          "Business Science Analyst",
          "Data Integration Analyst",
          "Marketing Campaign Analyst",
          "Senior Data Analyst",
          "Senior Business Analyst - Risk Analytics",
          "BI Consultant (Looker)",
          "Marketing Analyst - Econometrician",
          "Treasury Analyst (Funding, Liquidity & Reporting)",
          "Data Analytics Consultant",
          "Risk and Trading Analyst",
          "Data and Reporting Analyst",
          "SAP Data Services / Business Objects Information Analyst - Healthcare",
          "Marketing Analyst - SQL",
          "Financial Reporting Analyst",
          "Digital Analyst",
          "PPC Analyst",
          "Research Associate in Data Analysis",
          "Management Information Analyst",
          "Business Intelligence Analyst",
          "Campaign Insight Analyst",
          "Senior BI Analyst SQL - FinTech",
          "Business Analyst",
          "Quantitative Researcher",
          "Insight & Reporting Analyst",
          "Head of Analytics & Data",
          "CRM Business Analyst",
          "Marketing Analyst",
          "Insight Analyst - eCommerce",
          "Senior Risk Analyst",
          "Analyst - Regulatory Reporting - Commodities",
          "Business Analyst",
          "Insight Analyst",
          "Inside Sales - Big Data Analytics",
          "Data Quality Analyst – Financial Services – London",
          "Insight Analyst - 12 month FTC",
          "Market Risk Analyst",
          "Pricing Analyst",
          "Underwriting Business Analyst",
          "Graduate Marketing Analyst",
          "Business Analyst – London",
          "Senior BI Analyst",
          "Data Analyst",
          "Data Science - Fraud Analytics",
          "GPR Analyst",
          "Quantitative Data Scientist / Analyst - Ads engineering",
          "Underwriting Performance Analyst",
          "Programmatic Analyst",
          "Business Intelligence Analyst",
          "Quantitative Analyst (Matlab, C#, Sports Betting, Quant)",
          "Senior Market Pricing Analyst",
          "Product Analyst",
          "Power BI Developer – London",
          "Senior Insight Analyst",
          "Lead Market Insight Analyst",
          "Business Analyst",
          "BI Engineer",
          "Logistics Process Analyst",
          "Quantitative Risk Analyst",
          "Junior Data Analyst, Hersham, SQL, Power BI",
          "Graduate Digital Marketing Analyst",
          "Risk Actuarial Analyst (ERM & Analytics)",
          "Financial Planning Analyst",
          "Customer Operations Analyst",
          "Actuarial Risk Analyst",
          "Senior Programmatic Analyst",
          "Data Engineer / DBA (SQL, Python, Analytics)",
          "Senior Risk Analyst - Murex, Excel, VBA, Rates, VaR, Market Risk, OTC, Financial Services",
          "Test Analyst",
          "Business Solutions Analyst",
          "Arabic Social Insights Analyst",
          "Business Intelligence Analyst - SQL& Tableau",
          "Data Analyst",
          "DIGITAL ANALYST",
          "Business Intelligence Consultant – London",
          "Research Analyst",
          "ERM Risk Analyst",
          "Consultant/Senior Consultant – Data Analytics",
          "Lead Insight Analyst",
          "Marketing Communication Analyst",
          "Quantitative Risk Analyst",
          "Statistical Programming Analyst- Pharma",
          "Reporting Analyst",
          "Data Analyst",
          "Transaction Reporting Analyst (6 month Contract)",
          "Deputy Head of Financial Management Information & Analysis",
          "Data Analyst, Hersham, SQL, Power BI",
          "Marketing Analyst - SQL& R",
          "Junior Pricing Analyst",
          "Research Analyst",
          "Actuarial Reporting Analyst - Life Office",
          "Real Estate - Investment Analyst",
          "Analytics & Reporting Analyst",
          "Insight Analyst - SQL& Python",
          "Social Media Insights Analyst",
          "Data Engineer (Python, SQL, BI, Analytics)",
          "BI Business Analyst",
          "Financial Analyst",
          "Experienced Mobile Games Analyst",
          "Business Analyst FTC – £60K-70K – London Market Insurer",
          "Insight Analyst",
          "Product Analyst - FTC",
          "Royalties Manager / Data Analytics",
          "Risk Analyst",
          "Analyst",
          "IA Manager/Data Analytics Lead",
          "HR Specialist (Benefits/HRIS/Analyst)",
          "HR Specialist (C&B/HRIS/Analyst)",
          "Business Intelligence Analyst",
          "Games Analyst",
          "Senior Associate – Business Intelligence – MENA",
          "Intrusion Analyst",
          "FP&A Analyst - MS Power BI",
          "Business Analyst(Finance, Corporate Systems)",
          "Business Analyst- Technology Department",
          "Report Analyst, Data Analyst ERP; Excel up to",
          "Senior Product Analyst",
          "Senior e-commerce Business Analyst",
          "Senior Marketing Data Analyst",
          "Business Intelligence Analyst",
          "Senior Risk Analyst",
          "Credit Risk Analyst",
          "Real Estate Operations Analyst",
          "CRM Marketing Analyst",
          "IT Business Analyst",
          "Senior Associate & Associate – Business Intelligence",
          "Analyst",
          "BI Consultants and QlikView Consultants",
          "IT Business Analyst (SQL, Power BI, VB, VBA.NET)",
          "Senior Analyst – Business Intelligence & Investigations",
          "Senior Statistical Healthcare Analyst",
          "Regulatory Reporting Analyst",
          "Senior Quant Analyst",
          "New Job-Credit Risk Analyst",
          "Data Analytics Specialist",
          "Supply Chain Analyst",
          "Lead Research Analyst",
          "Business Analyst",
          "Senior Business Intelligence Analyst",
          "Operational Research Analyst",
          "Senior Product Analyst",
          "Customer Insight and Pricing Analyst",
          "Product Analyst - 6 Month FTC - Remote Working",
          "Senior Business Intelligence Analyst",
          "Sales Planning Analyst",
          "Credit Risk Analyst",
          "Ecommerce & Insight Analyst (Contract)",
          "Senior BI Analyst- Business Objects",
          "Solutions Developer (Python, SQL, BI, Analytics)",
          "Senior Manager Transaction Monitoring - Data & Analytics"
         ],
         "legendgroup": "data analyst",
         "marker": {
          "color": "gold"
         },
         "name": "data analyst",
         "notched": true,
         "offsetgroup": "data analyst",
         "showlegend": false,
         "type": "box",
         "x": [
          34000,
          22000,
          23000,
          35000,
          42148,
          30000,
          80000,
          38000,
          28000,
          18000,
          32188,
          30000,
          26000,
          35000,
          30000,
          44503,
          42000,
          55000,
          34999,
          70000,
          36000,
          30000,
          35000,
          24000,
          45000,
          38618,
          38000,
          52000,
          40000,
          75000,
          65000,
          25000,
          31415,
          45000,
          75000,
          35846,
          35000,
          18000,
          35000,
          33000,
          45422,
          39000,
          65000,
          69365,
          38775,
          38580,
          32000,
          35000,
          35000,
          30000,
          50000,
          45000,
          60000,
          32000,
          42000,
          28000,
          36027,
          40000,
          18000,
          30022,
          72000,
          25000,
          55000,
          74000,
          45000,
          40000,
          70000,
          38373,
          25000,
          40000,
          45000,
          43889,
          40000,
          39238,
          85000,
          40000,
          35000,
          60000,
          65000,
          75000,
          40000,
          28000,
          50000,
          60000,
          40000,
          45000,
          34000,
          40000,
          44065,
          45000,
          38373,
          40000,
          31415,
          45000,
          65000,
          50000,
          51393,
          65000,
          55000,
          65000,
          50000,
          65000,
          80000,
          45000,
          35000,
          18000,
          40000,
          60000,
          45000,
          60000,
          32000,
          54671,
          50000,
          58558,
          55000,
          45000,
          60000,
          29000,
          65000,
          40000,
          42000,
          32000,
          75000,
          47579,
          30000,
          45000,
          72550,
          70000,
          35000,
          37000,
          70000,
          30000,
          60000,
          50000,
          120000,
          65000,
          80000,
          62000,
          75000,
          90000,
          50000,
          35000,
          47724,
          35000,
          44503,
          30000,
          55000,
          90000,
          70000,
          53500,
          40000,
          32000,
          65000,
          90000,
          40000,
          70000,
          36000,
          30000,
          35000,
          35000,
          75000,
          43000,
          80000,
          45000,
          48000,
          55000,
          75000,
          70000,
          40000,
          15600,
          35000,
          65000,
          35000,
          45000,
          28000,
          39246,
          35000,
          125000,
          35000,
          50000,
          40000,
          36027,
          50000,
          45000,
          30000,
          40000,
          44000,
          35000,
          60000,
          55000,
          55000,
          90000,
          35000,
          20000,
          45000,
          32000,
          55000,
          30000,
          65000,
          90000,
          55000,
          35000,
          58000,
          50000,
          50000,
          28380,
          63479,
          36000,
          55000,
          45000,
          35000,
          40215,
          30000,
          60000,
          45000,
          70000,
          100000,
          150000,
          45000,
          90000,
          60000,
          50000,
          45000,
          55000,
          43000,
          45000,
          40000,
          45000,
          75000,
          40000,
          55000,
          45000,
          65000,
          23000,
          45000,
          65000,
          60000,
          75000,
          33000,
          84000,
          40000,
          40000,
          45000,
          65000,
          50000,
          60000,
          70000,
          55000,
          50000,
          40000,
          80000,
          60000,
          75000,
          25000,
          20000,
          45000,
          55000,
          30000,
          40000,
          60000,
          60000,
          60000,
          40000,
          75000,
          25000,
          38000,
          55000,
          60000,
          55000,
          30000,
          45000,
          70000,
          55000,
          45000,
          120000,
          40000,
          80000,
          55000,
          80000,
          68891,
          25000,
          50000,
          23000,
          75000,
          45000,
          60000,
          75000,
          50000,
          44000,
          60000,
          60000,
          45000,
          50000,
          70000,
          36000,
          60000,
          70000,
          30000,
          28000,
          65000,
          50000,
          50000,
          35000,
          60000,
          55000,
          40000,
          55000,
          70000,
          55000,
          19000,
          75000,
          70000,
          70000,
          55000,
          55000,
          48000,
          75000,
          35000,
          55000,
          55000,
          40000,
          50000,
          65000,
          45000,
          50000,
          80000,
          100000,
          60000,
          60000,
          30000,
          60000,
          70000,
          65000,
          40000,
          65000,
          65000,
          60000,
          60000,
          45000,
          60000,
          35000,
          60000,
          60000,
          95000
         ],
         "xaxis": "x2",
         "yaxis": "y2"
        }
       ],
       "layout": {
        "barmode": "relative",
        "legend": {
         "title": {
          "text": "search_term"
         },
         "tracegroupgap": 0
        },
        "margin": {
         "t": 60
        },
        "template": {
         "data": {
          "bar": [
           {
            "error_x": {
             "color": "#2a3f5f"
            },
            "error_y": {
             "color": "#2a3f5f"
            },
            "marker": {
             "line": {
              "color": "#E5ECF6",
              "width": 0.5
             }
            },
            "type": "bar"
           }
          ],
          "barpolar": [
           {
            "marker": {
             "line": {
              "color": "#E5ECF6",
              "width": 0.5
             }
            },
            "type": "barpolar"
           }
          ],
          "carpet": [
           {
            "aaxis": {
             "endlinecolor": "#2a3f5f",
             "gridcolor": "white",
             "linecolor": "white",
             "minorgridcolor": "white",
             "startlinecolor": "#2a3f5f"
            },
            "baxis": {
             "endlinecolor": "#2a3f5f",
             "gridcolor": "white",
             "linecolor": "white",
             "minorgridcolor": "white",
             "startlinecolor": "#2a3f5f"
            },
            "type": "carpet"
           }
          ],
          "choropleth": [
           {
            "colorbar": {
             "outlinewidth": 0,
             "ticks": ""
            },
            "type": "choropleth"
           }
          ],
          "contour": [
           {
            "colorbar": {
             "outlinewidth": 0,
             "ticks": ""
            },
            "colorscale": [
             [
              0,
              "#0d0887"
             ],
             [
              0.1111111111111111,
              "#46039f"
             ],
             [
              0.2222222222222222,
              "#7201a8"
             ],
             [
              0.3333333333333333,
              "#9c179e"
             ],
             [
              0.4444444444444444,
              "#bd3786"
             ],
             [
              0.5555555555555556,
              "#d8576b"
             ],
             [
              0.6666666666666666,
              "#ed7953"
             ],
             [
              0.7777777777777778,
              "#fb9f3a"
             ],
             [
              0.8888888888888888,
              "#fdca26"
             ],
             [
              1,
              "#f0f921"
             ]
            ],
            "type": "contour"
           }
          ],
          "contourcarpet": [
           {
            "colorbar": {
             "outlinewidth": 0,
             "ticks": ""
            },
            "type": "contourcarpet"
           }
          ],
          "heatmap": [
           {
            "colorbar": {
             "outlinewidth": 0,
             "ticks": ""
            },
            "colorscale": [
             [
              0,
              "#0d0887"
             ],
             [
              0.1111111111111111,
              "#46039f"
             ],
             [
              0.2222222222222222,
              "#7201a8"
             ],
             [
              0.3333333333333333,
              "#9c179e"
             ],
             [
              0.4444444444444444,
              "#bd3786"
             ],
             [
              0.5555555555555556,
              "#d8576b"
             ],
             [
              0.6666666666666666,
              "#ed7953"
             ],
             [
              0.7777777777777778,
              "#fb9f3a"
             ],
             [
              0.8888888888888888,
              "#fdca26"
             ],
             [
              1,
              "#f0f921"
             ]
            ],
            "type": "heatmap"
           }
          ],
          "heatmapgl": [
           {
            "colorbar": {
             "outlinewidth": 0,
             "ticks": ""
            },
            "colorscale": [
             [
              0,
              "#0d0887"
             ],
             [
              0.1111111111111111,
              "#46039f"
             ],
             [
              0.2222222222222222,
              "#7201a8"
             ],
             [
              0.3333333333333333,
              "#9c179e"
             ],
             [
              0.4444444444444444,
              "#bd3786"
             ],
             [
              0.5555555555555556,
              "#d8576b"
             ],
             [
              0.6666666666666666,
              "#ed7953"
             ],
             [
              0.7777777777777778,
              "#fb9f3a"
             ],
             [
              0.8888888888888888,
              "#fdca26"
             ],
             [
              1,
              "#f0f921"
             ]
            ],
            "type": "heatmapgl"
           }
          ],
          "histogram": [
           {
            "marker": {
             "colorbar": {
              "outlinewidth": 0,
              "ticks": ""
             }
            },
            "type": "histogram"
           }
          ],
          "histogram2d": [
           {
            "colorbar": {
             "outlinewidth": 0,
             "ticks": ""
            },
            "colorscale": [
             [
              0,
              "#0d0887"
             ],
             [
              0.1111111111111111,
              "#46039f"
             ],
             [
              0.2222222222222222,
              "#7201a8"
             ],
             [
              0.3333333333333333,
              "#9c179e"
             ],
             [
              0.4444444444444444,
              "#bd3786"
             ],
             [
              0.5555555555555556,
              "#d8576b"
             ],
             [
              0.6666666666666666,
              "#ed7953"
             ],
             [
              0.7777777777777778,
              "#fb9f3a"
             ],
             [
              0.8888888888888888,
              "#fdca26"
             ],
             [
              1,
              "#f0f921"
             ]
            ],
            "type": "histogram2d"
           }
          ],
          "histogram2dcontour": [
           {
            "colorbar": {
             "outlinewidth": 0,
             "ticks": ""
            },
            "colorscale": [
             [
              0,
              "#0d0887"
             ],
             [
              0.1111111111111111,
              "#46039f"
             ],
             [
              0.2222222222222222,
              "#7201a8"
             ],
             [
              0.3333333333333333,
              "#9c179e"
             ],
             [
              0.4444444444444444,
              "#bd3786"
             ],
             [
              0.5555555555555556,
              "#d8576b"
             ],
             [
              0.6666666666666666,
              "#ed7953"
             ],
             [
              0.7777777777777778,
              "#fb9f3a"
             ],
             [
              0.8888888888888888,
              "#fdca26"
             ],
             [
              1,
              "#f0f921"
             ]
            ],
            "type": "histogram2dcontour"
           }
          ],
          "mesh3d": [
           {
            "colorbar": {
             "outlinewidth": 0,
             "ticks": ""
            },
            "type": "mesh3d"
           }
          ],
          "parcoords": [
           {
            "line": {
             "colorbar": {
              "outlinewidth": 0,
              "ticks": ""
             }
            },
            "type": "parcoords"
           }
          ],
          "pie": [
           {
            "automargin": true,
            "type": "pie"
           }
          ],
          "scatter": [
           {
            "marker": {
             "colorbar": {
              "outlinewidth": 0,
              "ticks": ""
             }
            },
            "type": "scatter"
           }
          ],
          "scatter3d": [
           {
            "line": {
             "colorbar": {
              "outlinewidth": 0,
              "ticks": ""
             }
            },
            "marker": {
             "colorbar": {
              "outlinewidth": 0,
              "ticks": ""
             }
            },
            "type": "scatter3d"
           }
          ],
          "scattercarpet": [
           {
            "marker": {
             "colorbar": {
              "outlinewidth": 0,
              "ticks": ""
             }
            },
            "type": "scattercarpet"
           }
          ],
          "scattergeo": [
           {
            "marker": {
             "colorbar": {
              "outlinewidth": 0,
              "ticks": ""
             }
            },
            "type": "scattergeo"
           }
          ],
          "scattergl": [
           {
            "marker": {
             "colorbar": {
              "outlinewidth": 0,
              "ticks": ""
             }
            },
            "type": "scattergl"
           }
          ],
          "scattermapbox": [
           {
            "marker": {
             "colorbar": {
              "outlinewidth": 0,
              "ticks": ""
             }
            },
            "type": "scattermapbox"
           }
          ],
          "scatterpolar": [
           {
            "marker": {
             "colorbar": {
              "outlinewidth": 0,
              "ticks": ""
             }
            },
            "type": "scatterpolar"
           }
          ],
          "scatterpolargl": [
           {
            "marker": {
             "colorbar": {
              "outlinewidth": 0,
              "ticks": ""
             }
            },
            "type": "scatterpolargl"
           }
          ],
          "scatterternary": [
           {
            "marker": {
             "colorbar": {
              "outlinewidth": 0,
              "ticks": ""
             }
            },
            "type": "scatterternary"
           }
          ],
          "surface": [
           {
            "colorbar": {
             "outlinewidth": 0,
             "ticks": ""
            },
            "colorscale": [
             [
              0,
              "#0d0887"
             ],
             [
              0.1111111111111111,
              "#46039f"
             ],
             [
              0.2222222222222222,
              "#7201a8"
             ],
             [
              0.3333333333333333,
              "#9c179e"
             ],
             [
              0.4444444444444444,
              "#bd3786"
             ],
             [
              0.5555555555555556,
              "#d8576b"
             ],
             [
              0.6666666666666666,
              "#ed7953"
             ],
             [
              0.7777777777777778,
              "#fb9f3a"
             ],
             [
              0.8888888888888888,
              "#fdca26"
             ],
             [
              1,
              "#f0f921"
             ]
            ],
            "type": "surface"
           }
          ],
          "table": [
           {
            "cells": {
             "fill": {
              "color": "#EBF0F8"
             },
             "line": {
              "color": "white"
             }
            },
            "header": {
             "fill": {
              "color": "#C8D4E3"
             },
             "line": {
              "color": "white"
             }
            },
            "type": "table"
           }
          ]
         },
         "layout": {
          "annotationdefaults": {
           "arrowcolor": "#2a3f5f",
           "arrowhead": 0,
           "arrowwidth": 1
          },
          "coloraxis": {
           "colorbar": {
            "outlinewidth": 0,
            "ticks": ""
           }
          },
          "colorscale": {
           "diverging": [
            [
             0,
             "#8e0152"
            ],
            [
             0.1,
             "#c51b7d"
            ],
            [
             0.2,
             "#de77ae"
            ],
            [
             0.3,
             "#f1b6da"
            ],
            [
             0.4,
             "#fde0ef"
            ],
            [
             0.5,
             "#f7f7f7"
            ],
            [
             0.6,
             "#e6f5d0"
            ],
            [
             0.7,
             "#b8e186"
            ],
            [
             0.8,
             "#7fbc41"
            ],
            [
             0.9,
             "#4d9221"
            ],
            [
             1,
             "#276419"
            ]
           ],
           "sequential": [
            [
             0,
             "#0d0887"
            ],
            [
             0.1111111111111111,
             "#46039f"
            ],
            [
             0.2222222222222222,
             "#7201a8"
            ],
            [
             0.3333333333333333,
             "#9c179e"
            ],
            [
             0.4444444444444444,
             "#bd3786"
            ],
            [
             0.5555555555555556,
             "#d8576b"
            ],
            [
             0.6666666666666666,
             "#ed7953"
            ],
            [
             0.7777777777777778,
             "#fb9f3a"
            ],
            [
             0.8888888888888888,
             "#fdca26"
            ],
            [
             1,
             "#f0f921"
            ]
           ],
           "sequentialminus": [
            [
             0,
             "#0d0887"
            ],
            [
             0.1111111111111111,
             "#46039f"
            ],
            [
             0.2222222222222222,
             "#7201a8"
            ],
            [
             0.3333333333333333,
             "#9c179e"
            ],
            [
             0.4444444444444444,
             "#bd3786"
            ],
            [
             0.5555555555555556,
             "#d8576b"
            ],
            [
             0.6666666666666666,
             "#ed7953"
            ],
            [
             0.7777777777777778,
             "#fb9f3a"
            ],
            [
             0.8888888888888888,
             "#fdca26"
            ],
            [
             1,
             "#f0f921"
            ]
           ]
          },
          "colorway": [
           "#636efa",
           "#EF553B",
           "#00cc96",
           "#ab63fa",
           "#FFA15A",
           "#19d3f3",
           "#FF6692",
           "#B6E880",
           "#FF97FF",
           "#FECB52"
          ],
          "font": {
           "color": "#2a3f5f"
          },
          "geo": {
           "bgcolor": "white",
           "lakecolor": "white",
           "landcolor": "#E5ECF6",
           "showlakes": true,
           "showland": true,
           "subunitcolor": "white"
          },
          "hoverlabel": {
           "align": "left"
          },
          "hovermode": "closest",
          "mapbox": {
           "style": "light"
          },
          "paper_bgcolor": "white",
          "plot_bgcolor": "#E5ECF6",
          "polar": {
           "angularaxis": {
            "gridcolor": "white",
            "linecolor": "white",
            "ticks": ""
           },
           "bgcolor": "#E5ECF6",
           "radialaxis": {
            "gridcolor": "white",
            "linecolor": "white",
            "ticks": ""
           }
          },
          "scene": {
           "xaxis": {
            "backgroundcolor": "#E5ECF6",
            "gridcolor": "white",
            "gridwidth": 2,
            "linecolor": "white",
            "showbackground": true,
            "ticks": "",
            "zerolinecolor": "white"
           },
           "yaxis": {
            "backgroundcolor": "#E5ECF6",
            "gridcolor": "white",
            "gridwidth": 2,
            "linecolor": "white",
            "showbackground": true,
            "ticks": "",
            "zerolinecolor": "white"
           },
           "zaxis": {
            "backgroundcolor": "#E5ECF6",
            "gridcolor": "white",
            "gridwidth": 2,
            "linecolor": "white",
            "showbackground": true,
            "ticks": "",
            "zerolinecolor": "white"
           }
          },
          "shapedefaults": {
           "line": {
            "color": "#2a3f5f"
           }
          },
          "ternary": {
           "aaxis": {
            "gridcolor": "white",
            "linecolor": "white",
            "ticks": ""
           },
           "baxis": {
            "gridcolor": "white",
            "linecolor": "white",
            "ticks": ""
           },
           "bgcolor": "#E5ECF6",
           "caxis": {
            "gridcolor": "white",
            "linecolor": "white",
            "ticks": ""
           }
          },
          "title": {
           "x": 0.05
          },
          "xaxis": {
           "automargin": true,
           "gridcolor": "white",
           "linecolor": "white",
           "ticks": "",
           "title": {
            "standoff": 15
           },
           "zerolinecolor": "white",
           "zerolinewidth": 2
          },
          "yaxis": {
           "automargin": true,
           "gridcolor": "white",
           "linecolor": "white",
           "ticks": "",
           "title": {
            "standoff": 15
           },
           "zerolinecolor": "white",
           "zerolinewidth": 2
          }
         }
        },
        "xaxis": {
         "anchor": "y",
         "domain": [
          0,
          1
         ],
         "title": {
          "text": "salary_from_page_source_as_stated"
         }
        },
        "xaxis2": {
         "anchor": "y2",
         "domain": [
          0,
          1
         ],
         "matches": "x",
         "showgrid": true,
         "showticklabels": false
        },
        "yaxis": {
         "anchor": "x",
         "domain": [
          0,
          0.7326
         ],
         "title": {
          "text": "count"
         }
        },
        "yaxis2": {
         "anchor": "x2",
         "domain": [
          0.7426,
          1
         ],
         "matches": "y2",
         "showgrid": false,
         "showline": false,
         "showticklabels": false,
         "ticks": ""
        }
       }
      },
      "text/html": [
       "<div>                            <div id=\"3c5784b3-0ea3-4cc5-a1fd-6190b5749dcf\" class=\"plotly-graph-div\" style=\"height:525px; width:100%;\"></div>            <script type=\"text/javascript\">                require([\"plotly\"], function(Plotly) {                    window.PLOTLYENV=window.PLOTLYENV || {};                                    if (document.getElementById(\"3c5784b3-0ea3-4cc5-a1fd-6190b5749dcf\")) {                    Plotly.newPlot(                        \"3c5784b3-0ea3-4cc5-a1fd-6190b5749dcf\",                        [{\"alignmentgroup\": \"True\", \"bingroup\": \"x\", \"hovertemplate\": \"search_term=data scientist<br>salary_from_page_source_as_stated=%{x}<br>count=%{y}<extra></extra>\", \"legendgroup\": \"data scientist\", \"marker\": {\"color\": \"blue\", \"opacity\": 0.6}, \"name\": \"data scientist\", \"nbinsx\": 20, \"offsetgroup\": \"data scientist\", \"orientation\": \"v\", \"showlegend\": true, \"type\": \"histogram\", \"x\": [39853.0, 35846.0, 80000.0, 25000.0, 95000.0, 65000.0, 25000.0, 60000.0, 125000.0, 80000.0, 80000.0, 60000.0, 85000.0, 90000.0, 120000.0, 95000.0, 120000.0, 70000.0, 43805.0, 35000.0, 52248.0, 55000.0, 70000.0, 70000.0, 80000.0, 72400.0, 45000.0, 100000.0, 100000.0, 80000.0, 60000.0, 50000.0, 70000.0, 75000.0, 35165.0, 55000.0, 75000.0, 75000.0, 110000.0, 90000.0, 90000.0, 97000.0, 73295.0, 90000.0, 35000.0, 75000.0, 90000.0, 110000.0, 30000.0, 80000.0, 80000.0, 140000.0, 90000.0, 120000.0, 80000.0, 160000.0, 80000.0, 100000.0, 165000.0, 55000.0, 110000.0, 100000.0, 50000.0, 80000.0, 85000.0, 65000.0, 80000.0, 60000.0, 90000.0, 110000.0, 100000.0, 70000.0, 60000.0, 120000.0, 25000.0, 90000.0, 75000.0, 90000.0, 80000.0, 40000.0, 70000.0, 50000.0, 65000.0, 85000.0, 85000.0, 80000.0, 85000.0, 70000.0, 60000.0, 65000.0, 50000.0, 18000.0, 100000.0, 65000.0, 80000.0, 140000.0, 110000.0, 100000.0, 80000.0, 120000.0, 90000.0, 60000.0, 40000.0, 70000.0, 110000.0, 110000.0, 90000.0, 35846.0, 90000.0, 70000.0, 100000.0, 120000.0, 60000.0, 100000.0, 70000.0, 95000.0, 55000.0, 70000.0, 130000.0, 85000.0, 85000.0, 70000.0, 30000.0, 75000.0, 80000.0, 120000.0, 50000.0, 80000.0, 110000.0, 55000.0, 140000.0, 60000.0, 110000.0, 75000.0, 50000.0, 50000.0, 100000.0, 110000.0, 90000.0, 125000.0, 150000.0, 35000.0, 90000.0, 55000.0, 80000.0, 37000.0, 120000.0, 100000.0, 68000.0, 90000.0, 90000.0, 86000.0, 75000.0, 70000.0, 80000.0, 130000.0, 180000.0, 70000.0, 150000.0, 60000.0, 140000.0, 85000.0, 100000.0, 80000.0, 70000.0, 60000.0, 80000.0, 100000.0, 75000.0, 70000.0, 95000.0, 85000.0, 90000.0, 85000.0, 45000.0, 60000.0, 85000.0, 80000.0, 80000.0, 86000.0, 80000.0, 70000.0], \"xaxis\": \"x\", \"yaxis\": \"y\"}, {\"alignmentgroup\": \"True\", \"customdata\": [[\"Medicines and Healthcare products Regulatory Agency\", 39853.0], [\"UK Government - National Crime Agency\", 35846.0], [\"digital gut per Forfirm\", 80000.0], [\"Link Humans\", 25000.0], [\"SoulTek\", 95000.0], [\"Talenting\", 65000.0], [\"Boyce Recruitment\", 25000.0], [\"SoulTek\", 60000.0], [\"Oho Group\", 125000.0], [\"Peanut\", 80000.0], [\"Ampersand Consulting\", 80000.0], [\"Digital Recruitment Company\", 60000.0], [\"Xantura\", 85000.0], [\"Harnham\", 90000.0], [\"Oho Group\", 120000.0], [\"Talenting\", 95000.0], [\"Michael Page UK\", 120000.0], [\"Harnham\", 70000.0], [\"London South Bank University\", 43805.0], [\"Inspiring Interns\", 35000.0], [\"Ministry of Justice\", 52248.0], [\"NP Group\", 55000.0], [\"Tractable\", 70000.0], [\"GCS Recruitment Specialists Ltd\", 70000.0], [\"Consortia\", 80000.0], [\"Bank of England\", 72400.0], [\"Mana Search\", 45000.0], [\"NP Group\", 100000.0], [\"Client Server\", 100000.0], [\"Client Server\", 80000.0], [\"Harnham\", 60000.0], [\"myfuturerole.com\", 50000.0], [\"Metrica Recruitment\", 70000.0], [\"Harnham\", 75000.0], [\"ZEG.AI Ltd\", 35165.0], [\"Blue Legal\", 55000.0], [\"The Green Recruitment Company\", 75000.0], [\"Metrica Recruitment\", 75000.0], [\"Deerfoot\", 110000.0], [\"Consortia\", 90000.0], [\"Harnham\", 90000.0], [\"Datatech Analytics\", 97000.0], [\"UK Government - Institute for Apprenticeships and Technical Education\", 73295.0], [\"Salt Recruitment\", 90000.0], [\"Metrica Recruitment\", 35000.0], [\"Harnham\", 75000.0], [\"The Green Recruitment Company\", 90000.0], [\"Harnham\", 110000.0], [\"Datatech Analytics\", 30000.0], [\"Morgan McKinley\", 80000.0], [\"Michael Page UK\", 80000.0], [\"Ampersand Consulting\", 140000.0], [\"Venturi\", 90000.0], [\"Consortia\", 120000.0], [\"GCS Recruitment Specialists Ltd\", 80000.0], [\"Bodhi Resourcing\", 160000.0], [\"Taylor James Resourcing\", 80000.0], [\"Linux Recruit\", 100000.0], [\"Consortia\", 165000.0], [\"Metrica Recruitment\", 55000.0], [\"Harnham\", 110000.0], [\"Metrica Recruitment\", 100000.0], [\"Metrica Recruitment\", 50000.0], [\"GCS Recruitment Specialists Ltd\", 80000.0], [\"Harnham\", 85000.0], [\"Prolancer\", 65000.0], [\"Logikk\", 80000.0], [\"FACEIT\", 60000.0], [\"Harnham\", 90000.0], [\"Lawrence Harvey\", 110000.0], [\"Oho Group\", 100000.0], [\"GCS Recruitment Specialists Ltd\", 70000.0], [\"Mason Blake\", 60000.0], [\"Ampersand Consulting\", 120000.0], [\"Inspiring Interns\", 25000.0], [\"Consortia\", 90000.0], [\"Harnham\", 75000.0], [\"Datatech Analytics\", 90000.0], [\"Harnham\", 80000.0], [\"Metrica Recruitment\", 40000.0], [\"Oho Group\", 70000.0], [\"Metrica Recruitment\", 50000.0], [\"GCS Recruitment Specialists Ltd\", 65000.0], [\"Harnham\", 85000.0], [\"Harnham\", 85000.0], [\"Bettor Believe\", 80000.0], [\"Consortia\", 85000.0], [\"Moonshot CVE Ltd\", 70000.0], [\"Metrica Recruitment\", 60000.0], [\"Venturi\", 65000.0], [\"Combine AI\", 50000.0], [\"Discovery Graduates\", 18000.0], [\"Nicholson Glover Consulting\", 100000.0], [\"Harnham\", 65000.0], [\"Client Server\", 80000.0], [\"GCS Recruitment Specialists Ltd\", 140000.0], [\"Harnham\", 110000.0], [\"Kingsmead Global Ltd\", 100000.0], [\"Auxillium\", 80000.0], [\"Consortia\", 120000.0], [\"Datatech Analytics\", 90000.0], [\"Metrica Recruitment\", 60000.0], [\"Datatech Analytics\", 40000.0], [\"Metrica Recruitment\", 70000.0], [\"Lawrence Harvey\", 110000.0], [\"Oho Group\", 110000.0], [\"Datatech Analytics\", 90000.0], [\"Allen Lane\", 35846.0], [\"Datatech Analytics\", 90000.0], [\"Oho Group\", 70000.0], [\"Ampersand Consulting\", 100000.0], [\"Mana Search\", 120000.0], [\"Migacore Technologies\", 60000.0], [\"NP Group\", 100000.0], [\"MarkJames Search\", 70000.0], [\"Linux Recruit\", 95000.0], [\"Metrica Recruitment\", 55000.0], [\"IC Resources\", 70000.0], [\"Ultimate Asset\", 130000.0], [\"Prolancer\", 85000.0], [\"ShareForce\", 85000.0], [\"Harnham\", 70000.0], [\"Datatech Analytics\", 30000.0], [\"Cortex IT Recruitment\", 75000.0], [\"Aardvark Swift\", 80000.0], [\"SoCode\", 120000.0], [\"Datatech Analytics\", 50000.0], [\"Corecom Consulting\", 80000.0], [\"Oho Group\", 110000.0], [\"Venturi\", 55000.0], [\"Harnham\", 140000.0], [\"Metrica Recruitment\", 60000.0], [\"Oho Group\", 110000.0], [\"Warner Scott\", 75000.0], [\"Explore Group\", 50000.0], [\"Client Server\", 50000.0], [\"Brite Recruitment\", 100000.0], [\"Harnham\", 110000.0], [\"Harnham\", 90000.0], [\"Linux Recruit\", 125000.0], [\"Salt Recruitment\", 150000.0], [\"Datatech Analytics\", 35000.0], [\"Linux Recruit\", 90000.0], [\"re&m\", 55000.0], [\"Salt Recruitment\", 80000.0], [\"Permanent People\", 37000.0], [\"Ampersand Consulting\", 120000.0], [\"Brite Recruitment\", 100000.0], [\"kdr Recruitment\", 68000.0], [\"Harnham\", 90000.0], [\"Harnham\", 90000.0], [\"GCS Recruitment Specialists Ltd\", 86000.0], [\"Harnham\", 75000.0], [\"Cubiq Recruitment\", 70000.0], [\"Metrica Recruitment\", 80000.0], [\"Lawrence Harvey\", 130000.0], [\"Client Server\", 180000.0], [\"Harnham\", 70000.0], [\"Tribus Recruitment\", 150000.0], [\"Metrica Recruitment\", 60000.0], [\"Harnham\", 140000.0], [\"Understanding Recruitment\", 85000.0], [\"Touchpoint Resource Ltd\", 100000.0], [\"ShareForce\", 80000.0], [\"Harnham\", 70000.0], [\"Harnham\", 60000.0], [\"Movement8\", 80000.0], [\"ProArch\", 100000.0], [\"Linux Recruit\", 75000.0], [\"Callsign\", 70000.0], [\"Linux Recruit\", 95000.0], [\"Datatech Analytics\", 85000.0], [\"kdr Recruitment\", 90000.0], [\"GCS Recruitment Specialists Ltd\", 85000.0], [\"Metrica Recruitment\", 45000.0], [\"QuantSpark\", 60000.0], [\"GCS Recruitment Specialists Ltd\", 85000.0], [\"Callsign\", 80000.0], [\"Grey Matter Recruitment\", 80000.0], [\"GCS Recruitment Specialists Ltd\", 86000.0], [\"we source group\", 80000.0], [\"Harnham\", 70000.0]], \"hovertemplate\": \"<b>%{hovertext}</b><br><br>search_term=data scientist<br>salary_from_page_source_as_stated=%{customdata[1]}<br>company=%{customdata[0]}<extra></extra>\", \"hovertext\": [\"CPRD Data Scientist\", \"G4 Lead Data Scientist - Cyber\", \"Data Scientist\", \"Data Scientist\", \"Data Scientist \\u2013 Team Lead\", \"Data Scientist - Fintech\", \"Graduate Data Scientist with Arabic : contract / freelance\", \"Insights Data Scientist\", \"Quant Researcher/Data Scientist\", \"Senior Data Scientist / Machine learning engineer\", \"Data Scientist (NLP, Python, R, Linguistics)\", \"Data Scientist\", \"Principal Data Scientist\", \"Senior Fraud Data Scientist - Remote Working\", \"Quantitative Researcher - Data Scientist\", \"Lead Data Scientist\", \"Lead Data Scientist - London\", \"Fraud Data Scientist\", \"Lecturer in Machine Learning \\u2013 Big Data (IoT) - REQ4743\", \"Junior Python Data Engineer/Scientist\", \"Senior Data Scientists Required in the Data & Analytical Services Directorate\", \"Data Scientist - NLP\", \"Business Intelligence Analyst\", \"Data Scientist | Python | Perm | London/Remote\", \"Data Scientist\", \"Principal Data Scientist\", \"Data Scientist\", \"Machine Learning Scientist\", \"Data Scientist - Trading\", \"Data Scientist Python\", \"Data Scientist - Healthcare\", \"Data Scientist\", \"Senior Data Scientist\", \"Product Data Scientist- Remote Working\", \"Deep Learning Intern (No Recruiters)\", \"Data Scientist\", \"Data Scientist\", \"FinTech Lead Data Scientist\", \"Artificial Intelligence Engineer / Data Scientist\", \"Senior Data Scientist\", \"Data Scientist - Machine Learning\", \"Lead Data Scientist\", \"G6 Data Science Team Leader\", \"Lead Data Scientist (FinTech startup)\", \"Econometric Analyst - Machine Learning\", \"Product Data Scientist\", \"Senior Data Scientist\", \"Data Scientist (Mid - Lead level)\", \"Insurance Data Scientist\", \"Senior Data Scientist - Consulting - London\", \"Forecasting Data Scientist\", \"Chief Data Scientist\", \"Data Scientist\", \"Head of Data Science\", \"Data Scientist\", \"Chief Data Scientist\", \"Data Scientist (Investment Background)\", \"Data Scientist - Machine Learning (Python/SQL)\", \"Data Science Director\", \"Data Scientist - Machine Learning\", \"Lead Data Scientist - Remote Working\", \"Lead Data Scientist\", \"Customer Data Scientist\", \"Remote or Cambridge Based Role - Data Scientist / Machine Learn\", \"Lead Data Scientist\", \"Data Scientist\", \"Senior Data Scientist - NLP/Research\", \"Data Scientist\", \"Lead Payments Fraud Data Scientist\", \"Principle Data Scientist - London - \\u00a3110,000 + Benefits + Bonus\", \"Machine Learning Researcher - Causality\", \"Data Scientists (1x Mid, 1x Snr) - Python\", \"Data Scientist \\u2013 Asset Management\", \"Chief Data Scientist (AI, Data Science)\", \"Data Scientist\", \"Lead Data Scientist\", \"Data Science - Fraud Analytics\", \"Data Science\", \"Senior Data Scientist - Remote Working\", \"Data Scientist - R& Python\", \"Machine Learning Researcher\", \"Data Scientist - Consultancy\", \"Remote or Cambridge Based - Data Scientist / Machine Learning\", \"Senior Data Scientist - Home Working\", \"Lead Fraud Data Scientist\", \"Machine Learning Researcher\", \"Data Scientist\", \"Data Scientist\", \"Research Data Scientist\", \"ML Engineer / Data Scientist\", \"Software Developer (Machine Learning and NLP)\", \"Data Science & Digital Marketing Apprentice\", \"Data Scientist\", \"Decision Scientist\", \"Data Engineer Python Machine Learning\", \"Head of Data Science - London - Creative\", \"Head of Data Science\", \"Lead Machine Learning Engineer/Data Scientist - Azure & Cloud Technology\", \"DevOps Engineer (AI,\\u00a0Deep Learning)\", \"Data Science & Engineering Manager\", \"Managing Consultant Data Science\", \"Principle Data Scientist\", \"Decision Scientist\", \"Senior Data Science Consultant\", \"French Speaking Data Scientist - London - \\u00a3110k + Benefits!\", \"Machine Learning Engineer - Causality\", \"Priniciple Consultant Data Science\", \"G4 Lead Data Scientist \\u2013 Multiple Locations*\", \"Principal Data Scientist - Director level\", \"Machine Learning Engineer\", \"Principal NLP Engineer (NLP, Python, Linguistics)\", \"Senior Data Scientist Manager\", \"Machine Learning Engineer\", \"NLP Engineer\", \"Marketing Analytics Manager\", \"Big Data Lead\", \"Data Science Consultant\", \"Machine Learning Engineer\", \"Data Science Director\", \"Machine Learning Engineer\", \"AI Engineers\", \"Data Science Analyst\", \"Data Science Manager\", \"Natural Language Processing Engineer PhD\", \"Head of Data Science - London, UK\", \"Machine Learning Researcher\", \"Data Science Web Developer\", \"Analytics Manager\", \"Director of Engineering - Machine Learning\", \"Machine Learning Engineer\", \"Machine Learning Engineer\", \"Data Science Consultant - R& Python\", \"Director of Engineering - AI\", \"Data Analytics Manager\", \"Technical Product Manager - Machine Learning\", \"Graduate Software Engineer - C# AI Machine Learning\", \"Director of Scientific Writing & Advocacy \\u2013 AI/Machine Learning\", \"Head of Data Science - Currently Remote Working\", \"Analytics Manager- Remote Working\", \"Head of Engineering (DevOps, Cloud, Data Analytics, Machine Lea\", \"Head of Product \\u2013 AI / Machine Learning \\u2013 Circa \\u00a3150,000\", \"Data Science Analyst\", \"C++ Developer - Risk, Machine Learning - London\", \"Machine Learning Engineer; Computer Vision, Data S\", \"Senior Product Manager, AI Machine Learning, equity offered\", \"Data Science \\u2013 Recruitment Consultant \\u2013 City of London\", \"Senior Software Architect (AI, Python, Linux)\", \"Director of Applied Data Science - Financial Services\", \"Analytics Consultant \\u2013 London\", \"Analytics Manager\", \"Senior Machine Learning Engineer\", \"Data Science Software Engineer (AI Start-Up) - Python\", \"PRINCIPAL CONSULTANT - FRAUD ANALYTICS\", \"Machine Learning Engineer\", \"Senior Data Scientist\", \"Head of Data Science - London - (Cutting Edge NLP!!)\", \"Senior Machine Learning Engineer NLP\", \"FORENSIC DATA ANALYTICS MANAGER - TRANSACTION MONITORING\", \"Lead Software Engineer / eCommunications / NLP / Financial Trading Data\", \"Machine Learning Engineer\", \"Lead Machine Learning Engineer - Currently remote working\", \"Senior Software Engineer: NLP, AI Organisation, Python\", \"Big Data Engineering Lead\", \"BI & Analytics Architect\", \"Fraud Analytics Manager\", \"Software/Machine Learning Engineer\", \"Front End Engineer, Machine Learning, Saas Startup\", \"Machine Learning Engineer\", \"Senior Linux/DevOps Engineer with focus on Big Data\", \"ML Engineer\", \"Lead Engineer - Python - Machine Learning\", \"Senior Manager - Optimisation - Analytics\", \"Lead Machine Learning Engineer \\u2013 London\", \"AI Software Engineer\", \"Analytics Manager - Market Research\", \"Senior Analyst - Strategy & Analytics\", \"Senior Software Engineer (AI/Machine learning)\", \"Senior ML Engineer\", \"Senior Account Director @ Deep Learning\", \"Polyglot Engineer (AI Start-Up) - Python/ Golang/ Javascript\", \"Senior / Lead Deep Learning Engineer\", \"Computer Vision Engineer\"], \"legendgroup\": \"data scientist\", \"marker\": {\"color\": \"blue\"}, \"name\": \"data scientist\", \"notched\": true, \"offsetgroup\": \"data scientist\", \"showlegend\": false, \"type\": \"box\", \"x\": [39853.0, 35846.0, 80000.0, 25000.0, 95000.0, 65000.0, 25000.0, 60000.0, 125000.0, 80000.0, 80000.0, 60000.0, 85000.0, 90000.0, 120000.0, 95000.0, 120000.0, 70000.0, 43805.0, 35000.0, 52248.0, 55000.0, 70000.0, 70000.0, 80000.0, 72400.0, 45000.0, 100000.0, 100000.0, 80000.0, 60000.0, 50000.0, 70000.0, 75000.0, 35165.0, 55000.0, 75000.0, 75000.0, 110000.0, 90000.0, 90000.0, 97000.0, 73295.0, 90000.0, 35000.0, 75000.0, 90000.0, 110000.0, 30000.0, 80000.0, 80000.0, 140000.0, 90000.0, 120000.0, 80000.0, 160000.0, 80000.0, 100000.0, 165000.0, 55000.0, 110000.0, 100000.0, 50000.0, 80000.0, 85000.0, 65000.0, 80000.0, 60000.0, 90000.0, 110000.0, 100000.0, 70000.0, 60000.0, 120000.0, 25000.0, 90000.0, 75000.0, 90000.0, 80000.0, 40000.0, 70000.0, 50000.0, 65000.0, 85000.0, 85000.0, 80000.0, 85000.0, 70000.0, 60000.0, 65000.0, 50000.0, 18000.0, 100000.0, 65000.0, 80000.0, 140000.0, 110000.0, 100000.0, 80000.0, 120000.0, 90000.0, 60000.0, 40000.0, 70000.0, 110000.0, 110000.0, 90000.0, 35846.0, 90000.0, 70000.0, 100000.0, 120000.0, 60000.0, 100000.0, 70000.0, 95000.0, 55000.0, 70000.0, 130000.0, 85000.0, 85000.0, 70000.0, 30000.0, 75000.0, 80000.0, 120000.0, 50000.0, 80000.0, 110000.0, 55000.0, 140000.0, 60000.0, 110000.0, 75000.0, 50000.0, 50000.0, 100000.0, 110000.0, 90000.0, 125000.0, 150000.0, 35000.0, 90000.0, 55000.0, 80000.0, 37000.0, 120000.0, 100000.0, 68000.0, 90000.0, 90000.0, 86000.0, 75000.0, 70000.0, 80000.0, 130000.0, 180000.0, 70000.0, 150000.0, 60000.0, 140000.0, 85000.0, 100000.0, 80000.0, 70000.0, 60000.0, 80000.0, 100000.0, 75000.0, 70000.0, 95000.0, 85000.0, 90000.0, 85000.0, 45000.0, 60000.0, 85000.0, 80000.0, 80000.0, 86000.0, 80000.0, 70000.0], \"xaxis\": \"x2\", \"yaxis\": \"y2\"}, {\"alignmentgroup\": \"True\", \"bingroup\": \"x\", \"hovertemplate\": \"search_term=machine learning engineer<br>salary_from_page_source_as_stated=%{x}<br>count=%{y}<extra></extra>\", \"legendgroup\": \"machine learning engineer\", \"marker\": {\"color\": \"red\", \"opacity\": 0.6}, \"name\": \"machine learning engineer\", \"nbinsx\": 20, \"offsetgroup\": \"machine learning engineer\", \"orientation\": \"v\", \"showlegend\": true, \"type\": \"histogram\", \"x\": [100000.0, 35165.0, 70000.0, 60000.0, 110000.0, 80000.0, 70000.0, 50000.0, 180000.0, 140000.0, 80000.0, 70000.0, 85000.0, 80000.0, 90000.0, 150000.0, 30000.0, 60000.0, 120000.0, 30000.0, 85000.0, 55000.0, 110000.0, 80000.0, 100000.0, 90000.0, 100000.0, 90000.0, 45000.0, 95000.0, 140000.0, 100000.0, 80000.0, 90000.0, 41300.0, 100000.0, 48000.0, 85000.0, 90000.0, 110000.0, 120000.0, 80000.0, 60000.0, 80000.0, 72400.0, 75000.0, 85000.0, 52248.0, 60000.0, 70000.0, 110000.0, 60000.0, 80000.0, 80000.0, 120000.0, 65000.0, 55000.0, 70000.0, 165000.0, 60000.0, 140000.0, 70000.0, 94948.0, 100000.0, 80000.0, 55000.0, 130000.0, 60000.0, 40000.0, 60000.0, 80000.0, 70000.0, 55000.0, 75000.0, 120000.0, 98000.0, 60000.0, 25000.0, 110000.0, 100000.0, 70000.0, 60000.0, 100000.0, 36000.0, 45000.0, 70000.0, 80000.0, 50000.0, 65000.0, 90000.0, 130000.0, 60000.0, 85000.0, 32000.0, 85000.0, 80000.0, 80000.0, 55000.0, 100000.0, 70000.0, 110000.0, 70000.0, 62861.0, 80000.0, 85000.0, 130000.0, 110000.0, 85000.0, 85000.0, 55000.0, 80000.0, 85000.0, 85000.0, 40000.0, 80000.0, 25000.0, 80000.0, 85000.0, 104000.0, 60000.0, 80000.0, 80000.0, 80000.0, 80000.0, 150000.0, 82000.0, 120000.0, 90000.0, 85000.0, 130000.0, 85000.0, 85000.0, 85000.0, 65000.0, 45000.0, 100000.0, 80000.0, 55000.0, 70000.0, 50000.0, 50000.0, 56000.0, 80000.0, 65000.0, 75000.0, 125000.0, 65000.0, 55000.0, 100000.0, 85000.0, 70000.0, 85000.0, 65000.0, 75000.0, 60000.0, 80000.0, 100000.0, 65000.0, 65000.0, 30000.0, 90000.0, 80000.0, 24000.0, 90000.0, 95000.0, 65000.0, 30000.0, 85000.0, 55000.0, 85000.0, 100000.0, 30000.0, 85000.0, 86000.0, 100000.0, 55000.0, 35000.0, 80000.0, 80000.0, 80000.0, 85000.0, 65000.0, 80000.0, 85000.0, 66000.0, 85000.0, 80000.0, 85000.0, 70000.0, 86000.0, 60000.0, 90000.0, 60000.0, 90000.0, 80000.0, 85000.0, 75000.0, 70000.0, 75000.0, 60000.0], \"xaxis\": \"x\", \"yaxis\": \"y\"}, {\"alignmentgroup\": \"True\", \"customdata\": [[\"NP Group\", 100000.0], [\"ZEG.AI Ltd\", 35165.0], [\"IC Resources\", 70000.0], [\"Migacore Technologies\", 60000.0], [\"Oho Group\", 110000.0], [\"Peanut\", 80000.0], [\"Cubiq Recruitment\", 70000.0], [\"Client Server\", 50000.0], [\"Client Server\", 180000.0], [\"Harnham\", 140000.0], [\"Auxillium\", 80000.0], [\"Oho Group\", 70000.0], [\"Venturi\", 85000.0], [\"Client Server\", 80000.0], [\"Harnham\", 90000.0], [\"Harnham\", 150000.0], [\"LeftBrain\", 30000.0], [\"Metrica Recruitment\", 60000.0], [\"SoCode\", 120000.0], [\"The App Experts\", 30000.0], [\"Prolancer\", 85000.0], [\"re&m\", 55000.0], [\"Oho Group\", 110000.0], [\"Research Grid Ltd\", 80000.0], [\"Brite Recruitment\", 100000.0], [\"Linux Recruit\", 90000.0], [\"ProArch\", 100000.0], [\"kdr Recruitment\", 90000.0], [\"Human Capital Solutions\", 45000.0], [\"Linux Recruit\", 95000.0], [\"Harnham\", 140000.0], [\"NP Group\", 100000.0], [\"Trust In Soda\", 80000.0], [\"Harnham\", 90000.0], [\"HR GO Recruitment Bishop's Stortford\", 41300.0], [\"Kingsmead Global Ltd\", 100000.0], [\"Securium LTD\", 48000.0], [\"In 2 Consult\", 85000.0], [\"Ampersand Consulting\", 90000.0], [\"Tecknuovo\", 110000.0], [\"Niantic International Technology Limited\", 120000.0], [\"Salt Recruitment\", 80000.0], [\"Harnham\", 60000.0], [\"Movement8\", 80000.0], [\"Bank of England\", 72400.0], [\"Cortex IT Recruitment\", 75000.0], [\"Cititec\", 85000.0], [\"Ministry of Justice\", 52248.0], [\"Salt Recruitment\", 60000.0], [\"Capita IT Resourcing\", 70000.0], [\"Deerfoot\", 110000.0], [\"Harnham\", 60000.0], [\"Sentinel\", 80000.0], [\"BJSS\", 80000.0], [\"Ampersand Consulting\", 120000.0], [\"Meridian Business Support\", 65000.0], [\"Client Server\", 55000.0], [\"Trust In Soda\", 70000.0], [\"Consortia\", 165000.0], [\"Pearson Frank\", 60000.0], [\"Consortia\", 140000.0], [\"GCS Recruitment Specialists Ltd\", 70000.0], [\"ADR Markets\", 94948.0], [\"Cubiq Recruitment\", 100000.0], [\"Client Server\", 80000.0], [\"Client Server\", 55000.0], [\"Niantic International Technology Limited\", 130000.0], [\"Migacore Technologies\", 60000.0], [\"Oho Group\", 40000.0], [\"Migacore Technologies\", 60000.0], [\"IC Resources\", 80000.0], [\"Linux Recruit\", 70000.0], [\"Client Server\", 55000.0], [\"Peanut\", 75000.0], [\"Consortia\", 120000.0], [\"Tractable\", 98000.0], [\"Harnham\", 60000.0], [\"Inspiring Interns\", 25000.0], [\"Oho Group\", 110000.0], [\"Linux Recruit\", 100000.0], [\"Linux Recruit\", 70000.0], [\"Oscar Technology\", 60000.0], [\"Oho Group\", 100000.0], [\"Oho Group\", 36000.0], [\"Oho Group\", 45000.0], [\"Speak Ai\", 70000.0], [\"Linux Recruit\", 80000.0], [\"Blue Pelican\", 50000.0], [\"Venturi\", 65000.0], [\"Linux Recruit\", 90000.0], [\"Ampersand Consulting\", 130000.0], [\"Metrica Recruitment\", 60000.0], [\"ShareForce\", 85000.0], [\"Acciva Technosoft LTD\", 32000.0], [\"Eames Consulting\", 85000.0], [\"Datatech Analytics\", 80000.0], [\"Consortia\", 80000.0], [\"Claremont Consulting\", 55000.0], [\"Ampersand Consulting\", 100000.0], [\"Callsign\", 70000.0], [\"Harnham\", 110000.0], [\"Harnham\", 70000.0], [\"UK Government - Home Office\", 62861.0], [\"Datatech Analytics\", 80000.0], [\"Understanding Recruitment\", 85000.0], [\"Venturi\", 130000.0], [\"Bangura Solutions\", 110000.0], [\"Linux Recruit\", 85000.0], [\"Consortia\", 85000.0], [\"Client Server\", 55000.0], [\"TrueLayer\", 80000.0], [\"Cititec\", 85000.0], [\"Joseph Hage Aaronson LLP\", 85000.0], [\"Harnham\", 40000.0], [\"Cortex IT Recruitment\", 80000.0], [\"Inspiring Interns\", 25000.0], [\"Cortex IT Recruitment\", 80000.0], [\"Linux Recruit\", 85000.0], [\"Head Resourcing Limited\", 104000.0], [\"GCS Recruitment Specialists Ltd\", 60000.0], [\"Oho Group\", 80000.0], [\"we source group\", 80000.0], [\"Cititec\", 80000.0], [\"Touchpoint Resource Ltd\", 80000.0], [\"Tribus Recruitment\", 150000.0], [\"Streamhub\", 82000.0], [\"MARIONETE Limited\", 120000.0], [\"Linux Recruit\", 90000.0], [\"Linux Recruit\", 85000.0], [\"Venturi\", 130000.0], [\"Understanding Recruitment\", 85000.0], [\"XenZone\", 85000.0], [\"CTRL Recruitment Group\", 85000.0], [\"Linux Recruit\", 65000.0], [\"Touch Surgery\", 45000.0], [\"Auxillium\", 100000.0], [\"ShareForce\", 80000.0], [\"re&m\", 55000.0], [\"Linux Recruit\", 70000.0], [\"Venturi\", 50000.0], [\"Metrica Recruitment\", 50000.0], [\"Linux Recruit\", 56000.0], [\"Harnham\", 80000.0], [\"Harnham\", 65000.0], [\"Client Server\", 75000.0], [\"Linux Recruit\", 125000.0], [\"Client Server\", 65000.0], [\"Thornhvac\", 55000.0], [\"Venturi\", 100000.0], [\"Linux Recruit\", 85000.0], [\"Salt Recruitment\", 70000.0], [\"GCS Recruitment Specialists Ltd\", 85000.0], [\"Linux Recruit\", 65000.0], [\"Linux Recruit\", 75000.0], [\"Opus Recruitment Solutions\", 60000.0], [\"SeedLegals\", 80000.0], [\"IC Resources\", 100000.0], [\"Linux Recruit\", 65000.0], [\"Linux Recruit\", 65000.0], [\"Inspiring Interns\", 30000.0], [\"Linux Recruit\", 90000.0], [\"Capita IT Resourcing\", 80000.0], [\"TalentPool\", 24000.0], [\"Linux Recruit\", 90000.0], [\"Linux Recruit\", 95000.0], [\"Linux Recruit\", 65000.0], [\"Priocept\", 30000.0], [\"Linux Recruit\", 85000.0], [\"Technology Resourcing Ltd\", 55000.0], [\"Linux Recruit\", 85000.0], [\"Harrington Starr\", 100000.0], [\"Inspiring Interns\", 30000.0], [\"Cortex IT Recruitment\", 85000.0], [\"GCS Recruitment Specialists Ltd\", 86000.0], [\"LabGenius\", 100000.0], [\"Enterprise Recruitment Limited\", 55000.0], [\"Inspiring Interns\", 35000.0], [\"SeedLegals\", 80000.0], [\"ENIAN\", 80000.0], [\"Callsign\", 80000.0], [\"GCS Recruitment Specialists Ltd\", 85000.0], [\"Client Server\", 65000.0], [\"Genie AI\", 80000.0], [\"Linux Recruit\", 85000.0], [\"GCS Recruitment Specialists Ltd\", 66000.0], [\"GCS Recruitment Specialists Ltd\", 85000.0], [\"Uswitch\", 80000.0], [\"Pearson Frank\", 85000.0], [\"Oho Group\", 70000.0], [\"GCS Recruitment Specialists Ltd\", 86000.0], [\"Yobota\", 60000.0], [\"Consortia\", 90000.0], [\"Genie AI\", 60000.0], [\"Linux Recruit\", 90000.0], [\"SeedLegals\", 80000.0], [\"Cortex IT Recruitment\", 85000.0], [\"Linux Recruit\", 75000.0], [\"Linux Recruit\", 70000.0], [\"Venturi\", 75000.0], [\"Venturi\", 60000.0]], \"hovertemplate\": \"<b>%{hovertext}</b><br><br>search_term=machine learning engineer<br>salary_from_page_source_as_stated=%{customdata[1]}<br>company=%{customdata[0]}<extra></extra>\", \"hovertext\": [\"Machine Learning Scientist\", \"Deep Learning Intern (No Recruiters)\", \"Machine Learning Engineer\", \"Machine Learning Engineer\", \"Machine Learning Engineer - Causality\", \"Senior Data Scientist / Machine learning engineer\", \"Machine Learning Engineer\", \"Graduate Software Engineer - C# AI Machine Learning\", \"Senior Machine Learning Engineer NLP\", \"Machine Learning Engineer\", \"DevOps Engineer (AI,\\u00a0Deep Learning)\", \"Machine Learning Engineer\", \"Machine Learning Engineer\", \"Data Engineer Python Machine Learning\", \"Senior Machine Learning Engineer\", \"Lead Machine Learning Engineer\", \"Specialist (aka Junior Engineer)\", \"Machine Learning Engineer\", \"Machine Learning Researcher\", \"Data Engineer\", \"Machine Learning Engineer\", \"Machine Learning Engineer; Computer Vision, Data S\", \"Director of Engineering - Machine Learning\", \"Chief Technology Officer\", \"Director of Scientific Writing & Advocacy \\u2013 AI/Machine Learning\", \"C++ Developer - Risk, Machine Learning - London\", \"Machine Learning Engineer\", \"Lead Machine Learning Engineer \\u2013 London\", \"CFD Engineer (Computational Fluid Dynamics)\", \"Lead Engineer - Python - Machine Learning\", \"Lead Machine Learning Engineer - Currently remote working\", \"NLP Engineer\", \"User Researcher\", \"Data Scientist - Machine Learning\", \"Multi-skilled Maintenance Engineer\", \"Lead Machine Learning Engineer/Data Scientist - Azure & Cloud Technology\", \"Software Engineer / Developer\", \"Lead Data Engineer\", \"Backend Engineer (OOP, Microservices, Kubernetes, SQL, GraphQL)\", \"Data Engineer (Java)\", \"Numerical Optimization Researcher\", \"Senior Product Manager, AI Machine Learning, equity offered\", \"Software/Machine Learning Engineer\", \"Front End Engineer, Machine Learning, Saas Startup\", \"Principal Data Scientist\", \"Natural Language Processing Engineer PhD\", \"Python Engineer\", \"Senior Data Scientists Required in the Data & Analytical Services Directorate\", \"Data Engineer (fully remote)\", \"Data engineer\", \"Artificial Intelligence Engineer / Data Scientist\", \"Data Scientist\", \"Python Data Pipeline Engineer (GCP)\", \"Data Engineer\", \"Lead Software Engineer (OOP, Microservices, Kubernetes, AI)\", \"Traffic Microsimulation Researcher - London (Flexible)\", \"Junior Software Engineer C++ Maths\", \"Data Engineer\", \"Data Science Director\", \"Data Engineer\", \"Head of Data Science\", \"Data Scientists (1x Mid, 1x Snr) - Python\", \"Quant Platform Software Engineer\", \"Big Data Engineer\", \"Data Scientist Python\", \"C++ Developer / Engineer - Mathematics\", \"Computer Vision Researcher\", \"Frontend Engineer\", \"Graduate Software Developer\", \"Software Engineer\", \"Lead Hardware Engineer\", \"Data Engineer\", \"C++ Software Engineer MSc PhD\", \"Senior Software Engineer (Backend)\", \"Data Science & Engineering Manager\", \"Senior Product Manager\", \"AI Engineer\", \"Junior Developer\", \"Director of Engineering - AI\", \"Cloud Engineer\", \"Backend Engineer - Microservices\", \"Traffic Microsimulation Researcher\", \"Director of Research\", \"Graduate Developer - Python\", \"Junior Python Developer\", \"Senior Software Engineer\", \"Systems Engineer\", \"Insight Analyst\", \"ML Engineer / Data Scientist\", \"DevOps Engineer\", \"Head of Software Development- (AI Tech Startup)\", \"Data Engineer\", \"AI Engineers\", \"Technical Architect\", \"Data Engineer\", \"Senior Data Engineer\", \"Data Engineer\", \"Network Monitoring Engineers x 3 for central London\", \"Principal Software Engineer\", \"ML Engineer\", \"Head of Data Science\", \"Computer Vision Engineer\", \"Lead Infrastructure Engineer - Open Systems\", \"Senior Cloud Engineer EMEA\", \"Senior Software Engineer: NLP, AI Organisation, Python\", \"Senior Python Engineer\", \"LEAD DEVOPS ENGINEER\", \"Scala Engineer - Big Data\", \"Senior Data Scientist\", \"C++ Developer MSc PhD - Remote Interview\", \"Senior Product Manager - Credit\", \"Python Developer\", \"Senior DevOps Cloud Engineer\", \"Software Engineer - Python\", \"Software Engineer\", \"Data Engineer\", \"Java And Scala Software Engineer\", \"Scala Engineer\", \"Site Reliability Engineer (SRE), DevOps Engineer\", \"Remote or Cambridge Based - Python Engineer\", \"Software Engineer - Python\", \"Senior / Lead Deep Learning Engineer\", \"Python Developer- \\u00a380,000pa\", \"Big Data Engineer (Python, SQL)\", \"Lead Software Engineer / eCommunications / NLP / Financial Trading Data\", \"Senior Data Engineer\", \"Senior Micro Service Data Engineer\", \"Principal Big Data Engineer\", \"Senior Python Software Engineer\", \"Head of Product\", \"Senior Software Engineer\", \"Data Engineer, London\", \"Software Engineer\", \"Information Security Engineer (AWS)\", \"Test Engineer - Platform\", \"Senior Software Engineer\", \"Data Engineers\", \"Embedded Engineer; Software, Hardware, Firmware; R\", \"Senior DevOps Engineer\", \"Data Specialist\", \"Insight Analyst - SQL& Python\", \"Senior iSystems Engineer\", \"Senior Backend Engineer - Python\", \"Senior Insight Analyst\", \"Big Data Engineer Python GCP\", \"Head of Engineering (DevOps, Cloud, Data Analytics, Machine Lea\", \"Data Engineer SQL ETL - FinTech\", \"Back End Node Engineer\", \"Product Manager\", \"Senior Scala/Spark Engineer\", \"Cloud Platform Engineer, Amazing Greenfield Programme\", \"Senior Software Engineer (AI/Machine learning)\", \"Lead Software Engineer\", \"Backend Engineer - Golang\", \"Front End Developer\", \"Site Reliability Engineer\", \"Principal Data Engineer (team lead)\", \"Golang Engineer\", \"Java Software Engineer\", \"Product Engineer\", \"Senior DevOps Engineer - Simulation\", \"Software Engineer (Lead)\", \"Graduate Cloud Platform Manager\", \"Platform Engineer SRE\", \"Big Data Lead\", \"DevOps Engineer - Kubernetes/AWS/Terraform\", \"Junior .NET Software Engineer\", \"Senior Python Developer - Risk - London\", \"C# Developers job\", \"Principal DevOps Engineer\", \"Java Data Enginner\", \"Graduate Full-Stack Developer\", \"Senior Python Software Engineer\", \"Data Science Software Engineer (AI Start-Up) - Python\", \"Engineering Manager / Engineering Director\", \"Mathematical Software Engineer\", \"Senior Data Engineer\", \"Front-end Engineer: Angular, TypeScript\", \"Frontend Engineer\", \"Senior ML Engineer\", \"AI Software Engineer\", \"Data Warehouse Engineer SQL SSIS SSRS\", \"Lead Frontend Javascript Engineer\", \"Senior Big Data Engineer - Scala/Spark\", \"Polygot Engineer\", \"Backend / Full Stack Developer\", \"Senior Software Engineer - Product\", \"Senior UI Developer - (Up to \\u00a385, 000)\", \"Python Developer - Cyber Security\", \"Polyglot Engineer (AI Start-Up) - Python/ Golang/ Javascript\", \"Software Engineer / Developer (Python)\", \"Senior Frontend Developer\", \"Senior Javascript Engineer\", \"Senior DevOps Engineer/Architect\", \"Back-end Engineer: Spring, Kotlin/Java\", \"Senior DevOps\", \"Senior Linux/DevOps Engineer with focus on Big Data\", \"Java Developer - Insurance Tech, London (Bromley)\", \"Senior Full-stack Developer\", \"React and Redux JavaScript Front-end Developer\"], \"legendgroup\": \"machine learning engineer\", \"marker\": {\"color\": \"red\"}, \"name\": \"machine learning engineer\", \"notched\": true, \"offsetgroup\": \"machine learning engineer\", \"showlegend\": false, \"type\": \"box\", \"x\": [100000.0, 35165.0, 70000.0, 60000.0, 110000.0, 80000.0, 70000.0, 50000.0, 180000.0, 140000.0, 80000.0, 70000.0, 85000.0, 80000.0, 90000.0, 150000.0, 30000.0, 60000.0, 120000.0, 30000.0, 85000.0, 55000.0, 110000.0, 80000.0, 100000.0, 90000.0, 100000.0, 90000.0, 45000.0, 95000.0, 140000.0, 100000.0, 80000.0, 90000.0, 41300.0, 100000.0, 48000.0, 85000.0, 90000.0, 110000.0, 120000.0, 80000.0, 60000.0, 80000.0, 72400.0, 75000.0, 85000.0, 52248.0, 60000.0, 70000.0, 110000.0, 60000.0, 80000.0, 80000.0, 120000.0, 65000.0, 55000.0, 70000.0, 165000.0, 60000.0, 140000.0, 70000.0, 94948.0, 100000.0, 80000.0, 55000.0, 130000.0, 60000.0, 40000.0, 60000.0, 80000.0, 70000.0, 55000.0, 75000.0, 120000.0, 98000.0, 60000.0, 25000.0, 110000.0, 100000.0, 70000.0, 60000.0, 100000.0, 36000.0, 45000.0, 70000.0, 80000.0, 50000.0, 65000.0, 90000.0, 130000.0, 60000.0, 85000.0, 32000.0, 85000.0, 80000.0, 80000.0, 55000.0, 100000.0, 70000.0, 110000.0, 70000.0, 62861.0, 80000.0, 85000.0, 130000.0, 110000.0, 85000.0, 85000.0, 55000.0, 80000.0, 85000.0, 85000.0, 40000.0, 80000.0, 25000.0, 80000.0, 85000.0, 104000.0, 60000.0, 80000.0, 80000.0, 80000.0, 80000.0, 150000.0, 82000.0, 120000.0, 90000.0, 85000.0, 130000.0, 85000.0, 85000.0, 85000.0, 65000.0, 45000.0, 100000.0, 80000.0, 55000.0, 70000.0, 50000.0, 50000.0, 56000.0, 80000.0, 65000.0, 75000.0, 125000.0, 65000.0, 55000.0, 100000.0, 85000.0, 70000.0, 85000.0, 65000.0, 75000.0, 60000.0, 80000.0, 100000.0, 65000.0, 65000.0, 30000.0, 90000.0, 80000.0, 24000.0, 90000.0, 95000.0, 65000.0, 30000.0, 85000.0, 55000.0, 85000.0, 100000.0, 30000.0, 85000.0, 86000.0, 100000.0, 55000.0, 35000.0, 80000.0, 80000.0, 80000.0, 85000.0, 65000.0, 80000.0, 85000.0, 66000.0, 85000.0, 80000.0, 85000.0, 70000.0, 86000.0, 60000.0, 90000.0, 60000.0, 90000.0, 80000.0, 85000.0, 75000.0, 70000.0, 75000.0, 60000.0], \"xaxis\": \"x2\", \"yaxis\": \"y2\"}, {\"alignmentgroup\": \"True\", \"bingroup\": \"x\", \"hovertemplate\": \"search_term=data analyst<br>salary_from_page_source_as_stated=%{x}<br>count=%{y}<extra></extra>\", \"legendgroup\": \"data analyst\", \"marker\": {\"color\": \"gold\", \"opacity\": 0.6}, \"name\": \"data analyst\", \"nbinsx\": 20, \"offsetgroup\": \"data analyst\", \"orientation\": \"v\", \"showlegend\": true, \"type\": \"histogram\", \"x\": [34000.0, 22000.0, 23000.0, 35000.0, 42148.0, 30000.0, 80000.0, 38000.0, 28000.0, 18000.0, 32188.0, 30000.0, 26000.0, 35000.0, 30000.0, 44503.0, 42000.0, 55000.0, 34999.0, 70000.0, 36000.0, 30000.0, 35000.0, 24000.0, 45000.0, 38618.0, 38000.0, 52000.0, 40000.0, 75000.0, 65000.0, 25000.0, 31415.0, 45000.0, 75000.0, 35846.0, 35000.0, 18000.0, 35000.0, 33000.0, 45422.0, 39000.0, 65000.0, 69365.0, 38775.0, 38580.0, 32000.0, 35000.0, 35000.0, 30000.0, 50000.0, 45000.0, 60000.0, 32000.0, 42000.0, 28000.0, 36027.0, 40000.0, 18000.0, 30022.0, 72000.0, 25000.0, 55000.0, 74000.0, 45000.0, 40000.0, 70000.0, 38373.0, 25000.0, 40000.0, 45000.0, 43889.0, 40000.0, 39238.0, 85000.0, 40000.0, 35000.0, 60000.0, 65000.0, 75000.0, 40000.0, 28000.0, 50000.0, 60000.0, 40000.0, 45000.0, 34000.0, 40000.0, 44065.0, 45000.0, 38373.0, 40000.0, 31415.0, 45000.0, 65000.0, 50000.0, 51393.0, 65000.0, 55000.0, 65000.0, 50000.0, 65000.0, 80000.0, 45000.0, 35000.0, 18000.0, 40000.0, 60000.0, 45000.0, 60000.0, 32000.0, 54671.0, 50000.0, 58558.0, 55000.0, 45000.0, 60000.0, 29000.0, 65000.0, 40000.0, 42000.0, 32000.0, 75000.0, 47579.0, 30000.0, 45000.0, 72550.0, 70000.0, 35000.0, 37000.0, 70000.0, 30000.0, 60000.0, 50000.0, 120000.0, 65000.0, 80000.0, 62000.0, 75000.0, 90000.0, 50000.0, 35000.0, 47724.0, 35000.0, 44503.0, 30000.0, 55000.0, 90000.0, 70000.0, 53500.0, 40000.0, 32000.0, 65000.0, 90000.0, 40000.0, 70000.0, 36000.0, 30000.0, 35000.0, 35000.0, 75000.0, 43000.0, 80000.0, 45000.0, 48000.0, 55000.0, 75000.0, 70000.0, 40000.0, 15600.0, 35000.0, 65000.0, 35000.0, 45000.0, 28000.0, 39246.0, 35000.0, 125000.0, 35000.0, 50000.0, 40000.0, 36027.0, 50000.0, 45000.0, 30000.0, 40000.0, 44000.0, 35000.0, 60000.0, 55000.0, 55000.0, 90000.0, 35000.0, 20000.0, 45000.0, 32000.0, 55000.0, 30000.0, 65000.0, 90000.0, 55000.0, 35000.0, 58000.0, 50000.0, 50000.0, 28380.0, 63479.0, 36000.0, 55000.0, 45000.0, 35000.0, 40215.0, 30000.0, 60000.0, 45000.0, 70000.0, 100000.0, 150000.0, 45000.0, 90000.0, 60000.0, 50000.0, 45000.0, 55000.0, 43000.0, 45000.0, 40000.0, 45000.0, 75000.0, 40000.0, 55000.0, 45000.0, 65000.0, 23000.0, 45000.0, 65000.0, 60000.0, 75000.0, 33000.0, 84000.0, 40000.0, 40000.0, 45000.0, 65000.0, 50000.0, 60000.0, 70000.0, 55000.0, 50000.0, 40000.0, 80000.0, 60000.0, 75000.0, 25000.0, 20000.0, 45000.0, 55000.0, 30000.0, 40000.0, 60000.0, 60000.0, 60000.0, 40000.0, 75000.0, 25000.0, 38000.0, 55000.0, 60000.0, 55000.0, 30000.0, 45000.0, 70000.0, 55000.0, 45000.0, 120000.0, 40000.0, 80000.0, 55000.0, 80000.0, 68891.0, 25000.0, 50000.0, 23000.0, 75000.0, 45000.0, 60000.0, 75000.0, 50000.0, 44000.0, 60000.0, 60000.0, 45000.0, 50000.0, 70000.0, 36000.0, 60000.0, 70000.0, 30000.0, 28000.0, 65000.0, 50000.0, 50000.0, 35000.0, 60000.0, 55000.0, 40000.0, 55000.0, 70000.0, 55000.0, 19000.0, 75000.0, 70000.0, 70000.0, 55000.0, 55000.0, 48000.0, 75000.0, 35000.0, 55000.0, 55000.0, 40000.0, 50000.0, 65000.0, 45000.0, 50000.0, 80000.0, 100000.0, 60000.0, 60000.0, 30000.0, 60000.0, 70000.0, 65000.0, 40000.0, 65000.0, 65000.0, 60000.0, 60000.0, 45000.0, 60000.0, 35000.0, 60000.0, 60000.0, 95000.0], \"xaxis\": \"x\", \"yaxis\": \"y\"}, {\"alignmentgroup\": \"True\", \"customdata\": [[\"A2Dominion\", 34000.0], [\"BlackLion Law\", 22000.0], [\"Savincom\", 23000.0], [\"Network Rail\", 35000.0], [\"UK Government - National Crime Agency\", 42148.0], [\"ELIGIBLE\", 30000.0], [\"SystemsAccountants\", 80000.0], [\"White Bullet Solutions Ltd\", 38000.0], [\"IBD Registry\", 28000.0], [\"Digitas\", 18000.0], [\"Action Against Medical Accidents\", 32188.0], [\"Bobtrade\", 30000.0], [\"Ampersand Consulting\", 26000.0], [\"John Whitgift Foundation\", 35000.0], [\"Church International Ltd.\", 30000.0], [\"NHS England and NHS Improvement\", 44503.0], [\"Financial Conduct Authority\", 42000.0], [\"Michael Page UK\", 55000.0], [\"TSB Banking\", 34999.0], [\"Client Server\", 70000.0], [\"Sanlam UK\", 36000.0], [\"Newham Council\", 30000.0], [\"AXA UK\", 35000.0], [\"Chambers & Partners\", 24000.0], [\"Noir Consulting\", 45000.0], [\"UK Government - Department for Digital, Culture, Media and Sport\", 38618.0], [\"Urban Empire Recruitment\", 38000.0], [\"Futurios.com\", 52000.0], [\"Jewish Care\", 40000.0], [\"Harrison Holgate\", 75000.0], [\"Lawrence Harvey\", 65000.0], [\"Ampersand Consulting\", 25000.0], [\"Metropolitan Police\", 31415.0], [\"The Global Search Company\", 45000.0], [\"Kite Group\", 75000.0], [\"UK Government - National Crime Agency\", 35846.0], [\"Ampersand Consulting\", 35000.0], [\"Inspiring Interns\", 18000.0], [\"FXCM\", 35000.0], [\"Understanding Recruitment\", 33000.0], [\"Imperial College London\", 45422.0], [\"Understanding Recruitment\", 39000.0], [\"Respect Consulting Group\", 65000.0], [\"UK Government - Government Digital Service\", 69365.0], [\"Slough Borough Council\", 38775.0], [\"UK Government - Cabinet Office\", 38580.0], [\"Trust In Soda\", 32000.0], [\"Michael Page UK\", 35000.0], [\"Ashdown Group\", 35000.0], [\"Taylor James Resourcing\", 30000.0], [\"Digital Recruitment Company\", 50000.0], [\"Harnham\", 45000.0], [\"Venturi\", 60000.0], [\"Trust In Soda\", 32000.0], [\"kdr Recruitment\", 42000.0], [\"Taylor James Resourcing\", 28000.0], [\"UK Government - Office for National Statistics\", 36027.0], [\"Cortex IT Recruitment\", 40000.0], [\"Inspiring Interns\", 18000.0], [\"Care Quality Commission\", 30022.0], [\"International Union of Credit and Investment Insurers - The Berne Union\", 72000.0], [\"Inspiring Interns\", 25000.0], [\"Aspire\", 55000.0], [\"UK Government - Office of Gas and Electricity Markets\", 74000.0], [\"Linux Recruit\", 45000.0], [\"Raven Housing Trust Ltd\", 40000.0], [\"Aardvark Swift\", 70000.0], [\"Ministry of Justice\", 38373.0], [\"Inspiring Interns\", 25000.0], [\"Cornwaliis Elt\", 40000.0], [\"Central Asia Logistics Limited\", 45000.0], [\"UK Government - Cabinet Office\", 43889.0], [\"Harrison Holgate\", 40000.0], [\"Shelter\", 39238.0], [\"Cuvva\", 85000.0], [\"MW Appointments\", 40000.0], [\"Metrica Recruitment\", 35000.0], [\"Blu Digital\", 60000.0], [\"Daniel Alexander Recruitment\", 65000.0], [\"Client Server\", 75000.0], [\"Warner Scott\", 40000.0], [\"Success Appointments\", 28000.0], [\"Barker Munro\", 50000.0], [\"Harrison Holgate\", 60000.0], [\"Recruiters\", 40000.0], [\"TalentPool\", 45000.0], [\"Metrica Recruitment\", 34000.0], [\"Jupiter Management Consultancy (JMC)\", 40000.0], [\"Nationwide Building Society\", 44065.0], [\"Michael Page UK\", 45000.0], [\"HM Courts and Tribunals Service\", 38373.0], [\"New Page Recruitment\", 40000.0], [\"Metropolitan Police\", 31415.0], [\"AXA UK\", 45000.0], [\"HPD Software\", 65000.0], [\"Creative Personnel\", 50000.0], [\"Chelsea and Westminster Hospital NHS Foundation Trust\", 51393.0], [\"Ampersand Consulting\", 65000.0], [\"Taylor James Resourcing\", 55000.0], [\"Oscar Technology\", 65000.0], [\"Avencia\", 50000.0], [\"Ampersand Consulting\", 65000.0], [\"Cornwaliis Elt\", 80000.0], [\"Bramwith Consulting\", 45000.0], [\"Lime Talent\", 35000.0], [\"Inspiring Interns\", 18000.0], [\"Ampersand Consulting\", 40000.0], [\"Portify\", 60000.0], [\"Taylor James Resourcing\", 45000.0], [\"Harrington Starr\", 60000.0], [\"Remarkable Jobs\", 32000.0], [\"SYNLAB\", 54671.0], [\"GCS Recruitment Specialists Ltd\", 50000.0], [\"St George's University Hospitals NHS Foundation Trust\", 58558.0], [\"Harnham\", 55000.0], [\"McGregor Boyall\", 45000.0], [\"Donatus and Company\", 60000.0], [\"Inspiring Interns\", 29000.0], [\"Harnham\", 65000.0], [\"Taylor James Resourcing\", 40000.0], [\"3Search\", 42000.0], [\"D R Newitt\", 32000.0], [\"Cyan Executive Search\", 75000.0], [\"Imperial College London\", 47579.0], [\"System Recruitment\", 30000.0], [\"Harnham\", 45000.0], [\"The Hyde Group\", 72550.0], [\"Aspire\", 70000.0], [\"Incite Insight\", 35000.0], [\"OneSavings Bank PLC\", 37000.0], [\"Harnham\", 70000.0], [\"Metrica Recruitment\", 30000.0], [\"Barclay Simpson\", 60000.0], [\"Ampersand Consulting\", 50000.0], [\"Oho Group\", 120000.0], [\"Ampersand Consulting\", 65000.0], [\"Quinnox Consultancy Services\", 80000.0], [\"Harcourt Matthews\", 62000.0], [\"Harrison Holgate\", 75000.0], [\"Michael Page UK\", 90000.0], [\"Eames Consulting\", 50000.0], [\"Smartest Energy\", 35000.0], [\"Allen Lane\", 47724.0], [\"Venturi\", 35000.0], [\"Arden and GEM Commissioning Support Unit\", 44503.0], [\"Eames Consulting\", 30000.0], [\"PayPal\", 55000.0], [\"Michael Page UK\", 90000.0], [\"Eames Consulting\", 70000.0], [\"British Heart Foundation\", 53500.0], [\"Metrica Recruitment\", 40000.0], [\"Taylor James Resourcing\", 32000.0], [\"Red10\", 65000.0], [\"Cornwaliis Elt\", 90000.0], [\"Cornwaliis Elt\", 40000.0], [\"KennedyPearce Consulting\", 70000.0], [\"Page Personnel - UK\", 36000.0], [\"Page Personnel - UK\", 30000.0], [\"Datatech Analytics\", 35000.0], [\"New Page Recruitment\", 35000.0], [\"Proactive.IT Appointments\", 75000.0], [\"Empirical Search\", 43000.0], [\"Venturi\", 80000.0], [\"Harnham\", 45000.0], [\"Langley James IT Recruitment\", 48000.0], [\"Sam Stafford Search\", 55000.0], [\"Martin and Conley\", 75000.0], [\"A.T.M Strategic Management Consulting\", 70000.0], [\"cer Financial Ltd\", 40000.0], [\"Inspiring Interns\", 15600.0], [\"Harrison Holgate\", 35000.0], [\"Ampersand Consulting\", 65000.0], [\"Eames Consulting\", 35000.0], [\"Donatus and Company\", 45000.0], [\"Taylor James Resourcing\", 28000.0], [\"Surrey County Council\", 39246.0], [\"Ashdown Group\", 35000.0], [\"Oho Group\", 125000.0], [\"Datatech Analytics\", 35000.0], [\"Hydrogen Group\", 50000.0], [\"Bolton Associates\", 40000.0], [\"UK Government - Office for National Statistics\", 36027.0], [\"Harnham\", 50000.0], [\"IPS Group\", 45000.0], [\"Taylor James Resourcing\", 30000.0], [\"Walters People\", 40000.0], [\"Understanding Recruitment\", 44000.0], [\"Ampersand Consulting\", 35000.0], [\"Kite Group\", 60000.0], [\"Taylor James Resourcing\", 55000.0], [\"Datatech Analytics\", 55000.0], [\"Harrington Starr\", 90000.0], [\"AXA UK\", 35000.0], [\"Inspiring Interns\", 20000.0], [\"Blue Pelican\", 45000.0], [\"Datatech Analytics\", 32000.0], [\"Venturi\", 55000.0], [\"Datatech Analytics\", 30000.0], [\"Datatech Analytics\", 65000.0], [\"Cornwaliis Elt\", 90000.0], [\"Sentinel\", 55000.0], [\"Datatech Analytics\", 35000.0], [\"Empirical Search\", 58000.0], [\"Warner Scott\", 50000.0], [\"The Green Recruitment Company\", 50000.0], [\"Stanmore College\", 28380.0], [\"Davanti Solutions\", 63479.0], [\"Metrica Recruitment\", 36000.0], [\"Ambition\", 55000.0], [\"Datatech Analytics\", 45000.0], [\"Digital Ambition\", 35000.0], [\"Imperial College London\", 40215.0], [\"Datatech Analytics\", 30000.0], [\"Harnham\", 60000.0], [\"Blue Pelican\", 45000.0], [\"Client Server\", 70000.0], [\"Cornwaliis Elt\", 100000.0], [\"Oho Group\", 150000.0], [\"Blue Pelican\", 45000.0], [\"Michael Page UK\", 90000.0], [\"Venturi\", 60000.0], [\"Harnham\", 50000.0], [\"Metrica Recruitment\", 45000.0], [\"Harrison Holgate\", 55000.0], [\"Page Personnel - UK\", 43000.0], [\"H&R Talent\", 45000.0], [\"Harnham US\", 40000.0], [\"Psixty Recruitment\", 45000.0], [\"Hydrogen Group\", 75000.0], [\"Datatech Analytics\", 40000.0], [\"Michael Page UK\", 55000.0], [\"Eames Consulting\", 45000.0], [\"Harrison Holgate\", 65000.0], [\"Inspiring Interns\", 23000.0], [\"kdr Recruitment\", 45000.0], [\"Harnham\", 65000.0], [\"Feedr\", 60000.0], [\"Harnham\", 75000.0], [\"Catsurveys\", 33000.0], [\"Aquent\", 84000.0], [\"Bolton Associates\", 40000.0], [\"Aspire\", 40000.0], [\"Sentinel IT\", 45000.0], [\"Ampersand Consulting\", 65000.0], [\"AXA UK\", 50000.0], [\"Harnham\", 60000.0], [\"kdr Recruitment\", 70000.0], [\"Harnham\", 55000.0], [\"Metrica Recruitment\", 50000.0], [\"MW Appointments\", 40000.0], [\"Venturi\", 80000.0], [\"BiS Henderson Limited\", 60000.0], [\"Michael Page UK\", 75000.0], [\"Langley James IT Recruitment\", 25000.0], [\"Inspiring Interns\", 20000.0], [\"Eames Consulting\", 45000.0], [\"Taylor James Resourcing\", 55000.0], [\"Inspiring Interns\", 30000.0], [\"Eames Consulting\", 40000.0], [\"Ultimate Asset\", 60000.0], [\"Ampersand Consulting\", 60000.0], [\"Cornwaliis Elt\", 60000.0], [\"Venturi\", 40000.0], [\"Harrison Holgate\", 75000.0], [\"Hasson Associates\", 25000.0], [\"Metrica Recruitment\", 38000.0], [\"Informatiq Consulting\", 55000.0], [\"3Search\", 60000.0], [\"kdr Recruitment\", 55000.0], [\"GCS Recruitment Specialists Ltd\", 30000.0], [\"Harrison Holgate\", 45000.0], [\"Warner Scott\", 70000.0], [\"Harnham\", 55000.0], [\"Digital Experts Personnel\", 45000.0], [\"Cameron Kennedy\", 120000.0], [\"Warman O'Brien\", 40000.0], [\"BWD Search & Selection Ltd\", 80000.0], [\"Executive Recruitment Services\", 55000.0], [\"Taylor James Resourcing\", 80000.0], [\"King's College Hospital NHS Foundation Trust\", 68891.0], [\"Langley James IT Recruitment\", 25000.0], [\"Metrica Recruitment\", 50000.0], [\"Page Personnel - UK\", 23000.0], [\"Barker Munro\", 75000.0], [\"BWD Search & Selection Ltd\", 45000.0], [\"Michael Page UK\", 60000.0], [\"Harrington Starr\", 75000.0], [\"Metrica Recruitment\", 50000.0], [\"Novation Solutions Ltd\", 44000.0], [\"Ampersand Consulting\", 60000.0], [\"Proactive.IT Appointments\", 60000.0], [\"Page Personnel - UK\", 45000.0], [\"Creative Personnel\", 50000.0], [\"Red10\", 70000.0], [\"Venturi\", 36000.0], [\"Harnham\", 60000.0], [\"Warner Scott\", 70000.0], [\"Taylor James Resourcing\", 30000.0], [\"Datatech Analytics\", 28000.0], [\"Quota Recruitment\", 65000.0], [\"Wade Macdonald\", 50000.0], [\"Wade Macdonald\", 50000.0], [\"Goodman Masson\", 35000.0], [\"Datascope Recruitment\", 60000.0], [\"Warner Scott\", 55000.0], [\"Barclay Simpson\", 40000.0], [\"ShareForce\", 55000.0], [\"Ampersand Consulting\", 70000.0], [\"H&R Talent\", 55000.0], [\"Langley James IT Recruitment\", 19000.0], [\"Harnham\", 75000.0], [\"KPS\", 70000.0], [\"The Digital Recruitment Company\", 70000.0], [\"Venturi\", 55000.0], [\"Eames Consulting\", 55000.0], [\"Harnham\", 48000.0], [\"Taylor James Resourcing\", 75000.0], [\"Digital Experts Personnel\", 35000.0], [\"H&R Talent\", 55000.0], [\"Warner Scott\", 55000.0], [\"Moonshot CVE Ltd\", 40000.0], [\"Venturi\", 50000.0], [\"Ampersand Consulting\", 65000.0], [\"Warner Scott\", 45000.0], [\"Metrica Recruitment\", 50000.0], [\"Taylor James Resourcing\", 80000.0], [\"FINTEC recruit Ltd\", 100000.0], [\"PeopleFirst Recruitment\", 60000.0], [\"CK Group\", 60000.0], [\"Metrica Recruitment\", 30000.0], [\"Metrica Recruitment\", 60000.0], [\"Sanderson Recruitment Plc\", 70000.0], [\"Venturi\", 65000.0], [\"Metrica Recruitment\", 40000.0], [\"EMR Marketing Recruitment\", 65000.0], [\"Harnham\", 65000.0], [\"Harnham\", 60000.0], [\"Harnham\", 60000.0], [\"Page Personnel - UK\", 45000.0], [\"PeopleFirst Recruitment\", 60000.0], [\"Digital Experts Personnel\", 35000.0], [\"Harnham\", 60000.0], [\"Ampersand Consulting\", 60000.0], [\"Harnham\", 95000.0]], \"hovertemplate\": \"<b>%{hovertext}</b><br><br>search_term=data analyst<br>salary_from_page_source_as_stated=%{customdata[1]}<br>company=%{customdata[0]}<extra></extra>\", \"hovertext\": [\"Data & Performance Analyst\", \"Data Analyst\", \"Support Data Analyst\", \"Engineering Data Analyst\", \"Data Analyst, Data Science \\u2013 National Data Exploitation Capability\", \"Data Analyst\", \"Master Data Analyst\", \"Data Analyst and Quality Assurance Manager\", \"Data Analyst/ Statistician\", \"Data Analyst Apprentice\", \"Database & Digital Analyst\", \"Data Analyst at Bobtrade.com\", \"Data Analyst (Excel, SQL, Data)\", \"Data Analyst\", \"Junior Data Analyst\", \"Analyst\", \"Data Quality Analyst\", \"Financial Reporting Analyst\", \"Risk Analyst\", \"Business Intelligence Analyst - Data Modelling\", \"Data Workflow Analyst\", \"Property Business & Data Analyst\", \"Market Pricing Analyst\", \"Research Analyst\", \"BI / Data Warehouse Developer - Digital Download Site - London\", \"Modelling & Data team Analyst\", \"Data Analyst\", \"Web Analyst\", \"HR Data Analyst\", \"Data Governance Analyst\", \"Data Analyst\", \"Junior Data Analyst (Excel, Distribution, Policy)\", \"Experienced Intelligence Analysts\", \"Commercial Performance Analyst\", \"Data Analytics Analyst - R or Python - Capital Markets\", \"G4 Senior Data Analyst \\u2013 TRACER\", \"Data Insight Analyst (SQL, BI, Tableau)\", \"Data Analyst\", \"Data Analyst\", \"Database Analyst\", \"Health Intelligence Analyst\", \"Marketing Insight Analyst\", \"Data Analyst\", \"Principal Data Analyst\", \"Performance Analyst\", \"HEO - Operational Data Analyst\", \"Data Analyst\", \"Data Analyst\", \"Data Analyst\", \"Graduate MI and Data Analyst\", \"Data Analyst - Customer Experience\", \"Data Analyst\", \"Data Analyst\", \"Junior Data Analyst\", \"Data Analyst \\u2013 London\", \"Data Analyst - Reinsurance Market Math//Numerical grad\", \"Analysis Function Capability and Capacity Analyst\", \"Business Intelligence Consultant\", \"Graduate Data Analyst\", \"Business Analyst\", \"Economic Research Analyst\", \"Junior Data Analyst\", \"Mobile Games Data Analyst\", \"Head of Audit and Data Analytics\", \"Data/Customer Analyst\", \"SQL BI Data Analyst\", \"Data Analyst - London, UK\", \"Performance Analyst\", \"Data & Research Analyst\", \"Index Analyst - Financial Markets, Analyst, Data,Indexes,Indices,Risk,Compliance\", \"Business Analyst\", \"SEO - Analyst\", \"BI Data Analyst\", \"Senior Insight & Data Analyst - London\", \"Lead/Senior Data Analyst\", \"BI - Data Analyst\", \"Statistical Data Analyst\", \"Data Analyst - Professional Services\", \"Marketing Data Analyst\", \"Data Analyst Python KDB - Finance\", \"Forensic Data Analyst\", \"PRODUCT DATA ADMINSTRATOR/ ANALYST\", \"Data Analyst\", \"Data Analyst\", \"Junio Data Analyst - London\", \"Business Solution Analyst\", \"Statistical Healthcare Analyst\", \"Junior Reward Analyst\", \"Innovation Analyst\", \"Data / MI Analyst - London\", \"Performance Analyst\", \"International Media Data Analyst\", \"Experienced intelligence analyst\", \"Outsourcing and Third-Party Risk Analyst\", \"Senior Business Systems Analyst\", \"Mobile Games Data Analyst\", \"Lead Information Analyst\", \"Senior Technical Business Analyst (NHS, Data, 365)\", \"Financial Reporting Data Analyst (Solvency 11 knowledge)\", \"Senior Data Analyst\", \"Compliance Analyst\", \"Head of Engagement (SaaS, Start-Up, Analytics, Data, B2B)\", \"SQL Developer - Data Analyst - Business Analysis - DataWarehouse\", \"Product Sourcing Analyst\", \"Supply Chain Analyst\", \"Business/Data Analyst\", \"BUSINESS IMPROVEMENT ANALYST (PROCESS IMPROVEMENT/ AGILE / BA)\", \"Performance Marketing Analyst/Associate\", \"VBA (some Python) Data Analyst - Financial Trading Markets -\", \"Performance / Data Analyst \\u2013 FactSet Migration/ 6 - month FTC\", \"Data and Reporting Analyst\", \"Information Analyst (9 months FTC)\", \"Data Analyst / Growth / Start-up\", \"Principal Information Analyst - Finance and Commissioning\", \"Tableau BI Analyst\", \"ESG Data Analyst - FTC\", \"Business Analyst (Functional Design, IT, OTC Derivatives, Swap)\", \"Performance Marketing Analyst\", \"Digital Data Analyst\", \"Data Management Analyst (Fund Pricing)\", \"CRM INSIGHT ANALYST\", \"SAP Supply Chain Analyst\", \"BUSINESS INTELLIGENCE MANAGER - DATA STRATEGY/ DATA INTELLIGENCE\", \"Research Associate in Quantitative Analysis of NHS Data\", \"Junior Quantitative Researcher\", \"Insight Analyst\", \"Business Intelligence Architect (Contract)\", \"Research Analyst\", \"Disclosure Systems Analyst\", \"Junior Risk Analyst - Capital and Impairment\", \"Data Science Analyst\", \"The Information Lab Consulting Analyst\", \"Third Party Risk Analyst\", \"Business Analyst (Investment, Digital)\", \"Quant Analyst / Quant Researcher\", \"Data Analytics Consultant (AWS, Kafka, BI)\", \"Digital Business Analyst/ Product Analyst (Retail & Corporate Banking)\", \"Pricing Analyst\", \"Business Data Analyst\", \"Research Analyst - Middle Distillates\", \"Actuarial Pricing Analyst\", \"Market Risk Analyst\", \"Senior Procurement Analyst\", \"Database Support Analyst\", \"Principal Information Analyst\", \"Pricing Analyst - Fixed term Contract\", \"Business Intelligence Analyst\", \"Research Analyst - Crude Oil\", \"Pricing Actuarial Analyst\", \"Business Analyst Team Lead\", \"Insight Analyst - SQL\", \"Audit/Controls//Reg & Compliance Analyst - Lloyds Market\", \"Data Management Analyst \\u2013 Markit EDM\", \"Senior Data Solutions Architect \\u2013 Business Intelligence\", \"Regulatory Reporting Analyst - Regulation, Reporting, Analysis, MiFID, EMIR, Collateral\", \"Quantitative Analyst\", \"Data Analyst - Financial Services\", \"Finance Data Analyst\", \"Data Science Analyst\", \"Media Analyst\", \"Business Analyst\", \"Regulatory Reporting Analyst\", \"Senior Data Analyst\", \"Customer Insight Analyst\", \"Data Analyst; SSRS\", \"Financial Reporting Analyst\", \"CRM Business Analyst\", \"Senior Business Analyst (SBA)\", \"Trade and Transaction Reporting Analyst\", \"Research/Analyst\", \"Assistant Business Analyst\", \"Operational Risk Analyst (Confluence, Risk, Excel)\", \"Actuarial Pricing Analyst FTC 12 months\", \"Senior Operational Risk Analyst\", \"Data Analyst with VBA- Insurance Market\", \"Information Analyst - Business Intelligence - Adult Social Care\", \"Billing Analyst\", \"Quant Researcher/Data Scientist\", \"Business Insight Analyst\", \"Data Analyst/Developer\", \"Research Analyst\", \"Senior Analyst\", \"Senior Fraud Analyst\", \"Test Analyst \\u2013 London Insurance Market Experience Required\", \"Graduate Risk Analyst\", \"Finance Business Intelligence Analyst\", \"Business Analyst\", \"Business Analyst (SQL Server, SQL, Python, SSIS, MS Office)\", \"Senior Risk Analyst - Market Risk/VaR\", \"Investment Data Analyst (VBA / SQL)\", \"Data Analytics Consultant\", \"Data Analytics Engineer (Java/Python) - \\u00a390,000\", \"Technical Pricing Analyst (Home)\", \"Business Analyst\", \"Customer Analyst\", \"Business Science Analyst\", \"Data Integration Analyst\", \"Marketing Campaign Analyst\", \"Senior Data Analyst\", \"Senior Business Analyst - Risk Analytics\", \"BI Consultant (Looker)\", \"Marketing Analyst - Econometrician\", \"Treasury Analyst (Funding, Liquidity & Reporting)\", \"Data Analytics Consultant\", \"Risk and Trading Analyst\", \"Data and Reporting Analyst\", \"SAP Data Services / Business Objects Information Analyst - Healthcare\", \"Marketing Analyst - SQL\", \"Financial Reporting Analyst\", \"Digital Analyst\", \"PPC Analyst\", \"Research Associate in Data Analysis\", \"Management Information Analyst\", \"Business Intelligence Analyst\", \"Campaign Insight Analyst\", \"Senior BI Analyst SQL - FinTech\", \"Business Analyst\", \"Quantitative Researcher\", \"Insight & Reporting Analyst\", \"Head of Analytics & Data\", \"CRM Business Analyst\", \"Marketing Analyst\", \"Insight Analyst - eCommerce\", \"Senior Risk Analyst\", \"Analyst - Regulatory Reporting - Commodities\", \"Business Analyst\", \"Insight Analyst\", \"Inside Sales - Big Data Analytics\", \"Data Quality Analyst \\u2013 Financial Services \\u2013 London\", \"Insight Analyst - 12 month FTC\", \"Market Risk Analyst\", \"Pricing Analyst\", \"Underwriting Business Analyst\", \"Graduate Marketing Analyst\", \"Business Analyst \\u2013 London\", \"Senior BI Analyst\", \"Data Analyst\", \"Data Science - Fraud Analytics\", \"GPR Analyst\", \"Quantitative Data Scientist / Analyst - Ads engineering\", \"Underwriting Performance Analyst\", \"Programmatic Analyst\", \"Business Intelligence Analyst\", \"Quantitative Analyst (Matlab, C#, Sports Betting, Quant)\", \"Senior Market Pricing Analyst\", \"Product Analyst\", \"Power BI Developer \\u2013 London\", \"Senior Insight Analyst\", \"Lead Market Insight Analyst\", \"Business Analyst\", \"BI Engineer\", \"Logistics Process Analyst\", \"Quantitative Risk Analyst\", \"Junior Data Analyst, Hersham, SQL, Power BI\", \"Graduate Digital Marketing Analyst\", \"Risk Actuarial Analyst (ERM & Analytics)\", \"Financial Planning Analyst\", \"Customer Operations Analyst\", \"Actuarial Risk Analyst\", \"Senior Programmatic Analyst\", \"Data Engineer / DBA (SQL, Python, Analytics)\", \"Senior Risk Analyst - Murex, Excel, VBA, Rates, VaR, Market Risk, OTC, Financial Services\", \"Test Analyst\", \"Business Solutions Analyst\", \"Arabic Social Insights Analyst\", \"Business Intelligence Analyst - SQL& Tableau\", \"Data Analyst\", \"DIGITAL ANALYST\", \"Business Intelligence Consultant \\u2013 London\", \"Research Analyst\", \"ERM Risk Analyst\", \"Consultant/Senior Consultant \\u2013 Data Analytics\", \"Lead Insight Analyst\", \"Marketing Communication Analyst\", \"Quantitative Risk Analyst\", \"Statistical Programming Analyst- Pharma\", \"Reporting Analyst\", \"Data Analyst\", \"Transaction Reporting Analyst (6 month Contract)\", \"Deputy Head of Financial Management Information & Analysis\", \"Data Analyst, Hersham, SQL, Power BI\", \"Marketing Analyst - SQL& R\", \"Junior Pricing Analyst\", \"Research Analyst\", \"Actuarial Reporting Analyst - Life Office\", \"Real Estate - Investment Analyst\", \"Analytics & Reporting Analyst\", \"Insight Analyst - SQL& Python\", \"Social Media Insights Analyst\", \"Data Engineer (Python, SQL, BI, Analytics)\", \"BI Business Analyst\", \"Financial Analyst\", \"Experienced Mobile Games Analyst\", \"Business Analyst FTC \\u2013 \\u00a360K-70K \\u2013 London Market Insurer\", \"Insight Analyst\", \"Product Analyst - FTC\", \"Royalties Manager / Data Analytics\", \"Risk Analyst\", \"Analyst\", \"IA Manager/Data Analytics Lead\", \"HR Specialist (Benefits/HRIS/Analyst)\", \"HR Specialist (C&B/HRIS/Analyst)\", \"Business Intelligence Analyst\", \"Games Analyst\", \"Senior Associate \\u2013 Business Intelligence \\u2013 MENA\", \"Intrusion Analyst\", \"FP&A Analyst - MS Power BI\", \"Business Analyst(Finance, Corporate Systems)\", \"Business Analyst- Technology Department\", \"Report Analyst, Data Analyst ERP; Excel up to\", \"Senior Product Analyst\", \"Senior e-commerce Business Analyst\", \"Senior Marketing Data Analyst\", \"Business Intelligence Analyst\", \"Senior Risk Analyst\", \"Credit Risk Analyst\", \"Real Estate Operations Analyst\", \"CRM Marketing Analyst\", \"IT Business Analyst\", \"Senior Associate & Associate \\u2013 Business Intelligence\", \"Analyst\", \"BI Consultants and QlikView Consultants\", \"IT Business Analyst (SQL, Power BI, VB, VBA.NET)\", \"Senior Analyst \\u2013 Business Intelligence & Investigations\", \"Senior Statistical Healthcare Analyst\", \"Regulatory Reporting Analyst\", \"Senior Quant Analyst\", \"New Job-Credit Risk Analyst\", \"Data Analytics Specialist\", \"Supply Chain Analyst\", \"Lead Research Analyst\", \"Business Analyst\", \"Senior Business Intelligence Analyst\", \"Operational Research Analyst\", \"Senior Product Analyst\", \"Customer Insight and Pricing Analyst\", \"Product Analyst - 6 Month FTC - Remote Working\", \"Senior Business Intelligence Analyst\", \"Sales Planning Analyst\", \"Credit Risk Analyst\", \"Ecommerce & Insight Analyst (Contract)\", \"Senior BI Analyst- Business Objects\", \"Solutions Developer (Python, SQL, BI, Analytics)\", \"Senior Manager Transaction Monitoring - Data & Analytics\"], \"legendgroup\": \"data analyst\", \"marker\": {\"color\": \"gold\"}, \"name\": \"data analyst\", \"notched\": true, \"offsetgroup\": \"data analyst\", \"showlegend\": false, \"type\": \"box\", \"x\": [34000.0, 22000.0, 23000.0, 35000.0, 42148.0, 30000.0, 80000.0, 38000.0, 28000.0, 18000.0, 32188.0, 30000.0, 26000.0, 35000.0, 30000.0, 44503.0, 42000.0, 55000.0, 34999.0, 70000.0, 36000.0, 30000.0, 35000.0, 24000.0, 45000.0, 38618.0, 38000.0, 52000.0, 40000.0, 75000.0, 65000.0, 25000.0, 31415.0, 45000.0, 75000.0, 35846.0, 35000.0, 18000.0, 35000.0, 33000.0, 45422.0, 39000.0, 65000.0, 69365.0, 38775.0, 38580.0, 32000.0, 35000.0, 35000.0, 30000.0, 50000.0, 45000.0, 60000.0, 32000.0, 42000.0, 28000.0, 36027.0, 40000.0, 18000.0, 30022.0, 72000.0, 25000.0, 55000.0, 74000.0, 45000.0, 40000.0, 70000.0, 38373.0, 25000.0, 40000.0, 45000.0, 43889.0, 40000.0, 39238.0, 85000.0, 40000.0, 35000.0, 60000.0, 65000.0, 75000.0, 40000.0, 28000.0, 50000.0, 60000.0, 40000.0, 45000.0, 34000.0, 40000.0, 44065.0, 45000.0, 38373.0, 40000.0, 31415.0, 45000.0, 65000.0, 50000.0, 51393.0, 65000.0, 55000.0, 65000.0, 50000.0, 65000.0, 80000.0, 45000.0, 35000.0, 18000.0, 40000.0, 60000.0, 45000.0, 60000.0, 32000.0, 54671.0, 50000.0, 58558.0, 55000.0, 45000.0, 60000.0, 29000.0, 65000.0, 40000.0, 42000.0, 32000.0, 75000.0, 47579.0, 30000.0, 45000.0, 72550.0, 70000.0, 35000.0, 37000.0, 70000.0, 30000.0, 60000.0, 50000.0, 120000.0, 65000.0, 80000.0, 62000.0, 75000.0, 90000.0, 50000.0, 35000.0, 47724.0, 35000.0, 44503.0, 30000.0, 55000.0, 90000.0, 70000.0, 53500.0, 40000.0, 32000.0, 65000.0, 90000.0, 40000.0, 70000.0, 36000.0, 30000.0, 35000.0, 35000.0, 75000.0, 43000.0, 80000.0, 45000.0, 48000.0, 55000.0, 75000.0, 70000.0, 40000.0, 15600.0, 35000.0, 65000.0, 35000.0, 45000.0, 28000.0, 39246.0, 35000.0, 125000.0, 35000.0, 50000.0, 40000.0, 36027.0, 50000.0, 45000.0, 30000.0, 40000.0, 44000.0, 35000.0, 60000.0, 55000.0, 55000.0, 90000.0, 35000.0, 20000.0, 45000.0, 32000.0, 55000.0, 30000.0, 65000.0, 90000.0, 55000.0, 35000.0, 58000.0, 50000.0, 50000.0, 28380.0, 63479.0, 36000.0, 55000.0, 45000.0, 35000.0, 40215.0, 30000.0, 60000.0, 45000.0, 70000.0, 100000.0, 150000.0, 45000.0, 90000.0, 60000.0, 50000.0, 45000.0, 55000.0, 43000.0, 45000.0, 40000.0, 45000.0, 75000.0, 40000.0, 55000.0, 45000.0, 65000.0, 23000.0, 45000.0, 65000.0, 60000.0, 75000.0, 33000.0, 84000.0, 40000.0, 40000.0, 45000.0, 65000.0, 50000.0, 60000.0, 70000.0, 55000.0, 50000.0, 40000.0, 80000.0, 60000.0, 75000.0, 25000.0, 20000.0, 45000.0, 55000.0, 30000.0, 40000.0, 60000.0, 60000.0, 60000.0, 40000.0, 75000.0, 25000.0, 38000.0, 55000.0, 60000.0, 55000.0, 30000.0, 45000.0, 70000.0, 55000.0, 45000.0, 120000.0, 40000.0, 80000.0, 55000.0, 80000.0, 68891.0, 25000.0, 50000.0, 23000.0, 75000.0, 45000.0, 60000.0, 75000.0, 50000.0, 44000.0, 60000.0, 60000.0, 45000.0, 50000.0, 70000.0, 36000.0, 60000.0, 70000.0, 30000.0, 28000.0, 65000.0, 50000.0, 50000.0, 35000.0, 60000.0, 55000.0, 40000.0, 55000.0, 70000.0, 55000.0, 19000.0, 75000.0, 70000.0, 70000.0, 55000.0, 55000.0, 48000.0, 75000.0, 35000.0, 55000.0, 55000.0, 40000.0, 50000.0, 65000.0, 45000.0, 50000.0, 80000.0, 100000.0, 60000.0, 60000.0, 30000.0, 60000.0, 70000.0, 65000.0, 40000.0, 65000.0, 65000.0, 60000.0, 60000.0, 45000.0, 60000.0, 35000.0, 60000.0, 60000.0, 95000.0], \"xaxis\": \"x2\", \"yaxis\": \"y2\"}],                        {\"barmode\": \"relative\", \"legend\": {\"title\": {\"text\": \"search_term\"}, \"tracegroupgap\": 0}, \"margin\": {\"t\": 60}, \"template\": {\"data\": {\"bar\": [{\"error_x\": {\"color\": \"#2a3f5f\"}, \"error_y\": {\"color\": \"#2a3f5f\"}, \"marker\": {\"line\": {\"color\": \"#E5ECF6\", \"width\": 0.5}}, \"type\": \"bar\"}], \"barpolar\": [{\"marker\": {\"line\": {\"color\": \"#E5ECF6\", \"width\": 0.5}}, \"type\": \"barpolar\"}], \"carpet\": [{\"aaxis\": {\"endlinecolor\": \"#2a3f5f\", \"gridcolor\": \"white\", \"linecolor\": \"white\", \"minorgridcolor\": \"white\", \"startlinecolor\": \"#2a3f5f\"}, \"baxis\": {\"endlinecolor\": \"#2a3f5f\", \"gridcolor\": \"white\", \"linecolor\": \"white\", \"minorgridcolor\": \"white\", \"startlinecolor\": \"#2a3f5f\"}, \"type\": \"carpet\"}], \"choropleth\": [{\"colorbar\": {\"outlinewidth\": 0, \"ticks\": \"\"}, \"type\": \"choropleth\"}], \"contour\": [{\"colorbar\": {\"outlinewidth\": 0, \"ticks\": \"\"}, \"colorscale\": [[0.0, \"#0d0887\"], [0.1111111111111111, \"#46039f\"], [0.2222222222222222, \"#7201a8\"], [0.3333333333333333, \"#9c179e\"], [0.4444444444444444, \"#bd3786\"], [0.5555555555555556, \"#d8576b\"], [0.6666666666666666, \"#ed7953\"], [0.7777777777777778, \"#fb9f3a\"], [0.8888888888888888, \"#fdca26\"], [1.0, \"#f0f921\"]], \"type\": \"contour\"}], \"contourcarpet\": [{\"colorbar\": {\"outlinewidth\": 0, \"ticks\": \"\"}, \"type\": \"contourcarpet\"}], \"heatmap\": [{\"colorbar\": {\"outlinewidth\": 0, \"ticks\": \"\"}, \"colorscale\": [[0.0, \"#0d0887\"], [0.1111111111111111, \"#46039f\"], [0.2222222222222222, \"#7201a8\"], [0.3333333333333333, \"#9c179e\"], [0.4444444444444444, \"#bd3786\"], [0.5555555555555556, \"#d8576b\"], [0.6666666666666666, \"#ed7953\"], [0.7777777777777778, \"#fb9f3a\"], [0.8888888888888888, \"#fdca26\"], [1.0, \"#f0f921\"]], \"type\": \"heatmap\"}], \"heatmapgl\": [{\"colorbar\": {\"outlinewidth\": 0, \"ticks\": \"\"}, \"colorscale\": [[0.0, \"#0d0887\"], [0.1111111111111111, \"#46039f\"], [0.2222222222222222, \"#7201a8\"], [0.3333333333333333, \"#9c179e\"], [0.4444444444444444, \"#bd3786\"], [0.5555555555555556, \"#d8576b\"], [0.6666666666666666, \"#ed7953\"], [0.7777777777777778, \"#fb9f3a\"], [0.8888888888888888, \"#fdca26\"], [1.0, \"#f0f921\"]], \"type\": \"heatmapgl\"}], \"histogram\": [{\"marker\": {\"colorbar\": {\"outlinewidth\": 0, \"ticks\": \"\"}}, \"type\": \"histogram\"}], \"histogram2d\": [{\"colorbar\": {\"outlinewidth\": 0, \"ticks\": \"\"}, \"colorscale\": [[0.0, \"#0d0887\"], [0.1111111111111111, \"#46039f\"], [0.2222222222222222, \"#7201a8\"], [0.3333333333333333, \"#9c179e\"], [0.4444444444444444, \"#bd3786\"], [0.5555555555555556, \"#d8576b\"], [0.6666666666666666, \"#ed7953\"], [0.7777777777777778, \"#fb9f3a\"], [0.8888888888888888, \"#fdca26\"], [1.0, \"#f0f921\"]], \"type\": \"histogram2d\"}], \"histogram2dcontour\": [{\"colorbar\": {\"outlinewidth\": 0, \"ticks\": \"\"}, \"colorscale\": [[0.0, \"#0d0887\"], [0.1111111111111111, \"#46039f\"], [0.2222222222222222, \"#7201a8\"], [0.3333333333333333, \"#9c179e\"], [0.4444444444444444, \"#bd3786\"], [0.5555555555555556, \"#d8576b\"], [0.6666666666666666, \"#ed7953\"], [0.7777777777777778, \"#fb9f3a\"], [0.8888888888888888, \"#fdca26\"], [1.0, \"#f0f921\"]], \"type\": \"histogram2dcontour\"}], \"mesh3d\": [{\"colorbar\": {\"outlinewidth\": 0, \"ticks\": \"\"}, \"type\": \"mesh3d\"}], \"parcoords\": [{\"line\": {\"colorbar\": {\"outlinewidth\": 0, \"ticks\": \"\"}}, \"type\": \"parcoords\"}], \"pie\": [{\"automargin\": true, \"type\": \"pie\"}], \"scatter\": [{\"marker\": {\"colorbar\": {\"outlinewidth\": 0, \"ticks\": \"\"}}, \"type\": \"scatter\"}], \"scatter3d\": [{\"line\": {\"colorbar\": {\"outlinewidth\": 0, \"ticks\": \"\"}}, \"marker\": {\"colorbar\": {\"outlinewidth\": 0, \"ticks\": \"\"}}, \"type\": \"scatter3d\"}], \"scattercarpet\": [{\"marker\": {\"colorbar\": {\"outlinewidth\": 0, \"ticks\": \"\"}}, \"type\": \"scattercarpet\"}], \"scattergeo\": [{\"marker\": {\"colorbar\": {\"outlinewidth\": 0, \"ticks\": \"\"}}, \"type\": \"scattergeo\"}], \"scattergl\": [{\"marker\": {\"colorbar\": {\"outlinewidth\": 0, \"ticks\": \"\"}}, \"type\": \"scattergl\"}], \"scattermapbox\": [{\"marker\": {\"colorbar\": {\"outlinewidth\": 0, \"ticks\": \"\"}}, \"type\": \"scattermapbox\"}], \"scatterpolar\": [{\"marker\": {\"colorbar\": {\"outlinewidth\": 0, \"ticks\": \"\"}}, \"type\": \"scatterpolar\"}], \"scatterpolargl\": [{\"marker\": {\"colorbar\": {\"outlinewidth\": 0, \"ticks\": \"\"}}, \"type\": \"scatterpolargl\"}], \"scatterternary\": [{\"marker\": {\"colorbar\": {\"outlinewidth\": 0, \"ticks\": \"\"}}, \"type\": \"scatterternary\"}], \"surface\": [{\"colorbar\": {\"outlinewidth\": 0, \"ticks\": \"\"}, \"colorscale\": [[0.0, \"#0d0887\"], [0.1111111111111111, \"#46039f\"], [0.2222222222222222, \"#7201a8\"], [0.3333333333333333, \"#9c179e\"], [0.4444444444444444, \"#bd3786\"], [0.5555555555555556, \"#d8576b\"], [0.6666666666666666, \"#ed7953\"], [0.7777777777777778, \"#fb9f3a\"], [0.8888888888888888, \"#fdca26\"], [1.0, \"#f0f921\"]], \"type\": \"surface\"}], \"table\": [{\"cells\": {\"fill\": {\"color\": \"#EBF0F8\"}, \"line\": {\"color\": \"white\"}}, \"header\": {\"fill\": {\"color\": \"#C8D4E3\"}, \"line\": {\"color\": \"white\"}}, \"type\": \"table\"}]}, \"layout\": {\"annotationdefaults\": {\"arrowcolor\": \"#2a3f5f\", \"arrowhead\": 0, \"arrowwidth\": 1}, \"coloraxis\": {\"colorbar\": {\"outlinewidth\": 0, \"ticks\": \"\"}}, \"colorscale\": {\"diverging\": [[0, \"#8e0152\"], [0.1, \"#c51b7d\"], [0.2, \"#de77ae\"], [0.3, \"#f1b6da\"], [0.4, \"#fde0ef\"], [0.5, \"#f7f7f7\"], [0.6, \"#e6f5d0\"], [0.7, \"#b8e186\"], [0.8, \"#7fbc41\"], [0.9, \"#4d9221\"], [1, \"#276419\"]], \"sequential\": [[0.0, \"#0d0887\"], [0.1111111111111111, \"#46039f\"], [0.2222222222222222, \"#7201a8\"], [0.3333333333333333, \"#9c179e\"], [0.4444444444444444, \"#bd3786\"], [0.5555555555555556, \"#d8576b\"], [0.6666666666666666, \"#ed7953\"], [0.7777777777777778, \"#fb9f3a\"], [0.8888888888888888, \"#fdca26\"], [1.0, \"#f0f921\"]], \"sequentialminus\": [[0.0, \"#0d0887\"], [0.1111111111111111, \"#46039f\"], [0.2222222222222222, \"#7201a8\"], [0.3333333333333333, \"#9c179e\"], [0.4444444444444444, \"#bd3786\"], [0.5555555555555556, \"#d8576b\"], [0.6666666666666666, \"#ed7953\"], [0.7777777777777778, \"#fb9f3a\"], [0.8888888888888888, \"#fdca26\"], [1.0, \"#f0f921\"]]}, \"colorway\": [\"#636efa\", \"#EF553B\", \"#00cc96\", \"#ab63fa\", \"#FFA15A\", \"#19d3f3\", \"#FF6692\", \"#B6E880\", \"#FF97FF\", \"#FECB52\"], \"font\": {\"color\": \"#2a3f5f\"}, \"geo\": {\"bgcolor\": \"white\", \"lakecolor\": \"white\", \"landcolor\": \"#E5ECF6\", \"showlakes\": true, \"showland\": true, \"subunitcolor\": \"white\"}, \"hoverlabel\": {\"align\": \"left\"}, \"hovermode\": \"closest\", \"mapbox\": {\"style\": \"light\"}, \"paper_bgcolor\": \"white\", \"plot_bgcolor\": \"#E5ECF6\", \"polar\": {\"angularaxis\": {\"gridcolor\": \"white\", \"linecolor\": \"white\", \"ticks\": \"\"}, \"bgcolor\": \"#E5ECF6\", \"radialaxis\": {\"gridcolor\": \"white\", \"linecolor\": \"white\", \"ticks\": \"\"}}, \"scene\": {\"xaxis\": {\"backgroundcolor\": \"#E5ECF6\", \"gridcolor\": \"white\", \"gridwidth\": 2, \"linecolor\": \"white\", \"showbackground\": true, \"ticks\": \"\", \"zerolinecolor\": \"white\"}, \"yaxis\": {\"backgroundcolor\": \"#E5ECF6\", \"gridcolor\": \"white\", \"gridwidth\": 2, \"linecolor\": \"white\", \"showbackground\": true, \"ticks\": \"\", \"zerolinecolor\": \"white\"}, \"zaxis\": {\"backgroundcolor\": \"#E5ECF6\", \"gridcolor\": \"white\", \"gridwidth\": 2, \"linecolor\": \"white\", \"showbackground\": true, \"ticks\": \"\", \"zerolinecolor\": \"white\"}}, \"shapedefaults\": {\"line\": {\"color\": \"#2a3f5f\"}}, \"ternary\": {\"aaxis\": {\"gridcolor\": \"white\", \"linecolor\": \"white\", \"ticks\": \"\"}, \"baxis\": {\"gridcolor\": \"white\", \"linecolor\": \"white\", \"ticks\": \"\"}, \"bgcolor\": \"#E5ECF6\", \"caxis\": {\"gridcolor\": \"white\", \"linecolor\": \"white\", \"ticks\": \"\"}}, \"title\": {\"x\": 0.05}, \"xaxis\": {\"automargin\": true, \"gridcolor\": \"white\", \"linecolor\": \"white\", \"ticks\": \"\", \"title\": {\"standoff\": 15}, \"zerolinecolor\": \"white\", \"zerolinewidth\": 2}, \"yaxis\": {\"automargin\": true, \"gridcolor\": \"white\", \"linecolor\": \"white\", \"ticks\": \"\", \"title\": {\"standoff\": 15}, \"zerolinecolor\": \"white\", \"zerolinewidth\": 2}}}, \"xaxis\": {\"anchor\": \"y\", \"domain\": [0.0, 1.0], \"title\": {\"text\": \"salary_from_page_source_as_stated\"}}, \"xaxis2\": {\"anchor\": \"y2\", \"domain\": [0.0, 1.0], \"matches\": \"x\", \"showgrid\": true, \"showticklabels\": false}, \"yaxis\": {\"anchor\": \"x\", \"domain\": [0.0, 0.7326], \"title\": {\"text\": \"count\"}}, \"yaxis2\": {\"anchor\": \"x2\", \"domain\": [0.7426, 1.0], \"matches\": \"y2\", \"showgrid\": false, \"showline\": false, \"showticklabels\": false, \"ticks\": \"\"}},                        {\"responsive\": true}                    ).then(function(){\n",
       "                            \n",
       "var gd = document.getElementById('3c5784b3-0ea3-4cc5-a1fd-6190b5749dcf');\n",
       "var x = new MutationObserver(function (mutations, observer) {{\n",
       "        var display = window.getComputedStyle(gd).display;\n",
       "        if (!display || display === 'none') {{\n",
       "            console.log([gd, 'removed!']);\n",
       "            Plotly.purge(gd);\n",
       "            observer.disconnect();\n",
       "        }}\n",
       "}});\n",
       "\n",
       "// Listen for the removal of the full notebook cells\n",
       "var notebookContainer = gd.closest('#notebook-container');\n",
       "if (notebookContainer) {{\n",
       "    x.observe(notebookContainer, {childList: true});\n",
       "}}\n",
       "\n",
       "// Listen for the clearing of the current output cell\n",
       "var outputEl = gd.closest('.output');\n",
       "if (outputEl) {{\n",
       "    x.observe(outputEl, {childList: true});\n",
       "}}\n",
       "\n",
       "                        })                };                });            </script>        </div>"
      ]
     },
     "metadata": {},
     "output_type": "display_data"
    }
   ],
   "source": [
    "\n",
    "from IPython.display import HTML\n",
    "\n",
    "fig = px.histogram(salary_df, 'salary_from_page_source_as_stated', \n",
    "           hover_name='job_title', color='search_term',\n",
    "           hover_data=['company', 'salary_from_page_source_as_stated'], \n",
    "            marginal='box', nbins=20, opacity=0.6, color_discrete_sequence=['blue', 'red', 'gold'])\n",
    "HTML(fig.to_html(),)\n",
    "fig.write_html(\"salary_px.html\")\n",
    "fig.show()"
   ]
  },
  {
   "cell_type": "markdown",
   "metadata": {},
   "source": [
    "<a id=stat ><a/> \n",
    "\n",
    "# 2. Selecting a statistical test\n",
    "    \n",
    "[LINK to table of contents](#contents)\n",
    "\n",
    "    \n",
    "A great deal of statistical tests rely on assumptions about normality and the equality of the variances between distributions. Below we quickly inspect the distributions and run these tests before deciding on how to compare the salaries. \n",
    "    * checking for measures of dispersion\n",
    "    * running normality test"
   ]
  },
  {
   "cell_type": "markdown",
   "metadata": {},
   "source": [
    "Looking at the measures of dispersion (mean, standard deviation and median) we have good reason to believe that the at least the DA data is relatively normal. The other two datasets are not necessarily far off, given the median and mode being equal for both. The distributions are affected greatly by the outliers (there's a DA job paying £150'000 apparently! That certainly defied my expectations). "
   ]
  },
  {
   "cell_type": "code",
   "execution_count": 37,
   "metadata": {},
   "outputs": [
    {
     "name": "stdout",
     "output_type": "stream",
     "text": [
      "MODE:  45000.0\n"
     ]
    },
    {
     "data": {
      "text/html": [
       "<div>\n",
       "<style scoped>\n",
       "    .dataframe tbody tr th:only-of-type {\n",
       "        vertical-align: middle;\n",
       "    }\n",
       "\n",
       "    .dataframe tbody tr th {\n",
       "        vertical-align: top;\n",
       "    }\n",
       "\n",
       "    .dataframe thead th {\n",
       "        text-align: right;\n",
       "    }\n",
       "</style>\n",
       "<table border=\"1\" class=\"dataframe\">\n",
       "  <thead>\n",
       "    <tr style=\"text-align: right;\">\n",
       "      <th></th>\n",
       "      <th>salary_from_page_source_as_stated</th>\n",
       "    </tr>\n",
       "  </thead>\n",
       "  <tbody>\n",
       "    <tr>\n",
       "      <th>count</th>\n",
       "      <td>344.000000</td>\n",
       "    </tr>\n",
       "    <tr>\n",
       "      <th>mean</th>\n",
       "      <td>50405.747093</td>\n",
       "    </tr>\n",
       "    <tr>\n",
       "      <th>std</th>\n",
       "      <td>18829.658275</td>\n",
       "    </tr>\n",
       "    <tr>\n",
       "      <th>min</th>\n",
       "      <td>15600.000000</td>\n",
       "    </tr>\n",
       "    <tr>\n",
       "      <th>25%</th>\n",
       "      <td>36000.000000</td>\n",
       "    </tr>\n",
       "    <tr>\n",
       "      <th>50%</th>\n",
       "      <td>45000.000000</td>\n",
       "    </tr>\n",
       "    <tr>\n",
       "      <th>75%</th>\n",
       "      <td>60000.000000</td>\n",
       "    </tr>\n",
       "    <tr>\n",
       "      <th>max</th>\n",
       "      <td>150000.000000</td>\n",
       "    </tr>\n",
       "  </tbody>\n",
       "</table>\n",
       "</div>"
      ],
      "text/plain": [
       "       salary_from_page_source_as_stated\n",
       "count                         344.000000\n",
       "mean                        50405.747093\n",
       "std                         18829.658275\n",
       "min                         15600.000000\n",
       "25%                         36000.000000\n",
       "50%                         45000.000000\n",
       "75%                         60000.000000\n",
       "max                        150000.000000"
      ]
     },
     "execution_count": 37,
     "metadata": {},
     "output_type": "execute_result"
    },
    {
     "data": {
      "image/png": "[encoded data removed]",
      "text/plain": [
       "<Figure size 432x288 with 1 Axes>"
      ]
     },
     "metadata": {},
     "output_type": "display_data"
    }
   ],
   "source": [
    "print(\"MODE: \", da_df.salary_from_page_source_as_stated.mode()[0])\n",
    "sns.distplot(da_df.salary_from_page_source_as_stated, )\n",
    "da_df.describe()"
   ]
  },
  {
   "cell_type": "code",
   "execution_count": 38,
   "metadata": {},
   "outputs": [
    {
     "name": "stdout",
     "output_type": "stream",
     "text": [
      "MODE:  80000.0\n"
     ]
    },
    {
     "data": {
      "text/html": [
       "<div>\n",
       "<style scoped>\n",
       "    .dataframe tbody tr th:only-of-type {\n",
       "        vertical-align: middle;\n",
       "    }\n",
       "\n",
       "    .dataframe tbody tr th {\n",
       "        vertical-align: top;\n",
       "    }\n",
       "\n",
       "    .dataframe thead th {\n",
       "        text-align: right;\n",
       "    }\n",
       "</style>\n",
       "<table border=\"1\" class=\"dataframe\">\n",
       "  <thead>\n",
       "    <tr style=\"text-align: right;\">\n",
       "      <th></th>\n",
       "      <th>salary_from_page_source_as_stated</th>\n",
       "    </tr>\n",
       "  </thead>\n",
       "  <tbody>\n",
       "    <tr>\n",
       "      <th>count</th>\n",
       "      <td>182.000000</td>\n",
       "    </tr>\n",
       "    <tr>\n",
       "      <th>mean</th>\n",
       "      <td>81211.307692</td>\n",
       "    </tr>\n",
       "    <tr>\n",
       "      <th>std</th>\n",
       "      <td>28409.499262</td>\n",
       "    </tr>\n",
       "    <tr>\n",
       "      <th>min</th>\n",
       "      <td>18000.000000</td>\n",
       "    </tr>\n",
       "    <tr>\n",
       "      <th>25%</th>\n",
       "      <td>65000.000000</td>\n",
       "    </tr>\n",
       "    <tr>\n",
       "      <th>50%</th>\n",
       "      <td>80000.000000</td>\n",
       "    </tr>\n",
       "    <tr>\n",
       "      <th>75%</th>\n",
       "      <td>95000.000000</td>\n",
       "    </tr>\n",
       "    <tr>\n",
       "      <th>max</th>\n",
       "      <td>180000.000000</td>\n",
       "    </tr>\n",
       "  </tbody>\n",
       "</table>\n",
       "</div>"
      ],
      "text/plain": [
       "       salary_from_page_source_as_stated\n",
       "count                         182.000000\n",
       "mean                        81211.307692\n",
       "std                         28409.499262\n",
       "min                         18000.000000\n",
       "25%                         65000.000000\n",
       "50%                         80000.000000\n",
       "75%                         95000.000000\n",
       "max                        180000.000000"
      ]
     },
     "execution_count": 38,
     "metadata": {},
     "output_type": "execute_result"
    },
    {
     "data": {
      "image/png": "[encoded data removed]",
      "text/plain": [
       "<Figure size 432x288 with 1 Axes>"
      ]
     },
     "metadata": {},
     "output_type": "display_data"
    }
   ],
   "source": [
    "print(\"MODE: \", ds_df.salary_from_page_source_as_stated.mode()[0])\n",
    "sns.distplot(ds_df.salary_from_page_source_as_stated, )\n",
    "ds_df.describe()"
   ]
  },
  {
   "cell_type": "code",
   "execution_count": 39,
   "metadata": {},
   "outputs": [
    {
     "name": "stdout",
     "output_type": "stream",
     "text": [
      "MODE:  80000.0\n"
     ]
    },
    {
     "data": {
      "text/html": [
       "<div>\n",
       "<style scoped>\n",
       "    .dataframe tbody tr th:only-of-type {\n",
       "        vertical-align: middle;\n",
       "    }\n",
       "\n",
       "    .dataframe tbody tr th {\n",
       "        vertical-align: top;\n",
       "    }\n",
       "\n",
       "    .dataframe thead th {\n",
       "        text-align: right;\n",
       "    }\n",
       "</style>\n",
       "<table border=\"1\" class=\"dataframe\">\n",
       "  <thead>\n",
       "    <tr style=\"text-align: right;\">\n",
       "      <th></th>\n",
       "      <th>salary_from_page_source_as_stated</th>\n",
       "    </tr>\n",
       "  </thead>\n",
       "  <tbody>\n",
       "    <tr>\n",
       "      <th>count</th>\n",
       "      <td>200.000000</td>\n",
       "    </tr>\n",
       "    <tr>\n",
       "      <th>mean</th>\n",
       "      <td>79084.610000</td>\n",
       "    </tr>\n",
       "    <tr>\n",
       "      <th>std</th>\n",
       "      <td>25986.409376</td>\n",
       "    </tr>\n",
       "    <tr>\n",
       "      <th>min</th>\n",
       "      <td>24000.000000</td>\n",
       "    </tr>\n",
       "    <tr>\n",
       "      <th>25%</th>\n",
       "      <td>60000.000000</td>\n",
       "    </tr>\n",
       "    <tr>\n",
       "      <th>50%</th>\n",
       "      <td>80000.000000</td>\n",
       "    </tr>\n",
       "    <tr>\n",
       "      <th>75%</th>\n",
       "      <td>90000.000000</td>\n",
       "    </tr>\n",
       "    <tr>\n",
       "      <th>max</th>\n",
       "      <td>180000.000000</td>\n",
       "    </tr>\n",
       "  </tbody>\n",
       "</table>\n",
       "</div>"
      ],
      "text/plain": [
       "       salary_from_page_source_as_stated\n",
       "count                         200.000000\n",
       "mean                        79084.610000\n",
       "std                         25986.409376\n",
       "min                         24000.000000\n",
       "25%                         60000.000000\n",
       "50%                         80000.000000\n",
       "75%                         90000.000000\n",
       "max                        180000.000000"
      ]
     },
     "execution_count": 39,
     "metadata": {},
     "output_type": "execute_result"
    },
    {
     "data": {
      "image/png": "[encoded data removed]",
      "text/plain": [
       "<Figure size 432x288 with 1 Axes>"
      ]
     },
     "metadata": {},
     "output_type": "display_data"
    }
   ],
   "source": [
    "print(\"MODE: \", me_df.salary_from_page_source_as_stated.mode()[0])\n",
    "sns.distplot(me_df.salary_from_page_source_as_stated, )\n",
    "me_df.describe()"
   ]
  },
  {
   "cell_type": "markdown",
   "metadata": {},
   "source": [
    "We will perform the normality test on our data, using the scipy.stats package. We're setting our alpha across the board to be 0.05 for all tests. \n",
    "Our sample sizes are around between 180 and 345, which is a moderate amount of data points. Since the Shapiro-Wilks test can be sensitive to outliers, we'll also display QQ plots. \n"
   ]
  },
  {
   "cell_type": "code",
   "execution_count": 40,
   "metadata": {},
   "outputs": [
    {
     "name": "stdout",
     "output_type": "stream",
     "text": [
      "p-value is  5.103827430130714e-11\n",
      "The null hypothesis can be rejected\n"
     ]
    },
    {
     "data": {
      "image/png": "[encoded data removed]",
      "text/plain": [
       "<Figure size 432x288 with 1 Axes>"
      ]
     },
     "metadata": {},
     "output_type": "display_data"
    }
   ],
   "source": [
    "alpha = 0.05\n",
    "da_dist = da_df.salary_from_page_source_as_stated.values\n",
    "\n",
    "statistic, p_val_da = st.normality_test(da_dist, alpha)\n",
    "\n",
    "sm_qq(da_dist, line='s');"
   ]
  },
  {
   "cell_type": "code",
   "execution_count": 41,
   "metadata": {},
   "outputs": [
    {
     "name": "stdout",
     "output_type": "stream",
     "text": [
      "p-value is  0.0021711522713303566\n",
      "The null hypothesis can be rejected\n"
     ]
    },
    {
     "data": {
      "image/png": "[encoded data removed]",
      "text/plain": [
       "<Figure size 432x288 with 1 Axes>"
      ]
     },
     "metadata": {},
     "output_type": "display_data"
    }
   ],
   "source": [
    "alpha = 0.05\n",
    "ds_dist = ds_df.salary_from_page_source_as_stated.values\n",
    "\n",
    "statistic, p_val_ds = st.normality_test(ds_dist, alpha)\n",
    "sm_qq(ds_dist, line='s');"
   ]
  },
  {
   "cell_type": "code",
   "execution_count": 42,
   "metadata": {},
   "outputs": [
    {
     "name": "stdout",
     "output_type": "stream",
     "text": [
      "p-value is  1.4980233572714496e-05\n",
      "The null hypothesis can be rejected\n"
     ]
    },
    {
     "data": {
      "image/png": "[encoded data removed]",
      "text/plain": [
       "<Figure size 432x288 with 1 Axes>"
      ]
     },
     "metadata": {},
     "output_type": "display_data"
    }
   ],
   "source": [
    "alpha = 0.05\n",
    "me_dist = me_df.salary_from_page_source_as_stated.values\n",
    "\n",
    "statistic, p_val_me = st.normality_test(me_dist, alpha)\n",
    "sm_qq(me_dist, line='s');"
   ]
  },
  {
   "cell_type": "markdown",
   "metadata": {},
   "source": [
    "Both the test and graphical inspection reveal to us that our distributions are not normal. If we're hoping to use a test like an ANOVA (ANalysis Of VAriance), then we need to rectify our data, by whatever means. At this stage we have the following options: \n",
    "* subsample our data till we have a normal distribution\n",
    "* create a distribution of sample means, using Central Limit Theorem. As we take more and more samples from our data and average them, the distribution of our sample means will converge on a normal distribution.\n",
    "\n",
    "We will using Central Limit theorem to achieve normal distribution. "
   ]
  },
  {
   "cell_type": "code",
   "execution_count": 43,
   "metadata": {},
   "outputs": [
    {
     "data": {
      "image/png": "[encoded data removed]",
      "text/plain": [
       "<Figure size 432x288 with 1 Axes>"
      ]
     },
     "metadata": {},
     "output_type": "display_data"
    },
    {
     "data": {
      "image/png": "[encoded data removed]",
      "text/plain": [
       "<Figure size 432x288 with 1 Axes>"
      ]
     },
     "metadata": {},
     "output_type": "display_data"
    }
   ],
   "source": [
    "plt.title('DA distribution of sample means')\n",
    "da_dist_sample_means = st.gen_dist_sample_means(da_dist, 150, 10)\n",
    "sns.distplot(da_dist_sample_means)\n",
    "sm_qq(da_dist_sample_means, line='s');\n"
   ]
  },
  {
   "cell_type": "code",
   "execution_count": 77,
   "metadata": {},
   "outputs": [
    {
     "data": {
      "image/png": "[encoded data removed]",
      "text/plain": [
       "<Figure size 432x288 with 1 Axes>"
      ]
     },
     "metadata": {},
     "output_type": "display_data"
    },
    {
     "data": {
      "image/png": "[encoded data removed]",
      "text/plain": [
       "<Figure size 432x288 with 1 Axes>"
      ]
     },
     "metadata": {},
     "output_type": "display_data"
    }
   ],
   "source": [
    "plt.title('DS distribution of sample means')\n",
    "ds_dist_sample_means = st.gen_dist_sample_means(ds_dist, 150, 10)\n",
    "sns.distplot(ds_dist_sample_means)\n",
    "sm_qq(ds_dist_sample_means, line='s');"
   ]
  },
  {
   "cell_type": "code",
   "execution_count": 45,
   "metadata": {},
   "outputs": [
    {
     "data": {
      "image/png": "[encoded data removed]",
      "text/plain": [
       "<Figure size 432x288 with 1 Axes>"
      ]
     },
     "metadata": {},
     "output_type": "display_data"
    },
    {
     "data": {
      "image/png": "[encoded data removed]",
      "text/plain": [
       "<Figure size 432x288 with 1 Axes>"
      ]
     },
     "metadata": {},
     "output_type": "display_data"
    }
   ],
   "source": [
    "plt.title('ME distribution of sample means')\n",
    "me_dist_sample_means = st.gen_dist_sample_means(me_dist, 150, 10)\n",
    "sns.distplot(me_dist_sample_means)\n",
    "sm_qq(me_dist_sample_means, line='s');"
   ]
  },
  {
   "cell_type": "code",
   "execution_count": 46,
   "metadata": {},
   "outputs": [
    {
     "name": "stdout",
     "output_type": "stream",
     "text": [
      "Data analyst distribution\n",
      "p-value is  0.09671829640865326\n",
      "The null hypothesis cannot be rejected\n",
      "Data scientist distribution\n",
      "p-value is  0.2088995724916458\n",
      "The null hypothesis cannot be rejected\n",
      "ML Engineer distribution\n",
      "p-value is  0.35625988245010376\n",
      "The null hypothesis cannot be rejected\n"
     ]
    }
   ],
   "source": [
    "print('Data analyst distribution')\n",
    "st.normality_test(da_dist_sample_means, 0.05);\n",
    "\n",
    "print('Data scientist distribution')\n",
    "st.normality_test(ds_dist_sample_means, 0.05);\n",
    "\n",
    "print('ML Engineer distribution')\n",
    "st.normality_test(me_dist_sample_means, 0.05);"
   ]
  },
  {
   "cell_type": "markdown",
   "metadata": {},
   "source": [
    "So we now have 3 normal distributions! Next step is to compare their respective variances. Unfortunately there is a large discrepancy in variances between the 3 groups. "
   ]
  },
  {
   "cell_type": "code",
   "execution_count": 52,
   "metadata": {},
   "outputs": [
    {
     "name": "stdout",
     "output_type": "stream",
     "text": [
      "DA std:  34857158.419669345\n",
      "DS std:  95509175.73775823\n",
      "ME std:  79367660.69390267\n"
     ]
    }
   ],
   "source": [
    "print(\"DA std: \", np.var(da_dist_sample_means))\n",
    "print(\"DS std: \", np.var(ds_dist_sample_means))\n",
    "print(\"ME std: \", np.var(me_dist_sample_means))"
   ]
  },
  {
   "cell_type": "markdown",
   "metadata": {},
   "source": [
    "With unequal variances we know that we woulnd't carry out a Student's T-test for comparing any of these two. Instead we'll be using the Welch's T-test, which accounts for unequal variances. We'll look first at the significance of difference between the `me` and the `ds` jobs. "
   ]
  },
  {
   "cell_type": "code",
   "execution_count": 79,
   "metadata": {},
   "outputs": [
    {
     "name": "stdout",
     "output_type": "stream",
     "text": [
      "Based on the p value of 0.0016844583333880392 and our alpha of 0.05 we reject  the null hypothesis.\n",
      " Due to these results, we  can state that there is a difference between our samples \n",
      "with an effect size, Cohen's d, of 0.341 and power of 0.8379807625145398.\n",
      "Returned the following items (in order): status, assertion, cohen's d, t-statistic, degress of freedom\n"
     ]
    },
    {
     "data": {
      "image/png": "[encoded data removed]",
      "text/plain": [
       "<Figure size 576x576 with 1 Axes>"
      ]
     },
     "metadata": {},
     "output_type": "display_data"
    }
   ],
   "source": [
    "status, assertion, coh_d, t_statistic, dof = st.hypothesis_test(ds_dist_sample_means, me_dist_sample_means, 'salary',\n",
    "                  'data_scientist', 'ml_engineer', 'blue', 'red', alpha=0.05);"
   ]
  },
  {
   "cell_type": "code",
   "execution_count": 80,
   "metadata": {},
   "outputs": [
    {
     "data": {
      "image/png": "[encoded data removed]",
      "text/plain": [
       "<Figure size 1080x720 with 1 Axes>"
      ]
     },
     "metadata": {},
     "output_type": "display_data"
    }
   ],
   "source": [
    "st.visualize_one_side_t(t_statistic, dof)"
   ]
  },
  {
   "cell_type": "markdown",
   "metadata": {},
   "source": [
    "<a id=conc ><a/> \n",
    "\n",
    "# 3. Summary of findings\n",
    "    \n",
    "[LINK to table of contents](#contents)\n"
   ]
  },
  {
   "cell_type": "markdown",
   "metadata": {},
   "source": []
  }
 ],
 "metadata": {
  "kernelspec": {
   "display_name": "learn-env",
   "language": "python",
   "name": "learn-env"
  },
  "language_info": {
   "codemirror_mode": {
    "name": "ipython",
    "version": 3
   },
   "file_extension": ".py",
   "mimetype": "text/x-python",
   "name": "python",
   "nbconvert_exporter": "python",
   "pygments_lexer": "ipython3",
   "version": "3.6.10"
  }
 },
 "nbformat": 4,
 "nbformat_minor": 4
}
