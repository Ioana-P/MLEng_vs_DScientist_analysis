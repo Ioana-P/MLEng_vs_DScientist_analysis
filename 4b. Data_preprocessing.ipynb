{
 "cells": [
  {
   "cell_type": "markdown",
   "metadata": {},
   "source": [
    "<a id=contents></a>\n",
    "\n",
    "# Extraction and cleaning notebook\n",
    "## Data retrieved from glassdoor.com\n",
    "\n",
    "Data was extracted via Glassdoor's REST API (documentation here: https://www.glassdoor.com/developer/index.htm). \n",
    "\n",
    "[1. Data Inspection](#insp)\n",
    "\n",
    "[2. Cleaning numerical data](#numerical)\n",
    "\n",
    "[3. Cleaning categorical data](#categ)\n",
    "\n",
    "[4. Cleaning text data](#text)"
   ]
  },
  {
   "cell_type": "code",
   "execution_count": 31,
   "metadata": {},
   "outputs": [
    {
     "name": "stdout",
     "output_type": "stream",
     "text": [
      "The autoreload extension is already loaded. To reload it, use:\n",
      "  %reload_ext autoreload\n"
     ]
    }
   ],
   "source": [
    "\n",
    "import pandas as pd\n",
    "import numpy as np\n",
    "\n",
    "from sklearn.cluster import KMeans\n",
    "import scipy.cluster.hierarchy as shc\n",
    "\n",
    "import os\n",
    "import time\n",
    "import requests as req\n",
    "from dotenv import load_dotenv\n",
    "load_dotenv()\n",
    "import matplotlib.pyplot as plt\n",
    "import seaborn as sns\n",
    "\n",
    "%matplotlib inline\n",
    "sns.set_style(\"darkgrid\")\n",
    "\n",
    "from sklearn.feature_extraction.text import CountVectorizer, TfidfVectorizer\n",
    "import nltk\n",
    "from sklearn.linear_model import LogisticRegression\n",
    "from nltk.probability import FreqDist\n",
    "from nltk.corpus import stopwords\n",
    "from nltk.stem import PorterStemmer\n",
    "from sklearn.metrics import confusion_matrix, multilabel_confusion_matrix\n",
    "from sklearn.naive_bayes import MultinomialNB\n",
    "from sklearn import metrics\n",
    "from sklearn.model_selection import train_test_split, GridSearchCV\n",
    "from matplotlib import cm\n",
    "import numpy as np\n",
    "from sklearn.ensemble import RandomForestClassifier,GradientBoostingClassifier\n",
    "from sklearn.metrics import accuracy_score, roc_auc_score, roc_curve\n",
    "from sklearn.metrics import f1_score\n",
    "from sklearn.naive_bayes import GaussianNB\n",
    "from sklearn.metrics import silhouette_score\n",
    "from sklearn.cluster import KMeans\n",
    "from sklearn.decomposition import TruncatedSVD\n",
    "import string\n",
    "\n",
    "from nltk.corpus import stopwords\n",
    "from nltk import FreqDist\n",
    "from nltk.tokenize import RegexpTokenizer\n",
    "import re\n",
    "tokenizer = RegexpTokenizer(r'\\b\\w{3,}\\b')\n",
    "stop_words = list(set(stopwords.words(\"english\")))\n",
    "stop_words += list(string.punctuation)\n",
    "\n",
    "import warnings\n",
    "warnings.filterwarnings('ignore')\n",
    "\n",
    "%load_ext autoreload\n",
    "%autoreload 2"
   ]
  },
  {
   "cell_type": "markdown",
   "metadata": {},
   "source": [
    "<a id=insp ><a/> \n",
    "\n",
    "## 1. Data Inspection\n",
    "    \n",
    "[LINK to table of contents](#contents)"
   ]
  },
  {
   "cell_type": "markdown",
   "metadata": {},
   "source": [
    "Now that we have a list of strings, we can check the length, the size of string and what the most frequent terms will be, which'll give us an insight into what we need to clean."
   ]
  },
  {
   "cell_type": "code",
   "execution_count": 24,
   "metadata": {},
   "outputs": [
    {
     "data": {
      "text/html": [
       "<div>\n",
       "<style scoped>\n",
       "    .dataframe tbody tr th:only-of-type {\n",
       "        vertical-align: middle;\n",
       "    }\n",
       "\n",
       "    .dataframe tbody tr th {\n",
       "        vertical-align: top;\n",
       "    }\n",
       "\n",
       "    .dataframe thead th {\n",
       "        text-align: right;\n",
       "    }\n",
       "</style>\n",
       "<table border=\"1\" class=\"dataframe\">\n",
       "  <thead>\n",
       "    <tr style=\"text-align: right;\">\n",
       "      <th></th>\n",
       "      <th>job_url</th>\n",
       "      <th>job_descr</th>\n",
       "    </tr>\n",
       "  </thead>\n",
       "  <tbody>\n",
       "    <tr>\n",
       "      <th>0</th>\n",
       "      <td>https://www.indeed.co.uk/pagead/clk?mo=r&amp;ad=-6...</td>\n",
       "      <td>We would like to reassure all applicants that ...</td>\n",
       "    </tr>\n",
       "    <tr>\n",
       "      <th>1</th>\n",
       "      <td>https://www.indeed.co.uk/rc/clk?jk=e96b45c3c7a...</td>\n",
       "      <td>Job Title: Artificial Intelligence – Data Scie...</td>\n",
       "    </tr>\n",
       "    <tr>\n",
       "      <th>2</th>\n",
       "      <td>https://www.indeed.co.uk/rc/clk?jk=7548e60a487...</td>\n",
       "      <td>A career within Forensics Technology services,...</td>\n",
       "    </tr>\n",
       "    <tr>\n",
       "      <th>3</th>\n",
       "      <td>https://www.indeed.co.uk/rc/clk?jk=cae641d93a8...</td>\n",
       "      <td>White Collar Factory (95009), United Kingdom, ...</td>\n",
       "    </tr>\n",
       "    <tr>\n",
       "      <th>4</th>\n",
       "      <td>https://www.indeed.co.uk/rc/clk?jk=ef47bc3a6fc...</td>\n",
       "      <td>We are a digitally native technology services ...</td>\n",
       "    </tr>\n",
       "  </tbody>\n",
       "</table>\n",
       "</div>"
      ],
      "text/plain": [
       "                                             job_url  \\\n",
       "0  https://www.indeed.co.uk/pagead/clk?mo=r&ad=-6...   \n",
       "1  https://www.indeed.co.uk/rc/clk?jk=e96b45c3c7a...   \n",
       "2  https://www.indeed.co.uk/rc/clk?jk=7548e60a487...   \n",
       "3  https://www.indeed.co.uk/rc/clk?jk=cae641d93a8...   \n",
       "4  https://www.indeed.co.uk/rc/clk?jk=ef47bc3a6fc...   \n",
       "\n",
       "                                           job_descr  \n",
       "0  We would like to reassure all applicants that ...  \n",
       "1  Job Title: Artificial Intelligence – Data Scie...  \n",
       "2  A career within Forensics Technology services,...  \n",
       "3  White Collar Factory (95009), United Kingdom, ...  \n",
       "4  We are a digitally native technology services ...  "
      ]
     },
     "execution_count": 24,
     "metadata": {},
     "output_type": "execute_result"
    }
   ],
   "source": [
    "ds_jobs = pd.read_pickle('ds_jobs_raw.pkl')\n",
    "ds_jobs.head()"
   ]
  },
  {
   "cell_type": "code",
   "execution_count": 25,
   "metadata": {},
   "outputs": [
    {
     "name": "stdout",
     "output_type": "stream",
     "text": [
      "<class 'pandas.core.frame.DataFrame'>\n",
      "RangeIndex: 510 entries, 0 to 509\n",
      "Data columns (total 2 columns):\n",
      " #   Column     Non-Null Count  Dtype \n",
      "---  ------     --------------  ----- \n",
      " 0   job_url    510 non-null    object\n",
      " 1   job_descr  510 non-null    object\n",
      "dtypes: object(2)\n",
      "memory usage: 8.1+ KB\n"
     ]
    }
   ],
   "source": [
    "ds_jobs.info()"
   ]
  },
  {
   "cell_type": "code",
   "execution_count": 26,
   "metadata": {},
   "outputs": [
    {
     "data": {
      "text/plain": [
       "247"
      ]
     },
     "execution_count": 26,
     "metadata": {},
     "output_type": "execute_result"
    }
   ],
   "source": [
    "ds_jobs.job_descr.nunique()"
   ]
  },
  {
   "cell_type": "code",
   "execution_count": 27,
   "metadata": {},
   "outputs": [
    {
     "data": {
      "text/plain": [
       "253"
      ]
     },
     "execution_count": 27,
     "metadata": {},
     "output_type": "execute_result"
    }
   ],
   "source": [
    "ds_jobs.job_url.nunique()"
   ]
  },
  {
   "cell_type": "markdown",
   "metadata": {},
   "source": [
    "It's very odd that we'd see different numbers of duplicates between the two columnns. Given that it's the text we're most interested in, we're gonna drop duplicates via the job description column first."
   ]
  },
  {
   "cell_type": "code",
   "execution_count": 28,
   "metadata": {},
   "outputs": [],
   "source": [
    "ds_jobs.drop_duplicates(inplace=True, subset='job_descr')"
   ]
  },
  {
   "cell_type": "code",
   "execution_count": 29,
   "metadata": {},
   "outputs": [
    {
     "data": {
      "text/plain": [
       "(247, 2)"
      ]
     },
     "execution_count": 29,
     "metadata": {},
     "output_type": "execute_result"
    }
   ],
   "source": [
    "ds_jobs.shape"
   ]
  },
  {
   "cell_type": "code",
   "execution_count": 30,
   "metadata": {},
   "outputs": [
    {
     "data": {
      "text/html": [
       "<div>\n",
       "<style scoped>\n",
       "    .dataframe tbody tr th:only-of-type {\n",
       "        vertical-align: middle;\n",
       "    }\n",
       "\n",
       "    .dataframe tbody tr th {\n",
       "        vertical-align: top;\n",
       "    }\n",
       "\n",
       "    .dataframe thead th {\n",
       "        text-align: right;\n",
       "    }\n",
       "</style>\n",
       "<table border=\"1\" class=\"dataframe\">\n",
       "  <thead>\n",
       "    <tr style=\"text-align: right;\">\n",
       "      <th></th>\n",
       "      <th>job_url</th>\n",
       "      <th>job_descr</th>\n",
       "    </tr>\n",
       "  </thead>\n",
       "  <tbody>\n",
       "    <tr>\n",
       "      <th>0</th>\n",
       "      <td>https://www.indeed.co.uk/pagead/clk?mo=r&amp;ad=-6...</td>\n",
       "      <td>We would like to reassure all applicants that ...</td>\n",
       "    </tr>\n",
       "    <tr>\n",
       "      <th>1</th>\n",
       "      <td>https://www.indeed.co.uk/rc/clk?jk=e96b45c3c7a...</td>\n",
       "      <td>Job Title: Artificial Intelligence – Data Scie...</td>\n",
       "    </tr>\n",
       "    <tr>\n",
       "      <th>2</th>\n",
       "      <td>https://www.indeed.co.uk/rc/clk?jk=7548e60a487...</td>\n",
       "      <td>A career within Forensics Technology services,...</td>\n",
       "    </tr>\n",
       "    <tr>\n",
       "      <th>3</th>\n",
       "      <td>https://www.indeed.co.uk/rc/clk?jk=cae641d93a8...</td>\n",
       "      <td>White Collar Factory (95009), United Kingdom, ...</td>\n",
       "    </tr>\n",
       "    <tr>\n",
       "      <th>4</th>\n",
       "      <td>https://www.indeed.co.uk/rc/clk?jk=ef47bc3a6fc...</td>\n",
       "      <td>We are a digitally native technology services ...</td>\n",
       "    </tr>\n",
       "  </tbody>\n",
       "</table>\n",
       "</div>"
      ],
      "text/plain": [
       "                                             job_url  \\\n",
       "0  https://www.indeed.co.uk/pagead/clk?mo=r&ad=-6...   \n",
       "1  https://www.indeed.co.uk/rc/clk?jk=e96b45c3c7a...   \n",
       "2  https://www.indeed.co.uk/rc/clk?jk=7548e60a487...   \n",
       "3  https://www.indeed.co.uk/rc/clk?jk=cae641d93a8...   \n",
       "4  https://www.indeed.co.uk/rc/clk?jk=ef47bc3a6fc...   \n",
       "\n",
       "                                           job_descr  \n",
       "0  We would like to reassure all applicants that ...  \n",
       "1  Job Title: Artificial Intelligence – Data Scie...  \n",
       "2  A career within Forensics Technology services,...  \n",
       "3  White Collar Factory (95009), United Kingdom, ...  \n",
       "4  We are a digitally native technology services ...  "
      ]
     },
     "execution_count": 30,
     "metadata": {},
     "output_type": "execute_result"
    }
   ],
   "source": [
    "ds_jobs.head()"
   ]
  },
  {
   "cell_type": "code",
   "execution_count": 56,
   "metadata": {
    "scrolled": true
   },
   "outputs": [
    {
     "data": {
      "text/plain": [
       "FreqDist({'and': 5750, 'the': 3771, 'data': 2189, 'with': 1557, 'you': 1326, 'for': 1302, 'our': 1149, 'experience': 860, 'will': 801, 'are': 777, ...})"
      ]
     },
     "execution_count": 56,
     "metadata": {},
     "output_type": "execute_result"
    }
   ],
   "source": [
    "final_str = []\n",
    "job_descr_list = [text for text in ds_jobs.job_descr.values]\n",
    "for job in job_descr_list:\n",
    "    tokenized_job = tokenizer.tokenize(job)\n",
    "    for token in tokenized_job:\n",
    "        final_str.append(token)\n",
    "        \n",
    "f_dist = FreqDist([word.lower() for word in final_str])\n",
    "f_dist"
   ]
  },
  {
   "cell_type": "code",
   "execution_count": 78,
   "metadata": {},
   "outputs": [
    {
     "data": {
      "image/png": "[encoded data removed]",
      "text/plain": [
       "<Figure size 720x720 with 1 Axes>"
      ]
     },
     "metadata": {},
     "output_type": "display_data"
    }
   ],
   "source": [
    "plt.figure(figsize=(10,10))\n",
    "f_dist.plot(20);"
   ]
  },
  {
   "cell_type": "code",
   "execution_count": null,
   "metadata": {},
   "outputs": [],
   "source": [
    "final_str = []\n",
    "job_descr_list = [text for text in ds_jobs.job_descr.values]\n",
    "for job in job_descr_list:\n",
    "    tokenized_job = tokenizer.tokenize(job)\n",
    "    for token in tokenized_job:\n",
    "        if token not in stop_words:\n",
    "            final_str.append(token)\n",
    "        \n",
    "f_dist = FreqDist([word.lower() for word in final_str])\n",
    "\n",
    "plt.figure(figsize=(10,10))\n",
    "f_dist.plot(20);"
   ]
  },
  {
   "cell_type": "markdown",
   "metadata": {},
   "source": [
    "<a id=numerical ><a/> \n",
    "\n",
    "## 2. Cleaning numerical data\n",
    "    \n",
    "[LINK to table of contents](#contents)"
   ]
  },
  {
   "cell_type": "code",
   "execution_count": null,
   "metadata": {},
   "outputs": [],
   "source": []
  },
  {
   "cell_type": "markdown",
   "metadata": {},
   "source": [
    "<a id=categ ><a/> \n",
    "\n",
    "## 3. Cleaning categorical data\n",
    "   \n",
    "[LINK to table of contents](#contents)"
   ]
  },
  {
   "cell_type": "code",
   "execution_count": null,
   "metadata": {},
   "outputs": [],
   "source": []
  },
  {
   "cell_type": "markdown",
   "metadata": {},
   "source": [
    "<a id=text ><a/> \n",
    "\n",
    "## 4. Cleaning text data\n",
    "    \n",
    "[LINK to table of contents](#contents)"
   ]
  },
  {
   "cell_type": "code",
   "execution_count": null,
   "metadata": {},
   "outputs": [],
   "source": []
  },
  {
   "cell_type": "code",
   "execution_count": null,
   "metadata": {},
   "outputs": [],
   "source": []
  }
 ],
 "metadata": {
  "kernelspec": {
   "display_name": "learn-env",
   "language": "python",
   "name": "learn-env"
  },
  "language_info": {
   "codemirror_mode": {
    "name": "ipython",
    "version": 3
   },
   "file_extension": ".py",
   "mimetype": "text/x-python",
   "name": "python",
   "nbconvert_exporter": "python",
   "pygments_lexer": "ipython3",
   "version": "3.6.10"
  }
 },
 "nbformat": 4,
 "nbformat_minor": 4
}
