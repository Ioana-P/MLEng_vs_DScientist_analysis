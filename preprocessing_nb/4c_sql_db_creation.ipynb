{
 "cells": [
  {
   "cell_type": "code",
   "execution_count": 223,
   "metadata": {},
   "outputs": [],
   "source": [
    "import sqlalchemy as db\n",
    "import pandas as pd\n",
    "\n",
    "from sqlalchemy import Integer, ForeignKey, String, Column\n",
    "from sqlalchemy.ext.declarative import declarative_base\n",
    "from sqlalchemy.orm import relationship"
   ]
  },
  {
   "cell_type": "code",
   "execution_count": 224,
   "metadata": {},
   "outputs": [],
   "source": [
    "engine = db.create_engine('sqlite:///scraped_jobs.sqlite')"
   ]
  },
  {
   "cell_type": "code",
   "execution_count": 225,
   "metadata": {},
   "outputs": [],
   "source": [
    "connection = engine.connect()\n"
   ]
  },
  {
   "cell_type": "code",
   "execution_count": 226,
   "metadata": {},
   "outputs": [],
   "source": [
    "# Base = declarative_base()\n",
    "\n",
    "# class "
   ]
  },
  {
   "cell_type": "code",
   "execution_count": 227,
   "metadata": {},
   "outputs": [
    {
     "name": "stderr",
     "output_type": "stream",
     "text": [
      "/Users/ipreoteasa/opt/anaconda3/envs/learn-env/lib/python3.6/site-packages/sqlalchemy/sql/base.py:302: SAWarning: Can't validate argument 'foreign_key'; can't locate any SQLAlchemy dialect named 'foreign'\n",
      "  % (k, dialect_name)\n"
     ]
    }
   ],
   "source": [
    "metadata = db.MetaData()\n",
    "\n",
    "salaries = db.Table('salaries', metadata,\n",
    "                   db.Column('Job_Id', db.Integer(), primary_key=True),\n",
    "                   db.Column('Job_Name', db.String(255), nullable = False),\n",
    "                   db.Column('Org_Name', db.String(255), nullable = True),\n",
    "                   db.Column('Salary', db.Integer()))\n",
    "\n",
    "salary_period = db.Table('salary_period', metadata,\n",
    "                   db.Column('Job_Id', db.Integer(), foreign_key=True),\n",
    "                   db.Column('Salary_Time_Period', db.String(255), nullable = True),\n",
    "                   db.Column('Salary_Converted_Hourly', db.Integer()))\n",
    "\n",
    "\n",
    "job_search = db.Table('job_search', metadata,\n",
    "                   db.Column('Job_Id', db.Integer(), foreign_key=True),\n",
    "                   db.Column('Searched_data_scientist', db.Boolean()),\n",
    "                   db.Column('Searched_machine_learning_engineer', db.Boolean()),\n",
    "                   db.Column('Searched_data_analyst', db.Boolean(), ))\n",
    "\n",
    "metadata.create_all(engine)"
   ]
  },
  {
   "cell_type": "code",
   "execution_count": 228,
   "metadata": {},
   "outputs": [
    {
     "data": {
      "text/html": [
       "<div>\n",
       "<style scoped>\n",
       "    .dataframe tbody tr th:only-of-type {\n",
       "        vertical-align: middle;\n",
       "    }\n",
       "\n",
       "    .dataframe tbody tr th {\n",
       "        vertical-align: top;\n",
       "    }\n",
       "\n",
       "    .dataframe thead th {\n",
       "        text-align: right;\n",
       "    }\n",
       "</style>\n",
       "<table border=\"1\" class=\"dataframe\">\n",
       "  <thead>\n",
       "    <tr style=\"text-align: right;\">\n",
       "      <th></th>\n",
       "      <th>Job_Id</th>\n",
       "      <th>Job_Name</th>\n",
       "      <th>Salary</th>\n",
       "      <th>Salary_Time_Period</th>\n",
       "    </tr>\n",
       "  </thead>\n",
       "  <tbody>\n",
       "  </tbody>\n",
       "</table>\n",
       "</div>"
      ],
      "text/plain": [
       "Empty DataFrame\n",
       "Columns: [Job_Id, Job_Name, Salary, Salary_Time_Period]\n",
       "Index: []"
      ]
     },
     "execution_count": 228,
     "metadata": {},
     "output_type": "execute_result"
    }
   ],
   "source": [
    "t = pd.read_sql_query('''SELECT s.Job_Id, Job_Name, Salary, Salary_Time_Period \n",
    "                      FROM salaries s JOIN salary_period p ON s.Job_Id = p.Job_Id\n",
    "                      WHERE Salary_Time_Period == 'Y' ''', connection)\n",
    "t"
   ]
  },
  {
   "cell_type": "code",
   "execution_count": 229,
   "metadata": {},
   "outputs": [
    {
     "data": {
      "text/html": [
       "<div>\n",
       "<style scoped>\n",
       "    .dataframe tbody tr th:only-of-type {\n",
       "        vertical-align: middle;\n",
       "    }\n",
       "\n",
       "    .dataframe tbody tr th {\n",
       "        vertical-align: top;\n",
       "    }\n",
       "\n",
       "    .dataframe thead th {\n",
       "        text-align: right;\n",
       "    }\n",
       "</style>\n",
       "<table border=\"1\" class=\"dataframe\">\n",
       "  <thead>\n",
       "    <tr style=\"text-align: right;\">\n",
       "      <th></th>\n",
       "      <th>company</th>\n",
       "      <th>job_title</th>\n",
       "      <th>job_descr</th>\n",
       "      <th>job_url</th>\n",
       "      <th>job_location</th>\n",
       "      <th>searched_data_analyst</th>\n",
       "      <th>searched__data_scientist</th>\n",
       "      <th>searched__machine_learning_engineer</th>\n",
       "      <th>salary_from_page_source_as_stated</th>\n",
       "      <th>salary_from_page_source_conv_hourly</th>\n",
       "      <th>salary_from_page_source_time_period</th>\n",
       "      <th>Num_reviews</th>\n",
       "      <th>id</th>\n",
       "    </tr>\n",
       "  </thead>\n",
       "  <tbody>\n",
       "    <tr>\n",
       "      <th>0</th>\n",
       "      <td>Medicines and Healthcare products Regulatory A...</td>\n",
       "      <td>CPRD Data Scientist</td>\n",
       "      <td>would like reassure all applicant that recruit...</td>\n",
       "      <td>https://www.indeed.co.uk/pagead/clk?mo=r&amp;ad=-6...</td>\n",
       "      <td>NaN</td>\n",
       "      <td>0</td>\n",
       "      <td>1</td>\n",
       "      <td>0</td>\n",
       "      <td>39853.0</td>\n",
       "      <td>21.0</td>\n",
       "      <td>Y</td>\n",
       "      <td>18.0</td>\n",
       "      <td>0</td>\n",
       "    </tr>\n",
       "    <tr>\n",
       "      <th>1</th>\n",
       "      <td>PwC</td>\n",
       "      <td>Deals - Investigative Analytics - Data Scienti...</td>\n",
       "      <td>career within Forensics Technology service wil...</td>\n",
       "      <td>https://www.indeed.co.uk/rc/clk?jk=7548e60a487...</td>\n",
       "      <td>NaN</td>\n",
       "      <td>0</td>\n",
       "      <td>1</td>\n",
       "      <td>0</td>\n",
       "      <td>NaN</td>\n",
       "      <td>NaN</td>\n",
       "      <td>NaN</td>\n",
       "      <td>7678.0</td>\n",
       "      <td>1</td>\n",
       "    </tr>\n",
       "  </tbody>\n",
       "</table>\n",
       "</div>"
      ],
      "text/plain": [
       "                                             company  \\\n",
       "0  Medicines and Healthcare products Regulatory A...   \n",
       "1                                                PwC   \n",
       "\n",
       "                                           job_title  \\\n",
       "0                                CPRD Data Scientist   \n",
       "1  Deals - Investigative Analytics - Data Scienti...   \n",
       "\n",
       "                                           job_descr  \\\n",
       "0  would like reassure all applicant that recruit...   \n",
       "1  career within Forensics Technology service wil...   \n",
       "\n",
       "                                             job_url job_location  \\\n",
       "0  https://www.indeed.co.uk/pagead/clk?mo=r&ad=-6...          NaN   \n",
       "1  https://www.indeed.co.uk/rc/clk?jk=7548e60a487...          NaN   \n",
       "\n",
       "   searched_data_analyst  searched__data_scientist  \\\n",
       "0                      0                         1   \n",
       "1                      0                         1   \n",
       "\n",
       "   searched__machine_learning_engineer  salary_from_page_source_as_stated  \\\n",
       "0                                    0                            39853.0   \n",
       "1                                    0                                NaN   \n",
       "\n",
       "   salary_from_page_source_conv_hourly salary_from_page_source_time_period  \\\n",
       "0                                 21.0                                   Y   \n",
       "1                                  NaN                                 NaN   \n",
       "\n",
       "   Num_reviews  id  \n",
       "0         18.0   0  \n",
       "1       7678.0   1  "
      ]
     },
     "execution_count": 229,
     "metadata": {},
     "output_type": "execute_result"
    }
   ],
   "source": [
    "df = pd.read_csv('../clean_data/jobs.csv', index_col=0)\n",
    "# df.rename({'Unnamed: 0': 'Job Id'},)\n",
    "df.head(2)"
   ]
  },
  {
   "cell_type": "code",
   "execution_count": 230,
   "metadata": {},
   "outputs": [
    {
     "name": "stderr",
     "output_type": "stream",
     "text": [
      "/Users/ipreoteasa/opt/anaconda3/envs/learn-env/lib/python3.6/site-packages/pandas/core/frame.py:4133: SettingWithCopyWarning: \n",
      "A value is trying to be set on a copy of a slice from a DataFrame\n",
      "\n",
      "See the caveats in the documentation: https://pandas.pydata.org/pandas-docs/stable/user_guide/indexing.html#returning-a-view-versus-a-copy\n",
      "  errors=errors,\n"
     ]
    },
    {
     "data": {
      "text/html": [
       "<div>\n",
       "<style scoped>\n",
       "    .dataframe tbody tr th:only-of-type {\n",
       "        vertical-align: middle;\n",
       "    }\n",
       "\n",
       "    .dataframe tbody tr th {\n",
       "        vertical-align: top;\n",
       "    }\n",
       "\n",
       "    .dataframe thead th {\n",
       "        text-align: right;\n",
       "    }\n",
       "</style>\n",
       "<table border=\"1\" class=\"dataframe\">\n",
       "  <thead>\n",
       "    <tr style=\"text-align: right;\">\n",
       "      <th></th>\n",
       "      <th>Job_Id</th>\n",
       "      <th>Job_Name</th>\n",
       "      <th>Org_Name</th>\n",
       "      <th>Salary</th>\n",
       "    </tr>\n",
       "  </thead>\n",
       "  <tbody>\n",
       "    <tr>\n",
       "      <th>0</th>\n",
       "      <td>0</td>\n",
       "      <td>CPRD Data Scientist</td>\n",
       "      <td>Medicines and Healthcare products Regulatory A...</td>\n",
       "      <td>39853.0</td>\n",
       "    </tr>\n",
       "    <tr>\n",
       "      <th>1</th>\n",
       "      <td>1</td>\n",
       "      <td>Deals - Investigative Analytics - Data Scienti...</td>\n",
       "      <td>PwC</td>\n",
       "      <td>NaN</td>\n",
       "    </tr>\n",
       "    <tr>\n",
       "      <th>2</th>\n",
       "      <td>2</td>\n",
       "      <td>Data Scientist - Cyber</td>\n",
       "      <td>Capital One - UK</td>\n",
       "      <td>NaN</td>\n",
       "    </tr>\n",
       "    <tr>\n",
       "      <th>3</th>\n",
       "      <td>3</td>\n",
       "      <td>Lead Data Scientist</td>\n",
       "      <td>Globant</td>\n",
       "      <td>NaN</td>\n",
       "    </tr>\n",
       "    <tr>\n",
       "      <th>4</th>\n",
       "      <td>4</td>\n",
       "      <td>G4 Lead Data Scientist - Cyber</td>\n",
       "      <td>UK Government - National Crime Agency</td>\n",
       "      <td>35846.0</td>\n",
       "    </tr>\n",
       "  </tbody>\n",
       "</table>\n",
       "</div>"
      ],
      "text/plain": [
       "   Job_Id                                           Job_Name  \\\n",
       "0       0                                CPRD Data Scientist   \n",
       "1       1  Deals - Investigative Analytics - Data Scienti...   \n",
       "2       2                             Data Scientist - Cyber   \n",
       "3       3                                Lead Data Scientist   \n",
       "4       4                     G4 Lead Data Scientist - Cyber   \n",
       "\n",
       "                                            Org_Name   Salary  \n",
       "0  Medicines and Healthcare products Regulatory A...  39853.0  \n",
       "1                                                PwC      NaN  \n",
       "2                                   Capital One - UK      NaN  \n",
       "3                                            Globant      NaN  \n",
       "4              UK Government - National Crime Agency  35846.0  "
      ]
     },
     "execution_count": 230,
     "metadata": {},
     "output_type": "execute_result"
    }
   ],
   "source": [
    "salaries_df = df[['id', 'job_title', 'company', 'salary_from_page_source_as_stated']]\n",
    "salaries_df.rename({'id': 'Job_Id', 'job_title': 'Job_Name', 'company':'Org_Name', 'salary_from_page_source_as_stated':'Salary'}, axis=1, inplace=True)\n",
    "salaries_df.head()"
   ]
  },
  {
   "cell_type": "code",
   "execution_count": 231,
   "metadata": {},
   "outputs": [],
   "source": [
    "salaries_df.to_sql('salaries', \n",
    "                  connection,\n",
    "                  if_exists='append',index=False)"
   ]
  },
  {
   "cell_type": "code",
   "execution_count": 232,
   "metadata": {},
   "outputs": [
    {
     "name": "stderr",
     "output_type": "stream",
     "text": [
      "/Users/ipreoteasa/opt/anaconda3/envs/learn-env/lib/python3.6/site-packages/pandas/core/frame.py:4133: SettingWithCopyWarning: \n",
      "A value is trying to be set on a copy of a slice from a DataFrame\n",
      "\n",
      "See the caveats in the documentation: https://pandas.pydata.org/pandas-docs/stable/user_guide/indexing.html#returning-a-view-versus-a-copy\n",
      "  errors=errors,\n"
     ]
    },
    {
     "data": {
      "text/html": [
       "<div>\n",
       "<style scoped>\n",
       "    .dataframe tbody tr th:only-of-type {\n",
       "        vertical-align: middle;\n",
       "    }\n",
       "\n",
       "    .dataframe tbody tr th {\n",
       "        vertical-align: top;\n",
       "    }\n",
       "\n",
       "    .dataframe thead th {\n",
       "        text-align: right;\n",
       "    }\n",
       "</style>\n",
       "<table border=\"1\" class=\"dataframe\">\n",
       "  <thead>\n",
       "    <tr style=\"text-align: right;\">\n",
       "      <th></th>\n",
       "      <th>Job_Id</th>\n",
       "      <th>Salary_Converted_Hourly</th>\n",
       "      <th>Salary_Time_Period</th>\n",
       "    </tr>\n",
       "  </thead>\n",
       "  <tbody>\n",
       "    <tr>\n",
       "      <th>0</th>\n",
       "      <td>0</td>\n",
       "      <td>21.0</td>\n",
       "      <td>Y</td>\n",
       "    </tr>\n",
       "    <tr>\n",
       "      <th>1</th>\n",
       "      <td>1</td>\n",
       "      <td>NaN</td>\n",
       "      <td>NaN</td>\n",
       "    </tr>\n",
       "  </tbody>\n",
       "</table>\n",
       "</div>"
      ],
      "text/plain": [
       "   Job_Id  Salary_Converted_Hourly Salary_Time_Period\n",
       "0       0                     21.0                  Y\n",
       "1       1                      NaN                NaN"
      ]
     },
     "execution_count": 232,
     "metadata": {},
     "output_type": "execute_result"
    }
   ],
   "source": [
    "period_df = df[['id', 'salary_from_page_source_conv_hourly', 'salary_from_page_source_time_period']]\n",
    "period_df.rename({'id': 'Job_Id', 'salary_from_page_source_conv_hourly': 'Salary_Converted_Hourly', 'salary_from_page_source_time_period':'Salary_Time_Period'}, axis=1, inplace=True)\n",
    "period_df.head(2)"
   ]
  },
  {
   "cell_type": "code",
   "execution_count": 233,
   "metadata": {},
   "outputs": [
    {
     "name": "stderr",
     "output_type": "stream",
     "text": [
      "/Users/ipreoteasa/opt/anaconda3/envs/learn-env/lib/python3.6/site-packages/ipykernel_launcher.py:1: SettingWithCopyWarning: \n",
      "A value is trying to be set on a copy of a slice from a DataFrame\n",
      "\n",
      "See the caveats in the documentation: https://pandas.pydata.org/pandas-docs/stable/user_guide/indexing.html#returning-a-view-versus-a-copy\n",
      "  \"\"\"Entry point for launching an IPython kernel.\n"
     ]
    },
    {
     "data": {
      "text/html": [
       "<div>\n",
       "<style scoped>\n",
       "    .dataframe tbody tr th:only-of-type {\n",
       "        vertical-align: middle;\n",
       "    }\n",
       "\n",
       "    .dataframe tbody tr th {\n",
       "        vertical-align: top;\n",
       "    }\n",
       "\n",
       "    .dataframe thead th {\n",
       "        text-align: right;\n",
       "    }\n",
       "</style>\n",
       "<table border=\"1\" class=\"dataframe\">\n",
       "  <thead>\n",
       "    <tr style=\"text-align: right;\">\n",
       "      <th></th>\n",
       "      <th>Job_Id</th>\n",
       "      <th>Salary_Converted_Hourly</th>\n",
       "      <th>Salary_Time_Period</th>\n",
       "    </tr>\n",
       "  </thead>\n",
       "  <tbody>\n",
       "    <tr>\n",
       "      <th>0</th>\n",
       "      <td>0</td>\n",
       "      <td>21.00</td>\n",
       "      <td>Y</td>\n",
       "    </tr>\n",
       "    <tr>\n",
       "      <th>4</th>\n",
       "      <td>4</td>\n",
       "      <td>18.89</td>\n",
       "      <td>Y</td>\n",
       "    </tr>\n",
       "    <tr>\n",
       "      <th>7</th>\n",
       "      <td>7</td>\n",
       "      <td>42.15</td>\n",
       "      <td>Y</td>\n",
       "    </tr>\n",
       "    <tr>\n",
       "      <th>8</th>\n",
       "      <td>8</td>\n",
       "      <td>13.17</td>\n",
       "      <td>Y</td>\n",
       "    </tr>\n",
       "    <tr>\n",
       "      <th>11</th>\n",
       "      <td>11</td>\n",
       "      <td>80.00</td>\n",
       "      <td>H</td>\n",
       "    </tr>\n",
       "  </tbody>\n",
       "</table>\n",
       "</div>"
      ],
      "text/plain": [
       "    Job_Id  Salary_Converted_Hourly Salary_Time_Period\n",
       "0        0                    21.00                  Y\n",
       "4        4                    18.89                  Y\n",
       "7        7                    42.15                  Y\n",
       "8        8                    13.17                  Y\n",
       "11      11                    80.00                  H"
      ]
     },
     "execution_count": 233,
     "metadata": {},
     "output_type": "execute_result"
    }
   ],
   "source": [
    "period_df.dropna(inplace=True)\n",
    "period_df.head()"
   ]
  },
  {
   "cell_type": "code",
   "execution_count": 234,
   "metadata": {},
   "outputs": [],
   "source": [
    "period_df.to_sql('salary_period', \n",
    "                  connection,\n",
    "                  if_exists='append',index=False)"
   ]
  },
  {
   "cell_type": "code",
   "execution_count": 235,
   "metadata": {},
   "outputs": [
    {
     "name": "stderr",
     "output_type": "stream",
     "text": [
      "/Users/ipreoteasa/opt/anaconda3/envs/learn-env/lib/python3.6/site-packages/pandas/core/frame.py:4133: SettingWithCopyWarning: \n",
      "A value is trying to be set on a copy of a slice from a DataFrame\n",
      "\n",
      "See the caveats in the documentation: https://pandas.pydata.org/pandas-docs/stable/user_guide/indexing.html#returning-a-view-versus-a-copy\n",
      "  errors=errors,\n"
     ]
    },
    {
     "data": {
      "text/html": [
       "<div>\n",
       "<style scoped>\n",
       "    .dataframe tbody tr th:only-of-type {\n",
       "        vertical-align: middle;\n",
       "    }\n",
       "\n",
       "    .dataframe tbody tr th {\n",
       "        vertical-align: top;\n",
       "    }\n",
       "\n",
       "    .dataframe thead th {\n",
       "        text-align: right;\n",
       "    }\n",
       "</style>\n",
       "<table border=\"1\" class=\"dataframe\">\n",
       "  <thead>\n",
       "    <tr style=\"text-align: right;\">\n",
       "      <th></th>\n",
       "      <th>Job_Id</th>\n",
       "      <th>Searched_data_scientist</th>\n",
       "      <th>Searched_data_analyst</th>\n",
       "      <th>Searched_machine_learning_engineer</th>\n",
       "    </tr>\n",
       "  </thead>\n",
       "  <tbody>\n",
       "    <tr>\n",
       "      <th>0</th>\n",
       "      <td>0</td>\n",
       "      <td>1</td>\n",
       "      <td>0</td>\n",
       "      <td>0</td>\n",
       "    </tr>\n",
       "    <tr>\n",
       "      <th>1</th>\n",
       "      <td>1</td>\n",
       "      <td>1</td>\n",
       "      <td>0</td>\n",
       "      <td>0</td>\n",
       "    </tr>\n",
       "  </tbody>\n",
       "</table>\n",
       "</div>"
      ],
      "text/plain": [
       "   Job_Id  Searched_data_scientist  Searched_data_analyst  \\\n",
       "0       0                        1                      0   \n",
       "1       1                        1                      0   \n",
       "\n",
       "   Searched_machine_learning_engineer  \n",
       "0                                   0  \n",
       "1                                   0  "
      ]
     },
     "execution_count": 235,
     "metadata": {},
     "output_type": "execute_result"
    }
   ],
   "source": [
    "search_df = df[['id', 'searched__data_scientist', 'searched_data_analyst', 'searched__machine_learning_engineer']]\n",
    "search_df.rename({'id': 'Job_Id', 'searched__data_scientist': 'Searched_data_scientist', \n",
    "                  'searched_data_analyst': 'Searched_data_analyst', \n",
    "                  'searched__machine_learning_engineer':'Searched_machine_learning_engineer'}, axis=1, inplace=True)\n",
    "search_df.head(2)"
   ]
  },
  {
   "cell_type": "code",
   "execution_count": 236,
   "metadata": {},
   "outputs": [],
   "source": [
    "search_df.to_sql('job_search', connection, if_exists='append', index=False)"
   ]
  },
  {
   "cell_type": "code",
   "execution_count": 237,
   "metadata": {},
   "outputs": [
    {
     "data": {
      "text/html": [
       "<div>\n",
       "<style scoped>\n",
       "    .dataframe tbody tr th:only-of-type {\n",
       "        vertical-align: middle;\n",
       "    }\n",
       "\n",
       "    .dataframe tbody tr th {\n",
       "        vertical-align: top;\n",
       "    }\n",
       "\n",
       "    .dataframe thead th {\n",
       "        text-align: right;\n",
       "    }\n",
       "</style>\n",
       "<table border=\"1\" class=\"dataframe\">\n",
       "  <thead>\n",
       "    <tr style=\"text-align: right;\">\n",
       "      <th></th>\n",
       "      <th>Job_Id</th>\n",
       "      <th>Job_Name</th>\n",
       "      <th>Salary</th>\n",
       "      <th>Salary_Time_Period</th>\n",
       "    </tr>\n",
       "  </thead>\n",
       "  <tbody>\n",
       "  </tbody>\n",
       "</table>\n",
       "</div>"
      ],
      "text/plain": [
       "Empty DataFrame\n",
       "Columns: [Job_Id, Job_Name, Salary, Salary_Time_Period]\n",
       "Index: []"
      ]
     },
     "execution_count": 237,
     "metadata": {},
     "output_type": "execute_result"
    }
   ],
   "source": [
    "t.loc[t.Job_Name.str.contains('(?<![\\w\\d])Lead(?![\\w\\d])')]"
   ]
  },
  {
   "cell_type": "code",
   "execution_count": 238,
   "metadata": {},
   "outputs": [
    {
     "data": {
      "text/html": [
       "<div>\n",
       "<style scoped>\n",
       "    .dataframe tbody tr th:only-of-type {\n",
       "        vertical-align: middle;\n",
       "    }\n",
       "\n",
       "    .dataframe tbody tr th {\n",
       "        vertical-align: top;\n",
       "    }\n",
       "\n",
       "    .dataframe thead th {\n",
       "        text-align: right;\n",
       "    }\n",
       "</style>\n",
       "<table border=\"1\" class=\"dataframe\">\n",
       "  <thead>\n",
       "    <tr style=\"text-align: right;\">\n",
       "      <th></th>\n",
       "      <th>Job_Id</th>\n",
       "      <th>Searched_data_scientist</th>\n",
       "      <th>Searched_machine_learning_engineer</th>\n",
       "      <th>Searched_data_analyst</th>\n",
       "    </tr>\n",
       "  </thead>\n",
       "  <tbody>\n",
       "    <tr>\n",
       "      <th>0</th>\n",
       "      <td>0</td>\n",
       "      <td>1</td>\n",
       "      <td>0</td>\n",
       "      <td>0</td>\n",
       "    </tr>\n",
       "    <tr>\n",
       "      <th>1</th>\n",
       "      <td>1</td>\n",
       "      <td>1</td>\n",
       "      <td>0</td>\n",
       "      <td>0</td>\n",
       "    </tr>\n",
       "    <tr>\n",
       "      <th>2</th>\n",
       "      <td>2</td>\n",
       "      <td>1</td>\n",
       "      <td>0</td>\n",
       "      <td>0</td>\n",
       "    </tr>\n",
       "    <tr>\n",
       "      <th>3</th>\n",
       "      <td>3</td>\n",
       "      <td>1</td>\n",
       "      <td>0</td>\n",
       "      <td>0</td>\n",
       "    </tr>\n",
       "    <tr>\n",
       "      <th>4</th>\n",
       "      <td>4</td>\n",
       "      <td>1</td>\n",
       "      <td>0</td>\n",
       "      <td>0</td>\n",
       "    </tr>\n",
       "    <tr>\n",
       "      <th>...</th>\n",
       "      <td>...</td>\n",
       "      <td>...</td>\n",
       "      <td>...</td>\n",
       "      <td>...</td>\n",
       "    </tr>\n",
       "    <tr>\n",
       "      <th>2206</th>\n",
       "      <td>2206</td>\n",
       "      <td>0</td>\n",
       "      <td>0</td>\n",
       "      <td>1</td>\n",
       "    </tr>\n",
       "    <tr>\n",
       "      <th>2207</th>\n",
       "      <td>2207</td>\n",
       "      <td>0</td>\n",
       "      <td>0</td>\n",
       "      <td>1</td>\n",
       "    </tr>\n",
       "    <tr>\n",
       "      <th>2208</th>\n",
       "      <td>2208</td>\n",
       "      <td>0</td>\n",
       "      <td>0</td>\n",
       "      <td>1</td>\n",
       "    </tr>\n",
       "    <tr>\n",
       "      <th>2209</th>\n",
       "      <td>2209</td>\n",
       "      <td>0</td>\n",
       "      <td>0</td>\n",
       "      <td>1</td>\n",
       "    </tr>\n",
       "    <tr>\n",
       "      <th>2210</th>\n",
       "      <td>2210</td>\n",
       "      <td>0</td>\n",
       "      <td>0</td>\n",
       "      <td>1</td>\n",
       "    </tr>\n",
       "  </tbody>\n",
       "</table>\n",
       "<p>2211 rows × 4 columns</p>\n",
       "</div>"
      ],
      "text/plain": [
       "      Job_Id  Searched_data_scientist  Searched_machine_learning_engineer  \\\n",
       "0          0                        1                                   0   \n",
       "1          1                        1                                   0   \n",
       "2          2                        1                                   0   \n",
       "3          3                        1                                   0   \n",
       "4          4                        1                                   0   \n",
       "...      ...                      ...                                 ...   \n",
       "2206    2206                        0                                   0   \n",
       "2207    2207                        0                                   0   \n",
       "2208    2208                        0                                   0   \n",
       "2209    2209                        0                                   0   \n",
       "2210    2210                        0                                   0   \n",
       "\n",
       "      Searched_data_analyst  \n",
       "0                         0  \n",
       "1                         0  \n",
       "2                         0  \n",
       "3                         0  \n",
       "4                         0  \n",
       "...                     ...  \n",
       "2206                      1  \n",
       "2207                      1  \n",
       "2208                      1  \n",
       "2209                      1  \n",
       "2210                      1  \n",
       "\n",
       "[2211 rows x 4 columns]"
      ]
     },
     "execution_count": 238,
     "metadata": {},
     "output_type": "execute_result"
    }
   ],
   "source": [
    "pd.read_sql_query(\"\"\"SELECT * FROM job_search\"\"\", connection)"
   ]
  },
  {
   "cell_type": "code",
   "execution_count": 264,
   "metadata": {},
   "outputs": [
    {
     "data": {
      "text/html": [
       "<div>\n",
       "<style scoped>\n",
       "    .dataframe tbody tr th:only-of-type {\n",
       "        vertical-align: middle;\n",
       "    }\n",
       "\n",
       "    .dataframe tbody tr th {\n",
       "        vertical-align: top;\n",
       "    }\n",
       "\n",
       "    .dataframe thead th {\n",
       "        text-align: right;\n",
       "    }\n",
       "</style>\n",
       "<table border=\"1\" class=\"dataframe\">\n",
       "  <thead>\n",
       "    <tr style=\"text-align: right;\">\n",
       "      <th></th>\n",
       "      <th>Job_Id</th>\n",
       "      <th>Job_Name</th>\n",
       "      <th>Org_Name</th>\n",
       "      <th>Salary</th>\n",
       "      <th>Searched_data_scientist</th>\n",
       "    </tr>\n",
       "  </thead>\n",
       "  <tbody>\n",
       "  </tbody>\n",
       "</table>\n",
       "</div>"
      ],
      "text/plain": [
       "Empty DataFrame\n",
       "Columns: [Job_Id, Job_Name, Org_Name, Salary, Searched_data_scientist]\n",
       "Index: []"
      ]
     },
     "execution_count": 264,
     "metadata": {},
     "output_type": "execute_result"
    }
   ],
   "source": [
    "pd.read_sql_query('''SELECT s.Job_Id, Job_Name, Org_Name, Salary                                 \n",
    "                            FROM salaries s JOIN job_search j ON s.Job_Id == j.Job_Id \n",
    "                            JOIN salary_period p on s.Job_Id == p.Job_Id\n",
    "                            WHERE Salary IS NOT NULL AND \n",
    "                                   (j.Searched_data_scientist == 1 AND\n",
    "                                   j.Searched_data_analyst == 1 AND\n",
    "                                   j.Searched_machine_learning_engineer == 0) \n",
    "                                   \n",
    "                                   AND\n",
    "                                   p.Salary_Time_Period == 'Y' \n",
    "                            LIMIT 1000\n",
    "                             ''', \n",
    "                  connection)"
   ]
  },
  {
   "cell_type": "code",
   "execution_count": null,
   "metadata": {},
   "outputs": [],
   "source": []
  },
  {
   "cell_type": "code",
   "execution_count": null,
   "metadata": {},
   "outputs": [],
   "source": []
  },
  {
   "cell_type": "code",
   "execution_count": null,
   "metadata": {},
   "outputs": [],
   "source": []
  }
 ],
 "metadata": {
  "kernelspec": {
   "display_name": "learn-env",
   "language": "python",
   "name": "learn-env"
  },
  "language_info": {
   "codemirror_mode": {
    "name": "ipython",
    "version": 3
   },
   "file_extension": ".py",
   "mimetype": "text/x-python",
   "name": "python",
   "nbconvert_exporter": "python",
   "pygments_lexer": "ipython3",
   "version": "3.6.10"
  }
 },
 "nbformat": 4,
 "nbformat_minor": 4
}
