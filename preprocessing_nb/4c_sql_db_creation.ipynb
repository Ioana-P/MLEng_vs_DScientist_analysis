{
 "cells": [
  {
   "cell_type": "code",
   "execution_count": 8,
   "metadata": {},
   "outputs": [],
   "source": [
    "import sqlalchemy as db\n",
    "import pandas as pd"
   ]
  },
  {
   "cell_type": "code",
   "execution_count": 45,
   "metadata": {},
   "outputs": [],
   "source": [
    "engine = db.create_engine('sqlite:///scraped_jobs.sqlite')"
   ]
  },
  {
   "cell_type": "code",
   "execution_count": 46,
   "metadata": {},
   "outputs": [],
   "source": [
    "connection = engine.connect()\n"
   ]
  },
  {
   "cell_type": "code",
   "execution_count": 63,
   "metadata": {},
   "outputs": [
    {
     "name": "stderr",
     "output_type": "stream",
     "text": [
      "/Users/ipreoteasa/opt/anaconda3/envs/learn-env/lib/python3.6/site-packages/sqlalchemy/sql/base.py:302: SAWarning: Can't validate argument 'foreign_key'; can't locate any SQLAlchemy dialect named 'foreign'\n",
      "  % (k, dialect_name)\n"
     ]
    }
   ],
   "source": [
    "metadata = db.MetaData()\n",
    "\n",
    "salaries = db.Table('salaries', metadata,\n",
    "                   db.Column('Job_Id', db.Integer(), primary_key=True),\n",
    "                   db.Column('Job_Name', db.String(255), nullable = False),\n",
    "                   db.Column('Salary', db.Integer()))\n",
    "\n",
    "salary_period = db.Table('salary_period', metadata,\n",
    "                   db.Column('Job_Id', db.Integer(), foreign_key=True),\n",
    "                   db.Column('Salary_Time_Period', db.String(255), nullable = True),\n",
    "                   db.Column('Salary_Converted_Hourly', db.Integer()),\n",
    "                   db.Column('Salary_Id', db.Integer(), primary_key=True))\n",
    "\n",
    "job_description = db.Table('job_description', metadata,\n",
    "                   db.Column('Job_Id', db.Integer(), foreign_key=True),\n",
    "                   db.Column('Company_Name', db.String(255), nullable=False),\n",
    "                   db.Column('Job_Description', db.String()),\n",
    "                   db.Column('Descr_Id', db.Integer(), primary_key=True))\n",
    "\n",
    "job_search = db.Table('job_search', metadata,\n",
    "                   db.Column('Job_Id', db.Integer(), foreign_key=True),\n",
    "                   db.Column('searched__data_scientist', db.Boolean()),\n",
    "                   db.Column('searched__machine_learning_engineer', db.Boolean()),\n",
    "                   db.Column('searched_data_analyst', db.Boolean(), ))\n",
    "\n",
    "metadata.create_all(engine)"
   ]
  },
  {
   "cell_type": "code",
   "execution_count": 86,
   "metadata": {},
   "outputs": [
    {
     "data": {
      "text/html": [
       "<div>\n",
       "<style scoped>\n",
       "    .dataframe tbody tr th:only-of-type {\n",
       "        vertical-align: middle;\n",
       "    }\n",
       "\n",
       "    .dataframe tbody tr th {\n",
       "        vertical-align: top;\n",
       "    }\n",
       "\n",
       "    .dataframe thead th {\n",
       "        text-align: right;\n",
       "    }\n",
       "</style>\n",
       "<table border=\"1\" class=\"dataframe\">\n",
       "  <thead>\n",
       "    <tr style=\"text-align: right;\">\n",
       "      <th></th>\n",
       "      <th>Salary</th>\n",
       "    </tr>\n",
       "  </thead>\n",
       "  <tbody>\n",
       "    <tr>\n",
       "      <th>0</th>\n",
       "      <td>39853.0</td>\n",
       "    </tr>\n",
       "    <tr>\n",
       "      <th>1</th>\n",
       "      <td>NaN</td>\n",
       "    </tr>\n",
       "    <tr>\n",
       "      <th>2</th>\n",
       "      <td>NaN</td>\n",
       "    </tr>\n",
       "    <tr>\n",
       "      <th>3</th>\n",
       "      <td>NaN</td>\n",
       "    </tr>\n",
       "    <tr>\n",
       "      <th>4</th>\n",
       "      <td>35846.0</td>\n",
       "    </tr>\n",
       "    <tr>\n",
       "      <th>...</th>\n",
       "      <td>...</td>\n",
       "    </tr>\n",
       "    <tr>\n",
       "      <th>2206</th>\n",
       "      <td>60000.0</td>\n",
       "    </tr>\n",
       "    <tr>\n",
       "      <th>2207</th>\n",
       "      <td>NaN</td>\n",
       "    </tr>\n",
       "    <tr>\n",
       "      <th>2208</th>\n",
       "      <td>95000.0</td>\n",
       "    </tr>\n",
       "    <tr>\n",
       "      <th>2209</th>\n",
       "      <td>300.0</td>\n",
       "    </tr>\n",
       "    <tr>\n",
       "      <th>2210</th>\n",
       "      <td>NaN</td>\n",
       "    </tr>\n",
       "  </tbody>\n",
       "</table>\n",
       "<p>2211 rows × 1 columns</p>\n",
       "</div>"
      ],
      "text/plain": [
       "       Salary\n",
       "0     39853.0\n",
       "1         NaN\n",
       "2         NaN\n",
       "3         NaN\n",
       "4     35846.0\n",
       "...       ...\n",
       "2206  60000.0\n",
       "2207      NaN\n",
       "2208  95000.0\n",
       "2209    300.0\n",
       "2210      NaN\n",
       "\n",
       "[2211 rows x 1 columns]"
      ]
     },
     "execution_count": 86,
     "metadata": {},
     "output_type": "execute_result"
    }
   ],
   "source": [
    "pd.read_sql_query('SELECT Salary FROM salaries', connection)"
   ]
  },
  {
   "cell_type": "code",
   "execution_count": 50,
   "metadata": {},
   "outputs": [
    {
     "data": {
      "text/html": [
       "<div>\n",
       "<style scoped>\n",
       "    .dataframe tbody tr th:only-of-type {\n",
       "        vertical-align: middle;\n",
       "    }\n",
       "\n",
       "    .dataframe tbody tr th {\n",
       "        vertical-align: top;\n",
       "    }\n",
       "\n",
       "    .dataframe thead th {\n",
       "        text-align: right;\n",
       "    }\n",
       "</style>\n",
       "<table border=\"1\" class=\"dataframe\">\n",
       "  <thead>\n",
       "    <tr style=\"text-align: right;\">\n",
       "      <th></th>\n",
       "      <th>company</th>\n",
       "      <th>job_title</th>\n",
       "      <th>job_descr</th>\n",
       "      <th>job_url</th>\n",
       "      <th>job_location</th>\n",
       "      <th>searched_data_analyst</th>\n",
       "      <th>searched__data_scientist</th>\n",
       "      <th>searched__machine_learning_engineer</th>\n",
       "      <th>salary_from_page_source_as_stated</th>\n",
       "      <th>salary_from_page_source_conv_hourly</th>\n",
       "      <th>salary_from_page_source_time_period</th>\n",
       "      <th>Num_reviews</th>\n",
       "      <th>id</th>\n",
       "    </tr>\n",
       "  </thead>\n",
       "  <tbody>\n",
       "    <tr>\n",
       "      <th>0</th>\n",
       "      <td>Medicines and Healthcare products Regulatory A...</td>\n",
       "      <td>CPRD Data Scientist</td>\n",
       "      <td>would like reassure all applicant that recruit...</td>\n",
       "      <td>https://www.indeed.co.uk/pagead/clk?mo=r&amp;ad=-6...</td>\n",
       "      <td>NaN</td>\n",
       "      <td>0</td>\n",
       "      <td>1</td>\n",
       "      <td>0</td>\n",
       "      <td>39853.0</td>\n",
       "      <td>21.0</td>\n",
       "      <td>Y</td>\n",
       "      <td>18.0</td>\n",
       "      <td>0</td>\n",
       "    </tr>\n",
       "    <tr>\n",
       "      <th>1</th>\n",
       "      <td>PwC</td>\n",
       "      <td>Deals - Investigative Analytics - Data Scienti...</td>\n",
       "      <td>career within Forensics Technology service wil...</td>\n",
       "      <td>https://www.indeed.co.uk/rc/clk?jk=7548e60a487...</td>\n",
       "      <td>NaN</td>\n",
       "      <td>0</td>\n",
       "      <td>1</td>\n",
       "      <td>0</td>\n",
       "      <td>NaN</td>\n",
       "      <td>NaN</td>\n",
       "      <td>NaN</td>\n",
       "      <td>7678.0</td>\n",
       "      <td>1</td>\n",
       "    </tr>\n",
       "  </tbody>\n",
       "</table>\n",
       "</div>"
      ],
      "text/plain": [
       "                                             company  \\\n",
       "0  Medicines and Healthcare products Regulatory A...   \n",
       "1                                                PwC   \n",
       "\n",
       "                                           job_title  \\\n",
       "0                                CPRD Data Scientist   \n",
       "1  Deals - Investigative Analytics - Data Scienti...   \n",
       "\n",
       "                                           job_descr  \\\n",
       "0  would like reassure all applicant that recruit...   \n",
       "1  career within Forensics Technology service wil...   \n",
       "\n",
       "                                             job_url job_location  \\\n",
       "0  https://www.indeed.co.uk/pagead/clk?mo=r&ad=-6...          NaN   \n",
       "1  https://www.indeed.co.uk/rc/clk?jk=7548e60a487...          NaN   \n",
       "\n",
       "   searched_data_analyst  searched__data_scientist  \\\n",
       "0                      0                         1   \n",
       "1                      0                         1   \n",
       "\n",
       "   searched__machine_learning_engineer  salary_from_page_source_as_stated  \\\n",
       "0                                    0                            39853.0   \n",
       "1                                    0                                NaN   \n",
       "\n",
       "   salary_from_page_source_conv_hourly salary_from_page_source_time_period  \\\n",
       "0                                 21.0                                   Y   \n",
       "1                                  NaN                                 NaN   \n",
       "\n",
       "   Num_reviews  id  \n",
       "0         18.0   0  \n",
       "1       7678.0   1  "
      ]
     },
     "execution_count": 50,
     "metadata": {},
     "output_type": "execute_result"
    }
   ],
   "source": [
    "df = pd.read_csv('../clean_data/jobs.csv', index_col=0)\n",
    "# df.rename({'Unnamed: 0': 'Job Id'},)\n",
    "df.head(2)"
   ]
  },
  {
   "cell_type": "code",
   "execution_count": 51,
   "metadata": {},
   "outputs": [
    {
     "data": {
      "text/html": [
       "<div>\n",
       "<style scoped>\n",
       "    .dataframe tbody tr th:only-of-type {\n",
       "        vertical-align: middle;\n",
       "    }\n",
       "\n",
       "    .dataframe tbody tr th {\n",
       "        vertical-align: top;\n",
       "    }\n",
       "\n",
       "    .dataframe thead th {\n",
       "        text-align: right;\n",
       "    }\n",
       "</style>\n",
       "<table border=\"1\" class=\"dataframe\">\n",
       "  <thead>\n",
       "    <tr style=\"text-align: right;\">\n",
       "      <th></th>\n",
       "      <th>id</th>\n",
       "      <th>job_title</th>\n",
       "      <th>salary_from_page_source_as_stated</th>\n",
       "    </tr>\n",
       "  </thead>\n",
       "  <tbody>\n",
       "    <tr>\n",
       "      <th>0</th>\n",
       "      <td>0</td>\n",
       "      <td>CPRD Data Scientist</td>\n",
       "      <td>39853.0</td>\n",
       "    </tr>\n",
       "    <tr>\n",
       "      <th>1</th>\n",
       "      <td>1</td>\n",
       "      <td>Deals - Investigative Analytics - Data Scienti...</td>\n",
       "      <td>NaN</td>\n",
       "    </tr>\n",
       "    <tr>\n",
       "      <th>2</th>\n",
       "      <td>2</td>\n",
       "      <td>Data Scientist - Cyber</td>\n",
       "      <td>NaN</td>\n",
       "    </tr>\n",
       "    <tr>\n",
       "      <th>3</th>\n",
       "      <td>3</td>\n",
       "      <td>Lead Data Scientist</td>\n",
       "      <td>NaN</td>\n",
       "    </tr>\n",
       "    <tr>\n",
       "      <th>4</th>\n",
       "      <td>4</td>\n",
       "      <td>G4 Lead Data Scientist - Cyber</td>\n",
       "      <td>35846.0</td>\n",
       "    </tr>\n",
       "  </tbody>\n",
       "</table>\n",
       "</div>"
      ],
      "text/plain": [
       "   id                                          job_title  \\\n",
       "0   0                                CPRD Data Scientist   \n",
       "1   1  Deals - Investigative Analytics - Data Scienti...   \n",
       "2   2                             Data Scientist - Cyber   \n",
       "3   3                                Lead Data Scientist   \n",
       "4   4                     G4 Lead Data Scientist - Cyber   \n",
       "\n",
       "   salary_from_page_source_as_stated  \n",
       "0                            39853.0  \n",
       "1                                NaN  \n",
       "2                                NaN  \n",
       "3                                NaN  \n",
       "4                            35846.0  "
      ]
     },
     "execution_count": 51,
     "metadata": {},
     "output_type": "execute_result"
    }
   ],
   "source": [
    "salaries_df = df[['id', 'job_title', 'salary_from_page_source_as_stated']]\n",
    "salaries_df.head()"
   ]
  },
  {
   "cell_type": "code",
   "execution_count": 52,
   "metadata": {},
   "outputs": [
    {
     "name": "stderr",
     "output_type": "stream",
     "text": [
      "/Users/ipreoteasa/opt/anaconda3/envs/learn-env/lib/python3.6/site-packages/pandas/core/frame.py:4133: SettingWithCopyWarning: \n",
      "A value is trying to be set on a copy of a slice from a DataFrame\n",
      "\n",
      "See the caveats in the documentation: https://pandas.pydata.org/pandas-docs/stable/user_guide/indexing.html#returning-a-view-versus-a-copy\n",
      "  errors=errors,\n"
     ]
    }
   ],
   "source": [
    "salaries_df.rename({'id': 'Job_Id', 'job_title': 'Job_Name', 'salary_from_page_source_as_stated':'Salary'}, axis=1, inplace=True)"
   ]
  },
  {
   "cell_type": "code",
   "execution_count": 53,
   "metadata": {},
   "outputs": [
    {
     "data": {
      "text/html": [
       "<div>\n",
       "<style scoped>\n",
       "    .dataframe tbody tr th:only-of-type {\n",
       "        vertical-align: middle;\n",
       "    }\n",
       "\n",
       "    .dataframe tbody tr th {\n",
       "        vertical-align: top;\n",
       "    }\n",
       "\n",
       "    .dataframe thead th {\n",
       "        text-align: right;\n",
       "    }\n",
       "</style>\n",
       "<table border=\"1\" class=\"dataframe\">\n",
       "  <thead>\n",
       "    <tr style=\"text-align: right;\">\n",
       "      <th></th>\n",
       "      <th>Job_Id</th>\n",
       "      <th>Job_Name</th>\n",
       "      <th>Salary</th>\n",
       "    </tr>\n",
       "  </thead>\n",
       "  <tbody>\n",
       "    <tr>\n",
       "      <th>0</th>\n",
       "      <td>0</td>\n",
       "      <td>CPRD Data Scientist</td>\n",
       "      <td>39853.0</td>\n",
       "    </tr>\n",
       "    <tr>\n",
       "      <th>1</th>\n",
       "      <td>1</td>\n",
       "      <td>Deals - Investigative Analytics - Data Scienti...</td>\n",
       "      <td>NaN</td>\n",
       "    </tr>\n",
       "    <tr>\n",
       "      <th>2</th>\n",
       "      <td>2</td>\n",
       "      <td>Data Scientist - Cyber</td>\n",
       "      <td>NaN</td>\n",
       "    </tr>\n",
       "    <tr>\n",
       "      <th>3</th>\n",
       "      <td>3</td>\n",
       "      <td>Lead Data Scientist</td>\n",
       "      <td>NaN</td>\n",
       "    </tr>\n",
       "    <tr>\n",
       "      <th>4</th>\n",
       "      <td>4</td>\n",
       "      <td>G4 Lead Data Scientist - Cyber</td>\n",
       "      <td>35846.0</td>\n",
       "    </tr>\n",
       "  </tbody>\n",
       "</table>\n",
       "</div>"
      ],
      "text/plain": [
       "   Job_Id                                           Job_Name   Salary\n",
       "0       0                                CPRD Data Scientist  39853.0\n",
       "1       1  Deals - Investigative Analytics - Data Scienti...      NaN\n",
       "2       2                             Data Scientist - Cyber      NaN\n",
       "3       3                                Lead Data Scientist      NaN\n",
       "4       4                     G4 Lead Data Scientist - Cyber  35846.0"
      ]
     },
     "execution_count": 53,
     "metadata": {},
     "output_type": "execute_result"
    }
   ],
   "source": [
    "salaries_df.head()"
   ]
  },
  {
   "cell_type": "code",
   "execution_count": 54,
   "metadata": {},
   "outputs": [],
   "source": [
    "salaries_df.to_sql('salaries', \n",
    "                  connection,\n",
    "                  if_exists='append',index=False)"
   ]
  },
  {
   "cell_type": "code",
   "execution_count": 84,
   "metadata": {},
   "outputs": [
    {
     "data": {
      "text/html": [
       "<div>\n",
       "<style scoped>\n",
       "    .dataframe tbody tr th:only-of-type {\n",
       "        vertical-align: middle;\n",
       "    }\n",
       "\n",
       "    .dataframe tbody tr th {\n",
       "        vertical-align: top;\n",
       "    }\n",
       "\n",
       "    .dataframe thead th {\n",
       "        text-align: right;\n",
       "    }\n",
       "</style>\n",
       "<table border=\"1\" class=\"dataframe\">\n",
       "  <thead>\n",
       "    <tr style=\"text-align: right;\">\n",
       "      <th></th>\n",
       "      <th>Job_Name</th>\n",
       "      <th>Salary</th>\n",
       "    </tr>\n",
       "  </thead>\n",
       "  <tbody>\n",
       "  </tbody>\n",
       "</table>\n",
       "</div>"
      ],
      "text/plain": [
       "Empty DataFrame\n",
       "Columns: [Job_Name, Salary]\n",
       "Index: []"
      ]
     },
     "execution_count": 84,
     "metadata": {},
     "output_type": "execute_result"
    }
   ],
   "source": [
    "pd.read_sql_query('''SELECT Job_Name, Salary \n",
    "                  FROM salaries \n",
    "                  WHERE Salary IS NOT NULL & Salary > 40000 & Job_Name REGEXP 'D'\n",
    "                  LIMIT 10''', \n",
    "                  connection)"
   ]
  },
  {
   "cell_type": "code",
   "execution_count": null,
   "metadata": {},
   "outputs": [],
   "source": []
  }
 ],
 "metadata": {
  "kernelspec": {
   "display_name": "learn-env",
   "language": "python",
   "name": "learn-env"
  },
  "language_info": {
   "codemirror_mode": {
    "name": "ipython",
    "version": 3
   },
   "file_extension": ".py",
   "mimetype": "text/x-python",
   "name": "python",
   "nbconvert_exporter": "python",
   "pygments_lexer": "ipython3",
   "version": "3.6.10"
  }
 },
 "nbformat": 4,
 "nbformat_minor": 4
}
